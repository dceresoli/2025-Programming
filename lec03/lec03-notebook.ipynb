{
 "cells": [
  {
   "cell_type": "markdown",
   "id": "4835615d",
   "metadata": {},
   "source": [
    "# Programming for Chemistry 2025/2026 @ UniMI\n",
    "![logo](logo_small.png \"Logo\")\n",
    "## Lecture 03: Lists, tuples, set, dictionaries, strings\n",
    "Up to now we have seen how to store *scalar type*, i.e. single values into variables.\n",
    "\n",
    "There are four collection data types in the Python programming language:\n",
    "1. **List** is a collection which is **ordered** and **changeable**. **Allows duplicate** members.\n",
    "2. **Tuple** is a collection which is **ordered** and **unchangeable**. **Allows duplicate** members.\n",
    "3. **Set** is a collection which is **unordered**, **unchangeable**, and **unindexed**. **No duplicate** members.\n",
    "4. **Dictionary** is a collection which is **ordered** (1) and **changeable**. **No duplicate** members.\n",
    "\n",
    "(1) As of Python version 3.7, dictionaries are ordered. In Python 3.6 and earlier, dictionaries are unordered.\n",
    "\n",
    "When choosing a collection type, it is useful to understand the properties of that type. Choosing the right type for a particular data set could mean retention of meaning, and, it could mean an increase in efficiency or security."
   ]
  },
  {
   "cell_type": "markdown",
   "id": "1ad7551f",
   "metadata": {},
   "source": [
    "## 1. Lists\n",
    "A Python **list** is a fundamental data structure that holds an ordered sequence of elements. These elements can be of any data type, including integers, strings, floats, and even other lists. Lists are **mutable**, meaning you can change, add, or remove elements after the list has been created. They are also defined by square brackets `[]`.\n"
   ]
  },
  {
   "cell_type": "markdown",
   "id": "ec78b34b",
   "metadata": {},
   "source": [
    "### 1.1 Creating a list\n",
    "There are several ways to create a list. The simplest is to assign a sequence of elements to a variable, enclosed in square brackets. List items can be of any type, even other lists, tuples, etc..."
   ]
  },
  {
   "cell_type": "code",
   "execution_count": null,
   "id": "1051a1b6",
   "metadata": {},
   "outputs": [],
   "source": [
    "# A list of integers\n",
    "my_numbers = [1, 2, 3, 4, 5]\n",
    "\n",
    "# A list of strings\n",
    "my_fruits = [\"apple\", \"banana\", \"cherry\"]\n",
    "\n",
    "# A list with mixed data types\n",
    "mixed_list = [10, \"hello\", 3.14, True]\n",
    "\n",
    "# An empty list\n",
    "empty_list = []"
   ]
  },
  {
   "cell_type": "code",
   "execution_count": null,
   "id": "b9c85ed9",
   "metadata": {},
   "outputs": [],
   "source": [
    "print(my_numbers)"
   ]
  },
  {
   "cell_type": "markdown",
   "id": "3bb52245",
   "metadata": {},
   "source": [
    "### 1.2 Accessing list items\n",
    "You can access individual elements in a list using **indexing**.\n",
    "\n",
    "Python uses **zero-based indexing**, meaning the first element is at index 0, the second at index 1, and so on. You can also use **negative indexing** to access elements from the end of the list, where -1 is the last element, -2 is the second to last, and so on.\n",
    "\n",
    "The number of elements in the list is given by the `len(..)` function."
   ]
  },
  {
   "cell_type": "code",
   "execution_count": null,
   "id": "883ed5ed",
   "metadata": {},
   "outputs": [],
   "source": [
    "my_list = [\"a\", \"b\", \"c\", \"d\"]\n",
    "\n",
    "print(\"number of elements:\", len(my_list))\n",
    "\n",
    "print(my_list[0])\n",
    "print(my_list[-1])\n",
    "print(my_list[6])"
   ]
  },
  {
   "cell_type": "markdown",
   "id": "50ff34c4",
   "metadata": {},
   "source": [
    "### 1.3 Slicing a list\n",
    "Slicing allows you to extract a sub-list (a *slice*) from a larger list. The syntax for slicing is `[start:stop:step]`.\n",
    "  - `start`: The index where the slice begins (inclusive).\n",
    "  - `stop`: The index where the slice ends (exclusive), like in the `range` statement.\n",
    "  - `step`: The number of items to skip between elements (optional, defaults to 1).\n"
   ]
  },
  {
   "cell_type": "code",
   "execution_count": null,
   "id": "798364a7",
   "metadata": {},
   "outputs": [],
   "source": [
    "my_list = [\"a\", \"b\", \"c\", \"d\", \"e\", \"f\"]\n",
    "\n",
    "# Slice from index 1 up to (but not including) index 4\n",
    "print(my_list[1:4])\n",
    "\n",
    "# Slice from the beginning to index 3\n",
    "print(my_list[:3])\n",
    "\n",
    "# Slice from index 2 to the end\n",
    "print(my_list[2:])\n",
    "\n",
    "# Slice with a step of 2\n",
    "print(my_list[0:6:2])\n",
    "\n",
    "# Reverse a list\n",
    "print(my_list[::-1])"
   ]
  },
  {
   "cell_type": "markdown",
   "id": "32be6686",
   "metadata": {},
   "source": [
    "### 1.4 Modyfing lists\n",
    "Since lists are mutable, you can change their contents."
   ]
  },
  {
   "cell_type": "code",
   "execution_count": null,
   "id": "5b7ac3d2",
   "metadata": {},
   "outputs": [],
   "source": [
    "my_list = [\"apple\", \"banana\", \"cherry\"]\n",
    "my_list[1] = \"orange\"\n",
    "print(my_list) # Output: ['apple', 'orange', 'cherry']"
   ]
  },
  {
   "cell_type": "markdown",
   "id": "1d5caa89",
   "metadata": {},
   "source": [
    "### 1.5 Adding elements\n",
    "  - `append(item)`: Adds an element to the **end** of the list.\n",
    "  - `insert(index, item)`: Inserts an element at a **specific index**.\n",
    "  - `extend(iterable)`: Adds all elements from an iterable (like another list) to the end of the current list."
   ]
  },
  {
   "cell_type": "code",
   "execution_count": null,
   "id": "73e10299",
   "metadata": {},
   "outputs": [],
   "source": [
    "my_list = [\"a\", \"b\", \"c\"]\n",
    "my_list.append(\"d\")\n",
    "print(my_list)\n",
    "\n",
    "my_list.insert(1, \"X\")\n",
    "print(my_list)\n",
    "\n",
    "another_list = [\"Y\", \"Z\"]\n",
    "my_list.extend(another_list)\n",
    "print(my_list)\n",
    "\n",
    "my_list.append(another_list)    # note the difference!\n",
    "print(my_list)"
   ]
  },
  {
   "cell_type": "markdown",
   "id": "7a2a4937",
   "metadata": {},
   "source": [
    "* You can join two lists using the `+` operator.\n",
    "* You can replicate a list using the `*` operator."
   ]
  },
  {
   "cell_type": "code",
   "execution_count": null,
   "id": "8e34fc34",
   "metadata": {},
   "outputs": [],
   "source": [
    "letters = [\"a\", \"b\", \"c\"]\n",
    "numbers = [1, 2]\n",
    "\n",
    "my_list = letters + numbers\n",
    "print(my_list)\n",
    "\n",
    "my_list = my_list * 3\n",
    "print(my_list)"
   ]
  },
  {
   "cell_type": "markdown",
   "id": "5cda68f2",
   "metadata": {},
   "source": [
    "### 1.6 Removing elements\n",
    "\n",
    "  - `remove(value)`: Removes the **first occurrence** of a specified value.\n",
    "  - `pop(index)`: Removes and returns the element at a **specific index**. If no index is provided, it removes and returns the last element.\n",
    "  - `del list[index]`: Deletes the element at a specific index. You can also use `del` to remove a slice.\n",
    "  - `clear()`: Removes all elements from the list, making it empty.\n"
   ]
  },
  {
   "cell_type": "code",
   "execution_count": null,
   "id": "e20f361c",
   "metadata": {},
   "outputs": [],
   "source": [
    "my_list = [\"a\", \"b\", \"c\", \"b\"]\n",
    "\n",
    "# Remove by value\n",
    "my_list.remove(\"b\")\n",
    "print(my_list)\n",
    "\n",
    "# Remove by index\n",
    "popped_element = my_list.pop(1)\n",
    "print(f\"Popped element: {popped_element}, List: {my_list}\")\n",
    "\n",
    "# Delete by index\n",
    "del my_list[0]\n",
    "print(my_list)"
   ]
  },
  {
   "cell_type": "markdown",
   "id": "bda0643a",
   "metadata": {},
   "source": [
    "### 1.7 Determine if an element is in a list\n",
    "To determine if a specified item is present in a list use the `in` or `not in` keyword."
   ]
  },
  {
   "cell_type": "code",
   "execution_count": null,
   "id": "7a4d36e5",
   "metadata": {},
   "outputs": [],
   "source": [
    "my_list = [\"apple\", \"banana\", \"cherry\"]\n",
    "\n",
    "if \"apple\" in my_list:\n",
    "    print(\"Yes, 'apple' is in the fruits list\") \n",
    "\n",
    "if \"raspberry\" not in my_list:\n",
    "    print(\"No, 'raspberry' is not in the fruits list\") "
   ]
  },
  {
   "cell_type": "markdown",
   "id": "23ef1ee2",
   "metadata": {},
   "source": [
    "### 1.8 Copy a list\n",
    "If you assign a list to an other variable, you create an **alias** of the first list, rather than a copy. Modifying the alias also modifies the original list. To make a copy, use the `copy()` method."
   ]
  },
  {
   "cell_type": "code",
   "execution_count": null,
   "id": "11703e25",
   "metadata": {},
   "outputs": [],
   "source": [
    "my_list = [\"apple\", \"banana\", \"cherry\"]\n",
    "your_list = my_list                         # alias!\n",
    "your_list[0] = \"raspberry\"\n",
    "print(my_list, your_list)"
   ]
  },
  {
   "cell_type": "code",
   "execution_count": null,
   "id": "6bf60401",
   "metadata": {},
   "outputs": [],
   "source": [
    "my_list = [\"apple\", \"banana\", \"cherry\"]\n",
    "your_list = my_list.copy()                  # copy!\n",
    "your_list[0] = \"raspberry\"\n",
    "print(my_list, your_list)"
   ]
  },
  {
   "cell_type": "markdown",
   "id": "d1ef190c",
   "metadata": {},
   "source": [
    "### 1.9 Iterating over a list\n",
    "You can use the `for` .. `in` list *statement* to loop over all items."
   ]
  },
  {
   "cell_type": "code",
   "execution_count": null,
   "id": "5cdc201f",
   "metadata": {},
   "outputs": [],
   "source": [
    "my_list = [\"apple\", \"banana\", \"cherry\"]\n",
    "\n",
    "for fruit in my_list:\n",
    "    print(fruit)\n",
    "\n",
    "print()\n",
    "\n",
    "for i, fruit in enumerate(my_list):\n",
    "    print(f\"{i:2d} {fruit}\")"
   ]
  },
  {
   "cell_type": "markdown",
   "id": "40ee1c3a",
   "metadata": {},
   "source": [
    "### 1.10 List methods\n",
    "Python has a set of built-in methods that you can use on lists.\n",
    "\n",
    "|Method |\tDescription |\n",
    "|---|---|\n",
    "|append()\t|Adds an element at the end of the list|\n",
    "|clear()\t|Removes all the elements from the list|\n",
    "|copy()\t    |Returns a copy of the list|\n",
    "|count()\t|Returns the number of elements with the specified value|\n",
    "|extend()\t|Add the elements of a list (or any iterable), to the end of the current list|\n",
    "|index()\t|Returns the index of the first element with the specified value|\n",
    "|insert()\t|Adds an element at the specified position|\n",
    "|pop()\t    |Removes the element at the specified position|\n",
    "|remove()\t|Removes the first item with the specified value|\n",
    "|reverse()\t|Reverses the order of the list|\n",
    "|sort()\t    |Sorts the list|\n",
    "\n",
    "You can find the full documentation [here](https://docs.python.org/3/tutorial/datastructures.html#more-on-lists).\n"
   ]
  },
  {
   "cell_type": "markdown",
   "id": "71fe58e5",
   "metadata": {},
   "source": [
    "### Exercise 1\n",
    "**Create a simple \"shopping list\" program.**\n",
    "- Start with a list of a few items, e.g., `shopping_list = ['milk', 'bread', 'eggs']`.\n",
    "- Ask the user for three new items to add to the list.\n",
    "- Use `append()` to add each new item.\n",
    "- Print the final list.\n",
    "- Bonus: Ask the user for one item to remove and use `remove()` to delete it."
   ]
  },
  {
   "cell_type": "code",
   "execution_count": null,
   "id": "80bdced0",
   "metadata": {},
   "outputs": [],
   "source": [
    "shopping_list = ['milk', 'bread', 'eggs']\n",
    "# complete the cell\n",
    "\n",
    "\n",
    "print(\"The final shopping list is:\")\n",
    "print(shopping_list)"
   ]
  },
  {
   "cell_type": "markdown",
   "id": "39ae879b",
   "metadata": {},
   "source": [
    "### Exercise 2\n",
    "\n",
    "**Use various built-in list methods and functions to analyze a list of numbers.**\n",
    "* Start with a list of random numbers: `data = [15, 22, 10, 35, 18, 5, 25]`.\n",
    "* Find and print the **maximum** value using `max()`.\n",
    "* Find and print the **minimum** value using `min()`.\n",
    "* Find and print the **sum** of all numbers using `sum()`.\n",
    "* **Sort** the list in descending order and print the sorted list.\n",
    "* **Reverse** the sorted list and print the reversed list. "
   ]
  },
  {
   "cell_type": "code",
   "execution_count": null,
   "id": "d4d453ab",
   "metadata": {},
   "outputs": [],
   "source": [
    "data = [15, 22, 10, 35, 18, 5, 25]\n",
    "# complete the cell\n"
   ]
  },
  {
   "cell_type": "markdown",
   "id": "35f07620",
   "metadata": {},
   "source": [
    "## 2. Tuples\n",
    "A Python **tuple** is a collection which is ordered and unchangeable. Like lists, **ordered** means that the order of the elements assigned to the tuple is preserved. **Duplicate** items are allowed."
   ]
  },
  {
   "cell_type": "markdown",
   "id": "9e2740ee",
   "metadata": {},
   "source": [
    "### 2.1 Creating a tuple\n",
    "Tuples are written with round brackets. A one-element tuple requires a `,`. Items can be of any type and mixed."
   ]
  },
  {
   "cell_type": "code",
   "execution_count": null,
   "id": "b4021d17",
   "metadata": {},
   "outputs": [],
   "source": [
    "my_tuple = (\"apple\", \"banana\", \"cherry\", \"apple\", \"cherry\")\n",
    "print(my_tuple)\n",
    "\n",
    "my_tuple = (1,)\n",
    "print(my_tuple)\n",
    "\n",
    "my_tuple = (\"abc\", 34, True, 40, \"male\")\n",
    "print(my_tuple)"
   ]
  },
  {
   "cell_type": "markdown",
   "id": "a77adce7",
   "metadata": {},
   "source": [
    "### 2.2 Accessing tuple items\n",
    "You can access tuple items by referring to the index number, inside square brackets, starting from **0**. Negative numbers count from the last element. Like lists, tuples can be sliced. The number of items is given by the `len(..)` function."
   ]
  },
  {
   "cell_type": "code",
   "execution_count": null,
   "id": "22ff3215",
   "metadata": {},
   "outputs": [],
   "source": [
    "my_tuple = (\"apple\", \"banana\", \"cherry\", \"orange\", \"kiwi\", \"melon\", \"mango\")\n",
    "print(\"number of items:\", len(my_tuple))\n",
    "\n",
    "print(my_tuple[1])\n",
    "print(my_tuple[-2])\n",
    "print(my_tuple[2:5])\n",
    "\n",
    "if \"apple\" in my_tuple:\n",
    "    print(\"Yes, 'apple' is in the fruits tuple\")\n",
    "\n",
    "my_tuple[0] = 'raspberry'     # error: tuples are immutable"
   ]
  },
  {
   "cell_type": "markdown",
   "id": "7e0ef2db",
   "metadata": {},
   "source": [
    "### 2.3 Iterating over a tuple\n",
    "You can use the `for` .. `in` list *statement* to loop over all items."
   ]
  },
  {
   "cell_type": "code",
   "execution_count": null,
   "id": "92df603a",
   "metadata": {},
   "outputs": [],
   "source": [
    "my_tuple = (\"apple\", \"banana\", \"cherry\")\n",
    "\n",
    "for fruit in my_tuple:\n",
    "    print(fruit)\n",
    "\n",
    "print()\n",
    "\n",
    "for i, fruit in enumerate(my_tuple):\n",
    "    print(f\"{i:2d} {fruit}\")"
   ]
  },
  {
   "cell_type": "markdown",
   "id": "b86fb6c2",
   "metadata": {},
   "source": [
    "### 2.4 Extending tuples\n",
    "* You can join two tuples using the `+` operator.\n",
    "* You can replicate a tuple using the `*` operator."
   ]
  },
  {
   "cell_type": "code",
   "execution_count": null,
   "id": "5f66b9c4",
   "metadata": {},
   "outputs": [],
   "source": [
    "letters = (\"a\", \"b\", \"c\")\n",
    "numbers = (1, 2)\n",
    "\n",
    "my_tuple = letters + numbers\n",
    "print(my_tuple)\n",
    "\n",
    "my_tuple = my_tuple * 3\n",
    "print(my_tuple)"
   ]
  },
  {
   "cell_type": "markdown",
   "id": "938bd55f",
   "metadata": {},
   "source": [
    "### 2.5 Tuple methods\n",
    "Python has a set of built-in methods that you can use on tuple.\n",
    "\n",
    "|Method |\tDescription |\n",
    "|---|---|\n",
    "|copy()\t    |Returns a copy of the list|\n",
    "|count()\t|Returns the number of elements with the specified value|\n",
    "|index()\t|Searches the tuple for a specified value and returns the position of where it was found|\n",
    "\n",
    "You can find the full documentation [here](https://docs.python.org/3/tutorial/datastructures.html#tuples-and-sequences)."
   ]
  },
  {
   "cell_type": "markdown",
   "id": "02911f36",
   "metadata": {},
   "source": [
    "## 3. Sets\n",
    "A Python **set** is a collection which is unordered, unchangeable, and unindexed. In reality set items are unchangeable, but you can remove items and add new items. The Python set behaves like a mathematical *set* with set operations like *union*, *intersection*, etc..."
   ]
  },
  {
   "cell_type": "markdown",
   "id": "ae11d47f",
   "metadata": {},
   "source": [
    "### 3.1 Creating a set\n",
    "Sets are written with curly brackets. Thay can contain different data type."
   ]
  },
  {
   "cell_type": "code",
   "execution_count": null,
   "id": "49ee67b4",
   "metadata": {},
   "outputs": [],
   "source": [
    "my_set = {\"apple\", \"banana\", \"cherry\", \"apple\"}\n",
    "print(len(my_set))\n",
    "print(my_set)"
   ]
  },
  {
   "cell_type": "markdown",
   "id": "e10a027c",
   "metadata": {},
   "source": [
    "### 3.2 Accessing and iterating over a set\n",
    "You can use the `for` .. `in` list statement to loop over all items. Note that the order of creation is not preserved."
   ]
  },
  {
   "cell_type": "code",
   "execution_count": null,
   "id": "6a0f476e",
   "metadata": {},
   "outputs": [],
   "source": [
    "for fruit in my_set:\n",
    "    print(fruit)\n",
    "    \n",
    "print(my_set[1])"
   ]
  },
  {
   "cell_type": "markdown",
   "id": "e01a081f",
   "metadata": {},
   "source": [
    "### 3.3 Adding/removing items\n",
    "To add one item to a set use the `add()` method. To add items from another set into the current set, use the `update()` method.\n",
    "\n",
    "To remove an item in a set, use the `remove()` or the `discard()` method."
   ]
  },
  {
   "cell_type": "code",
   "execution_count": null,
   "id": "0bf0d4fe",
   "metadata": {},
   "outputs": [],
   "source": [
    "my_set = {\"apple\", \"banana\", \"cherry\"}\n",
    "my_set.add(\"orange\")\n",
    "\n",
    "tropical = {\"pineapple\", \"mango\", \"papaya\"}\n",
    "\n",
    "my_set.update(tropical)\n",
    "\n",
    "print(my_set)"
   ]
  },
  {
   "cell_type": "code",
   "execution_count": null,
   "id": "aeb72de9",
   "metadata": {},
   "outputs": [],
   "source": [
    "my_set.remove('mango')\n",
    "print(my_set)"
   ]
  },
  {
   "cell_type": "markdown",
   "id": "08ecab09",
   "metadata": {},
   "source": [
    "### 3.4 Set operations\n",
    "The `union()` method joins all items from both sets. The `intersection()` method keeps only the items common to both sets. The `difference()` method keeps the items which are not present in both sets. The `symmetric_difference()` method keeps all items except those who are common to both sets."
   ]
  },
  {
   "cell_type": "code",
   "execution_count": null,
   "id": "e4ea857e",
   "metadata": {},
   "outputs": [],
   "source": [
    "set1 = {\"apple\", \"banana\", \"cherry\", \"pineapple\", \"mango\"}\n",
    "set2 = {\"apple\", \"banana\", \"orange\", \"strawberry\", \"grape\", \"pineapple\", \"watermelon\", \"mango\", \n",
    "        \"kiwi\", \"peach\", \"pear\", \"cherry\", \"lemon\", \"lime\", \"coconut\"}\n",
    "\n",
    "print(set1.union(set2))\n",
    "print(set1 | set2)          # the '|' is the same a union\n",
    "print()\n",
    "\n",
    "print(set1.intersection(set2))\n",
    "print(set1 & set2)          # the '&' is the same a intersection\n",
    "print()\n",
    "\n",
    "print(set1.difference(set2))\n",
    "print(set1.symmetric_difference(set2))\n",
    "print()\n",
    "\n",
    "print(set1.issubset(set2))"
   ]
  },
  {
   "cell_type": "markdown",
   "id": "0ec3444b",
   "metadata": {},
   "source": [
    "### 3.5 Set methods\n",
    "\n",
    "|Method |\tDescription |\n",
    "|---|---|\n",
    "|clear() \t|Removes all the elements from the set|\n",
    "|copy()\t    |Returns a copy of the list|\n",
    "|copy() \t|Returns a copy of the set|\n",
    "|difference() |Returns a set containing the difference between two or more sets|\n",
    "|discard() \t|Remove the specified item|\n",
    "|intersection() |Returns a set, that is the intersection of two other sets|\n",
    "|isdisjoint() |Returns whether two sets have a intersection or not|\n",
    "|issubset()   |Returns True if all items of this set is present in another set|\n",
    "|issuperset() |Returns True if all items of another set is present in this set|\n",
    "|remove() \t  |\tRemoves the specified element|\n",
    "|symmetric_difference() |Returns a set with the symmetric differences of two sets|\n",
    "|union() \t|Return a set containing the union of set|\n",
    "|update() \t|Update the set with the union of this set and others|\n",
    "\n",
    "You can find the full documentation [here](https://docs.python.org/3/tutorial/datastructures.html#sets)."
   ]
  },
  {
   "cell_type": "markdown",
   "id": "55f8b08e",
   "metadata": {},
   "source": [
    "## 4. Dictionaries\n",
    "Dictionaries are used to store data values in *key--value* pairs. \n",
    "A dictionary is a collection which is ordered (as of Python 3.), changeable and do not allow duplicates."
   ]
  },
  {
   "cell_type": "markdown",
   "id": "486f5d56",
   "metadata": {},
   "source": [
    "### 4.1 Creating a dictionary\n",
    "Dictionaries are written with curly brackets, and have **keys** and **values**. The keys and values can be of any type. The keys must be unique."
   ]
  },
  {
   "cell_type": "code",
   "execution_count": null,
   "id": "dddf3338",
   "metadata": {},
   "outputs": [],
   "source": [
    "my_dict = {\n",
    "  \"brand\": \"Ford\",\n",
    "  \"electric\": False,\n",
    "  \"year\": 1964,\n",
    "  \"colors\": [\"red\", \"white\", \"blue\"]\n",
    "}\n",
    "\n",
    "print(len(my_dict))"
   ]
  },
  {
   "cell_type": "markdown",
   "id": "7ac4e468",
   "metadata": {},
   "source": [
    "You can also create a dictionary using the `dict()` keyword:"
   ]
  },
  {
   "cell_type": "code",
   "execution_count": null,
   "id": "e23ac41e",
   "metadata": {},
   "outputs": [],
   "source": [
    "my_dict = dict(brand=\"Ford\", electric=False, year=1964, colors=[\"red\", \"white\", \"blue\"])\n",
    "print(my_dict)"
   ]
  },
  {
   "cell_type": "markdown",
   "id": "22122cae",
   "metadata": {},
   "source": [
    "### 4.2 Accessing dictionary items\n",
    "You can access the items of a dictionary by referring to its key name, inside square brackets. There is also a method called `get()` that will give you the same result. The `keys()` method will return a list of all the keys in the dictionary. The `values()` method will return a list of all the values in the dictionary. The `items()` method will return a list of tuples of key-values."
   ]
  },
  {
   "cell_type": "code",
   "execution_count": null,
   "id": "20918c2a",
   "metadata": {},
   "outputs": [],
   "source": [
    "print(my_dict[\"brand\"])\n",
    "print(my_dict.get(\"electric\"))\n",
    "\n",
    "my_dict[\"colors\"].append(\"yellow\")\n",
    "\n",
    "print()\n",
    "print(my_dict.keys())\n",
    "print(my_dict.values())\n",
    "print(my_dict.items())"
   ]
  },
  {
   "cell_type": "markdown",
   "id": "a1a3b334",
   "metadata": {},
   "source": [
    "To determine if a specified key is present in a dictionary use the `in` keyword."
   ]
  },
  {
   "cell_type": "code",
   "execution_count": null,
   "id": "c19bd7ac",
   "metadata": {},
   "outputs": [],
   "source": [
    "print(\"Fiat\" in my_dict)"
   ]
  },
  {
   "cell_type": "markdown",
   "id": "06d17ccc",
   "metadata": {},
   "source": [
    "### 4.3 Iterating over a dictionary\n",
    "You can use the `for` .. `in` to iterate over keys, values or both"
   ]
  },
  {
   "cell_type": "code",
   "execution_count": null,
   "id": "97d65c91",
   "metadata": {},
   "outputs": [],
   "source": [
    "for x in my_dict:      # same as for x in my_dict.keys():\n",
    "    print(x)"
   ]
  },
  {
   "cell_type": "code",
   "execution_count": null,
   "id": "ba1af6a2",
   "metadata": {},
   "outputs": [],
   "source": [
    "for x in my_dict.values():\n",
    "    print(x)"
   ]
  },
  {
   "cell_type": "code",
   "execution_count": null,
   "id": "25949ed8",
   "metadata": {},
   "outputs": [],
   "source": [
    "for (x,y) in my_dict.items():\n",
    "    print(f'{x} => {y}')"
   ]
  },
  {
   "cell_type": "markdown",
   "id": "d2bdd573",
   "metadata": {},
   "source": [
    "### 4.4 Dictionary methods\n",
    "\n",
    "|Method |\tDescription |\n",
    "|---|---|\n",
    "|clear() \t|Removes all the elements from the dictonary|\n",
    "|copy()\t    |Returns a copy of the dictionary|\n",
    "|fromkeys()\t|Returns a dictionary with the specified keys and value|\n",
    "|get()\t|Returns the value of the specified key|\n",
    "|items()\t|Returns a list containing a tuple for each key value pair|\n",
    "|keys()\t|Returns a list containing the dictionary's keys|\n",
    "|pop()\t|Removes the element with the specified key|\n",
    "|popitem()\t|Removes the last inserted key-value pair|\n",
    "|update()\t|Updates the dictionary with the specified key-value pairs|\n",
    "|values()\t|Returns a list of all the values in the dictionary|\n",
    "\n",
    "You can find the full documentation [here](https://docs.python.org/3/tutorial/datastructures.html#dictionaries)."
   ]
  },
  {
   "cell_type": "markdown",
   "id": "2643fdc4",
   "metadata": {},
   "source": [
    "### Exercise 1: Create a simple contact book.\n",
    "* Create an empty dictionary called `contacts`.\n",
    "* Add three contacts to the dictionary where the **key** is the person's name (a string) and the **value** is their phone number (a string).\n",
    "* **Access** and print the phone number for one of the contacts.\n",
    "* **Update** the phone number for one of the existing contacts.\n",
    "* **Add a new contact** to the dictionary.\n",
    "* Print the entire `contacts` dictionary to see the final result."
   ]
  },
  {
   "cell_type": "code",
   "execution_count": null,
   "id": "d6fb00c6",
   "metadata": {},
   "outputs": [],
   "source": [
    "contacts = dict()\n",
    "# complete the cell\n"
   ]
  },
  {
   "cell_type": "markdown",
   "id": "d931c618",
   "metadata": {},
   "source": [
    "## 5. Comprehensions\n",
    "Comprehensions are a short hand way to create lists, tuples and dictionaries with one simple Python statement. It easier to see them in action rather to explain."
   ]
  },
  {
   "cell_type": "markdown",
   "id": "04b7046e",
   "metadata": {},
   "source": [
    "### 5.1 List comprehensions"
   ]
  },
  {
   "cell_type": "code",
   "execution_count": null,
   "id": "edf4d054",
   "metadata": {},
   "outputs": [],
   "source": [
    "list_of_numbers = [1, 4, 5, 10, 12]\n",
    "\n",
    "list_of_squares = [x*x for x in list_of_numbers]\n",
    "print(list_of_squares)"
   ]
  },
  {
   "cell_type": "code",
   "execution_count": null,
   "id": "12bbfa49",
   "metadata": {},
   "outputs": [],
   "source": [
    "print([x for x in list_of_numbers if x>=10])"
   ]
  },
  {
   "cell_type": "code",
   "execution_count": null,
   "id": "0dc44397",
   "metadata": {},
   "outputs": [],
   "source": [
    "# list of lists\n",
    "table = [ [ x*y for x in range(1,11)] for y in range(1,11)]\n",
    "\n",
    "print(table)\n",
    "print()\n",
    "for x in table:\n",
    "    print(x)"
   ]
  },
  {
   "cell_type": "code",
   "execution_count": null,
   "id": "d9f4a3a7",
   "metadata": {},
   "outputs": [],
   "source": [
    "cubes = {x: x**3 for x in list_of_numbers}\n",
    "print(cubes)"
   ]
  },
  {
   "cell_type": "code",
   "execution_count": null,
   "id": "73a617b7",
   "metadata": {},
   "outputs": [],
   "source": [
    "words = [\"apple\", \"banana\", \"cherry\", \"pineapple\", \"mango\"]\n",
    "my_dict = {k:len(k) for k in words}\n",
    "print(my_dict)"
   ]
  },
  {
   "cell_type": "markdown",
   "id": "0c90e0e7",
   "metadata": {},
   "source": [
    "## 6. More on strings\n",
    "In Python, strings can be seen a lists of characters. Similar to lists, strings can be spliced using the `[..:,..]` syntax.\n",
    "\n",
    "Moreover, in this section we'll introduce methods for string manipulations, like changing the case, splitting and joining strings."
   ]
  },
  {
   "cell_type": "code",
   "execution_count": null,
   "id": "7da66cb4",
   "metadata": {},
   "outputs": [],
   "source": [
    "a = 'Hello world!'\n",
    "print(a[1])\n",
    "print(a[6:11])\n",
    "print(a[::-1])     # reverse the string"
   ]
  },
  {
   "cell_type": "code",
   "execution_count": null,
   "id": "56386bfe",
   "metadata": {},
   "outputs": [],
   "source": [
    "# change case\n",
    "print(a.lower())\n",
    "print(a.upper())\n",
    "print(a.title())"
   ]
  },
  {
   "cell_type": "code",
   "execution_count": null,
   "id": "f4c9b326",
   "metadata": {},
   "outputs": [],
   "source": [
    "# strip removes white spaces from both ends\n",
    "a = '  Hello, world!    '\n",
    "print(a.strip())"
   ]
  },
  {
   "cell_type": "code",
   "execution_count": null,
   "id": "52a28ffa",
   "metadata": {},
   "outputs": [],
   "source": [
    "# replace a string with another one\n",
    "a = \"Hello world!\"\n",
    "print(a.replace(\"Hello\", \"Bonjour\"))"
   ]
  },
  {
   "cell_type": "code",
   "execution_count": null,
   "id": "0ce8f25e",
   "metadata": {},
   "outputs": [],
   "source": [
    "# split string into words\n",
    "poem = \"\"\"Friends, Romans, countrymen, lend me your ears;\n",
    "I come to bury Caesar, not to praise him.\n",
    "The evil that men do lives after them.\"\"\"\n",
    "\n",
    "words = poem.split()     # by default, split on whitespaces\n",
    "print(words)"
   ]
  },
  {
   "cell_type": "code",
   "execution_count": null,
   "id": "699141a9",
   "metadata": {},
   "outputs": [],
   "source": [
    "verses = poem.split(\"\\n\")     # \\n is the end-of-line character\n",
    "print(verses)"
   ]
  },
  {
   "cell_type": "code",
   "execution_count": null,
   "id": "0dd71a01",
   "metadata": {},
   "outputs": [],
   "source": [
    "# join list of strings using a separator\n",
    "print(\" | \".join(verses))"
   ]
  },
  {
   "cell_type": "code",
   "execution_count": null,
   "id": "0de8dcb9",
   "metadata": {},
   "outputs": [],
   "source": [
    "# find substring in a string\n",
    "pos = poem.index(\"Caesar\")       # index() returns error if not found, use find() instead\n",
    "print(pos, poem[pos])\n",
    "\n",
    "pos = poem.find(\"Anthony\")\n",
    "print(pos)\n",
    "\n",
    "pos = poem.index(\"Anthony\")"
   ]
  },
  {
   "cell_type": "markdown",
   "id": "18885ee1",
   "metadata": {},
   "source": [
    "### 6.1 String methods\n",
    "\n",
    "|Method|Decription|\n",
    "|---|---|\n",
    "|capitalize()|Converts the first character to upper case|\n",
    "|casefold()\t|Converts string into lower case|\n",
    "|center()\t|Returns a centered string|\n",
    "|count()\t|Returns the number of times a specified value occurs in a string|\n",
    "|encode()\t|Returns an encoded version of the string|\n",
    "|endswith()\t|Returns true if the string ends with the specified value|\n",
    "|expandtabs()|Sets the tab size of the string|\n",
    "|find()\t|Searches the string for a specified value and returns the position of where it was found|\n",
    "|format()\t|Formats specified values in a string|\n",
    "|index()\t|Searches the string for a specified value and returns the position of where it was found|\n",
    "|isalnum()\t|Returns True if all characters in the string are alphanumeric|\n",
    "|isalpha()\t|Returns True if all characters in the string are in the alphabet|\n",
    "|isascii()\t|Returns True if all characters in the string are ascii characters|\n",
    "|isdecimal()|Returns True if all characters in the string are decimals|\n",
    "|isdigit()\t|Returns True if all characters in the string are digits|\n",
    "|isidentifier()|Returns True if the string is an identifier|\n",
    "|islower()\t|Returns True if all characters in the string are lower case|\n",
    "|isnumeric()|Returns True if all characters in the string are numeric|\n",
    "|isprintable()\t|Returns True if all characters in the string are printable|\n",
    "|isspace()\t|Returns True if all characters in the string are whitespaces|\n",
    "|istitle() \t|Returns True if the string follows the rules of a title|\n",
    "|isupper()\t|Returns True if all characters in the string are upper case|\n",
    "|join()\t    |Joins the elements of an iterable to the end of the string|\n",
    "|ljust()\t|Returns a left justified version of the string|\n",
    "|lower()\t|Converts a string into lower case|\n",
    "|lstrip()\t|Returns a left trim version of the string|\n",
    "|maketrans()|Returns a translation table to be used in translations|\n",
    "|partition()|Returns a tuple where the string is parted into three parts|\n",
    "|replace()\t|Returns a string where a specified value is replaced with a specified value|\n",
    "|rfind()\t|Searches the string for a specified value and returns the last position of where it was found|\n",
    "|rindex()\t|Searches the string for a specified value and returns the last position of where it was found|\n",
    "|rjust()\t|Returns a right justified version of the string|\n",
    "|rpartition()|Returns a tuple where the string is parted into three parts|\n",
    "|rsplit()\t|Splits the string at the specified separator, and returns a list|\n",
    "|rstrip()\t|Returns a right trim version of the string|\n",
    "|split()\t|Splits the string at the specified separator, and returns a list|\n",
    "|splitlines()|Splits the string at line breaks and returns a list|\n",
    "|startswith()|Returns true if the string starts with the specified value|\n",
    "|strip()\t|Returns a trimmed version of the string|\n",
    "|swapcase()\t|Swaps cases, lower case becomes upper case and vice versa|\n",
    "|title()\t|Converts the first character of each word to upper case|\n",
    "|translate()|Returns a translated string|\n",
    "|upper()\t|Converts a string into upper case|\n",
    "|zfill()\t|Fills the string with a specified number of 0 values at the beginning|"
   ]
  },
  {
   "cell_type": "markdown",
   "id": "cf73db90",
   "metadata": {},
   "source": [
    "### Exercise: Write a program that takes a user's full name and formats it.\n",
    "* Ask the user to enter their full name.\n",
    "* **Capitalize** the first letter of each word in the name.\n",
    "* Print a greeting using the formatted name, e.g., \"Hello, Jane Doe\\!\""
   ]
  },
  {
   "cell_type": "code",
   "execution_count": null,
   "id": "d33e91ed",
   "metadata": {},
   "outputs": [],
   "source": [
    "# insert code here"
   ]
  },
  {
   "cell_type": "markdown",
   "id": "d45a2a9d",
   "metadata": {},
   "source": [
    "### Exercise: Extract specific pieces of information from a structured string\n",
    "* Start with a string representing a product code, e.g., `product_code = \"SKU-4537-LAPTOP-RED\"`.\n",
    "* Use a combination of string methods like `find()` or `split()` to isolate the following parts:\n",
    "    * The **SKU number** (`4537`).\n",
    "    * The **product category** (`LAPTOP`).\n",
    "    * The **color** (`RED`).\n",
    "* Create a dictionary with with those three keys\n"
   ]
  },
  {
   "cell_type": "code",
   "execution_count": null,
   "id": "0bbc61d8",
   "metadata": {},
   "outputs": [],
   "source": [
    "product_code = \"SKU-4537-LAPTOP-RED\"\n",
    "# complete the cell"
   ]
  },
  {
   "cell_type": "markdown",
   "id": "4d65b17e",
   "metadata": {},
   "source": [
    "### Exercise: Replace specific words in a sentence with a censor character.\n",
    "\n",
    "Use with the Julius Caesar *incipit*:\n",
    "* Create a list of \"forbidden\" words, e.g., `forbidden = ['badword1', 'badword2']`.\n",
    "* Use a loop and the `replace()` method to replace each forbidden word in the sentence with a placeholder, like `****`.\n",
    "* Print the censored sentence.\n"
   ]
  },
  {
   "cell_type": "code",
   "execution_count": null,
   "id": "4ff21cf7",
   "metadata": {},
   "outputs": [],
   "source": [
    "forbidden = ['ears', \"evil\"]\n",
    "# complete the cell"
   ]
  },
  {
   "cell_type": "markdown",
   "id": "eeff4baf",
   "metadata": {},
   "source": [
    "### Exercise: Check if a phrase is a palindrome\n",
    "* **Pre-process** the string: convert it to lowercase and remove any spaces or punctuation.\n",
    "* Use string slicing to create a **reversed** version of the processed string.\n",
    "* Use an `if/else` statement to compare the original processed string with the reversed one.\n",
    "* Print a message indicating whether the input is a palindrome."
   ]
  },
  {
   "cell_type": "code",
   "execution_count": null,
   "id": "65817a4d",
   "metadata": {},
   "outputs": [],
   "source": [
    "phrase = \"Go hang a salami, I'm a lasagna hog\"\n",
    "punctuation = ' .,:;!?\\''"
   ]
  },
  {
   "cell_type": "code",
   "execution_count": null,
   "id": "5695cc9e",
   "metadata": {},
   "outputs": [],
   "source": [
    "# remove punctuation and spaces using a loop\n"
   ]
  },
  {
   "cell_type": "code",
   "execution_count": null,
   "id": "6b2481ad",
   "metadata": {},
   "outputs": [],
   "source": [
    "# remove punctuation and spaces using a list comprehension\n"
   ]
  },
  {
   "cell_type": "code",
   "execution_count": null,
   "id": "e2fe4937",
   "metadata": {},
   "outputs": [],
   "source": [
    "# check if palindrome using a loop\n"
   ]
  },
  {
   "cell_type": "code",
   "execution_count": null,
   "id": "78010129",
   "metadata": {},
   "outputs": [],
   "source": [
    "# check if palindrom using a slice"
   ]
  }
 ],
 "metadata": {
  "kernelspec": {
   "display_name": "Python 3 (ipykernel)",
   "language": "python",
   "name": "python3"
  },
  "language_info": {
   "codemirror_mode": {
    "name": "ipython",
    "version": 3
   },
   "file_extension": ".py",
   "mimetype": "text/x-python",
   "name": "python",
   "nbconvert_exporter": "python",
   "pygments_lexer": "ipython3",
   "version": "3.11.2"
  }
 },
 "nbformat": 4,
 "nbformat_minor": 5
}
