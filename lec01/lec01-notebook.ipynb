{
 "cells": [
  {
   "cell_type": "markdown",
   "id": "4835615d",
   "metadata": {},
   "source": [
    "# Programming for Chemistry 2025/2026 @ UniMI\n",
    "![alt text](logo_small.png \"Logo\")\n",
    "\n",
    "## Lecture 01: Intro to Python and Jupyter\n",
    "If you have setup a Python/Jupyter environment it is time to test if it is working properly and to get aqquainted with the concept of computational _notebooks_.\n",
    "\n",
    "This notebook is composed by several _cells_ which can be of the following type:\n",
    "1. Text, images, tables, equations using the Markdown language\n",
    "2. Python code cells\n",
    "3. the output of the execution of the Python cells\n",
    "\n",
    "To execute a code cell, press **Shift+Enter**. You can of course modify cell, insert, delete, move them around. You can execute the cells in any order (i.e. going back at any time). You can clear all cell outputs, restart the Python kernel and execute all of them at once. This is very useful to check that your code works properly.\n"
   ]
  },
  {
   "cell_type": "markdown",
   "id": "1ad7551f",
   "metadata": {},
   "source": [
    "## 1. Hello world\n",
    "Please check that the following cell is working."
   ]
  },
  {
   "cell_type": "code",
   "execution_count": null,
   "id": "1051a1b6",
   "metadata": {},
   "outputs": [],
   "source": [
    "name = input(\"What's your name? \")\n",
    "print(f\"Hello, {name}\")"
   ]
  },
  {
   "cell_type": "markdown",
   "id": "299b0dca",
   "metadata": {},
   "source": [
    "## 2. Jupyter as a calculator\n",
    "Enter some mathematical expressions and press *Shift+Enter*. By default, Jupyter will print the result of the last expression. Use `print(...)` to print explicitly any result.\n",
    "\n",
    "The basic mathematical operators are `+ - * /`. `**` is the power operator, `%` is the remainder operator. `//` is the integer division. Operators are executed with the mathematical precedence, and use parenthesis to alter that."
   ]
  },
  {
   "cell_type": "code",
   "execution_count": null,
   "id": "d08ea099",
   "metadata": {},
   "outputs": [],
   "source": [
    "1 + 4"
   ]
  },
  {
   "cell_type": "code",
   "execution_count": null,
   "id": "369ab28b",
   "metadata": {},
   "outputs": [],
   "source": [
    "10 - 3\n",
    "5 * 6"
   ]
  },
  {
   "cell_type": "code",
   "execution_count": null,
   "id": "a6f14f25",
   "metadata": {},
   "outputs": [],
   "source": [
    "print(10 - 3)\n",
    "print(5 * 6)"
   ]
  },
  {
   "cell_type": "code",
   "execution_count": null,
   "id": "aadaabc1",
   "metadata": {},
   "outputs": [],
   "source": [
    "print(20 / 3)     # division\n",
    "print(20 // 3)    # integer divison\n",
    "print(20 % 3)     # remainder"
   ]
  },
  {
   "cell_type": "code",
   "execution_count": null,
   "id": "ae7077fe",
   "metadata": {},
   "outputs": [],
   "source": [
    "print(10**12)"
   ]
  },
  {
   "cell_type": "code",
   "execution_count": null,
   "id": "28f7aea1",
   "metadata": {},
   "outputs": [],
   "source": [
    "print(2+3*4)\n",
    "print((2+3)*4)"
   ]
  },
  {
   "cell_type": "markdown",
   "id": "2c2307a2",
   "metadata": {},
   "source": [
    "## Exercise\n",
    "Insert two new cells after this one and enter some numeric calculation."
   ]
  },
  {
   "cell_type": "markdown",
   "id": "0f7f12a2",
   "metadata": {},
   "source": [
    "## 2. Mathematical functions\n",
    "The builtin library `math` provides a large number of mathematical functions, as well as constants like $\\pi$. To use them you can `import` the math library in three possible ways:\n",
    "1. `from math import *`\n",
    "2. `from math import pi, sin, cos, exp`\n",
    "3. `import math`\n",
    "\n",
    "In the first two cases the mathematical functions are accessible simply as `cos(..)`, `sin(..)`, etc. In the third case, you must prefix them with `math.`."
   ]
  },
  {
   "cell_type": "code",
   "execution_count": null,
   "id": "59e23342",
   "metadata": {},
   "outputs": [],
   "source": [
    "from math import pi, sin, cos, exp\n",
    "print(pi*2)\n",
    "print(cos(pi/4)+sin(pi/3))"
   ]
  },
  {
   "cell_type": "code",
   "execution_count": null,
   "id": "e8f7cbfd",
   "metadata": {},
   "outputs": [],
   "source": [
    "import math\n",
    "print(math.pi*2)\n",
    "print(math.cos(pi/4)+math.sin(pi/3))\n",
    "print(math.sqrt(2))"
   ]
  },
  {
   "cell_type": "markdown",
   "id": "65647542",
   "metadata": {},
   "source": [
    "## Exercise\n",
    "Complete the following cell to calculate the roots of the second degree polynomial:\n",
    "$a x^2 + b x + c = 0$, then check that two roots fulfill the equaton."
   ]
  },
  {
   "cell_type": "code",
   "execution_count": null,
   "id": "e0f48132",
   "metadata": {},
   "outputs": [],
   "source": [
    "a = 10\n",
    "b = 4\n",
    "c = -3\n",
    "\n",
    "..."
   ]
  }
 ],
 "metadata": {
  "kernelspec": {
   "display_name": "Python 3 (ipykernel)",
   "language": "python",
   "name": "python3"
  },
  "language_info": {
   "codemirror_mode": {
    "name": "ipython",
    "version": 3
   },
   "file_extension": ".py",
   "mimetype": "text/x-python",
   "name": "python",
   "nbconvert_exporter": "python",
   "pygments_lexer": "ipython3",
   "version": "3.11.2"
  }
 },
 "nbformat": 4,
 "nbformat_minor": 5
}
