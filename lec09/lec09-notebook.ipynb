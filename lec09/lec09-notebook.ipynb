{
 "cells": [
  {
   "cell_type": "markdown",
   "id": "2eb5903c",
   "metadata": {},
   "source": [
    "# Programming for Chemistry 2025/2026 @ UniMI\n",
    "\n",
    "![logo](logo_small.png \"Logo\")\n",
    "\n",
    "## Lecture 09: Advanced Object Oriented Programming\n",
    "\n",
    "In this lecture I will introduced *advanced* topics of OOP.\n",
    "* The first will be **special methods**, a feature common to other programming languages, that will make our classes act like **lists** or **numbers**.\n",
    "* The second will be **inheritance/abstract classes** (aka **interfaces**) that are used to organize classes with common methods/behavior in a *class hierarchy* (**\"is-a\"** relationship).\n",
    "* The third will be **composition/aggregation** that is used to represent a **\"has-a\"** relationship, where one class contains or *has* instances of another class, and both can exist independently."
   ]
  },
  {
   "cell_type": "markdown",
   "id": "4835615d",
   "metadata": {},
   "source": [
    "## 1. Special methods\n",
    "In reality we have already encountered a special method: the `__init__(self, ...)` method. Special methods are enclosed between two `__` (underscores).\n",
    "\n",
    "They are special because they are called by Python when you create an object, or when you call `len()` of an object, or when you print it, or when you index an object with `[]`, or when you add two objects, just to name a few.\n",
    "\n",
    "As an example, let's add the possibility:\n",
    "1. to the the number of atoms by simply `len(molecule)`\n",
    "2. to access each individual atom as `molecule[i]`:"
   ]
  },
  {
   "cell_type": "code",
   "execution_count": null,
   "id": "2aaad9cf",
   "metadata": {},
   "outputs": [],
   "source": [
    "class Molecule:\n",
    "    def __init__(self, name=\"\"):\n",
    "        self.name = name\n",
    "        self.atoms = []       # list of element symbols (e.g., [\"C\", \"H\", \"H\"])\n",
    "        self.coordinates = [] # list of (x, y, z) tuples\n",
    "\n",
    "    def add_atom(self, element, x, y, z):\n",
    "        self.atoms.append(element)\n",
    "        self.coordinates.append((float(x), float(y), float(z)))\n",
    "\n",
    "    #########################################################    \n",
    "    # instead of: def number_of_atoms(self):\n",
    "    #########################################################    \n",
    "    def __len__(self):\n",
    "        return len(self.atoms)\n",
    "\n",
    "    #########################################################    \n",
    "    # access atoms by index\n",
    "    #########################################################    \n",
    "    def __getitem__(self, idx):\n",
    "        return self.atoms[idx], self.coordinates[idx]\n",
    "    \n",
    "    def from_xyz(self, filename):\n",
    "        with open(filename, \"r\") as f:\n",
    "            lines = f.readlines()\n",
    "\n",
    "        natoms = int(lines[0])\n",
    "        self.name = lines[1].strip()\n",
    "        \n",
    "        self.atoms = []\n",
    "        self.coordinates = []\n",
    "        for line in lines[2:2+natoms]:\n",
    "            parts = line.split()\n",
    "            element, x, y, z = parts[0], parts[1], parts[2], parts[3]\n",
    "            self.add_atom(element, x, y, z)\n",
    "\n",
    "    def to_xyz(self, filename):\n",
    "        \"\"\"Save molecule to an XYZ file.\"\"\"\n",
    "        with open(filename, \"w\") as f:\n",
    "            f.write(f\"{len(self.atoms)}\\n\")\n",
    "            f.write(f\"{self.name}\\n\")\n",
    "            for atom, (x, y, z) in zip(self.atoms, self.coordinates):\n",
    "                f.write(f\"{atom:2s} {x:15.8f} {y:15.8f} {z:15.8f}\\n\")"
   ]
  },
  {
   "cell_type": "code",
   "execution_count": null,
   "id": "5f892e51",
   "metadata": {
    "scrolled": true
   },
   "outputs": [],
   "source": [
    "mol = Molecule()\n",
    "mol.from_xyz('benzene.xyz')\n",
    "print(len(mol))\n",
    "print()\n",
    "\n",
    "for i in range(len(mol)):\n",
    "    atom, coord = mol[i]\n",
    "    print(atom, coord)"
   ]
  },
  {
   "cell_type": "markdown",
   "id": "19df6ae0",
   "metadata": {},
   "source": [
    "Two other special methods are `__str__` which is called to convert the object into a string, and `__repr__`, to convert the object into a more informative string.\n",
    "\n",
    "In addition to that we can think about providing a `+` operator that takes two molecules and places them in a new molecule.\n",
    "\n",
    "Here is the updated code:"
   ]
  },
  {
   "cell_type": "code",
   "execution_count": null,
   "id": "b2147157",
   "metadata": {},
   "outputs": [],
   "source": [
    "class Molecule:\n",
    "    def __init__(self, name=\"\"):\n",
    "        self.name = name\n",
    "        self.atoms = []       # list of element symbols (e.g., [\"C\", \"H\", \"H\"])\n",
    "        self.coordinates = [] # list of (x, y, z) tuples\n",
    "\n",
    "    def add_atom(self, element, x, y, z):\n",
    "        self.atoms.append(element)\n",
    "        self.coordinates.append((float(x), float(y), float(z)))\n",
    "\n",
    "    def __len__(self):\n",
    "        return len(self.atoms)\n",
    "\n",
    "    def __getitem__(self, idx):\n",
    "        return self.atoms[idx], self.coordinates[idx]\n",
    "\n",
    "    # THIS IS NEW\n",
    "    def __str__(self):\n",
    "        return self.name if len(self.name) > 0 else \"just a molecule\"\n",
    "\n",
    "    # THIS IS NEW\n",
    "    def __repr__(self):\n",
    "        return f'class Molecule: name={self.name} len={len(self.natoms)} atoms={self.atoms}'\n",
    "\n",
    "    # THIS IS NEW\n",
    "    def __add__(a, b):\n",
    "        c = Molecule(f'{a.name} + {b.name}')\n",
    "        \n",
    "        for i in range(len(a)):\n",
    "            atom, coord = a[i]\n",
    "            c.add_atom(atom, *coord)\n",
    "        \n",
    "        for i in range(len(b)):\n",
    "            atom, coord = b[i]\n",
    "            c.add_atom(atom, *coord)\n",
    "        return c\n",
    "\n",
    "    def translate(self, dx, dy, dz):\n",
    "        for i in range(len(self)):\n",
    "            x, y, z = self.coordinates[i]\n",
    "            self.coordinates[i] = (x+dx, y+dy, z+dz)\n",
    "            \n",
    "    def from_xyz(self, filename):\n",
    "        with open(filename, \"r\") as f:\n",
    "            lines = f.readlines()\n",
    "\n",
    "        natoms = int(lines[0])\n",
    "        self.name = lines[1].strip()\n",
    "        \n",
    "        self.atoms = []\n",
    "        self.coordinates = []\n",
    "        for line in lines[2:2+natoms]:\n",
    "            parts = line.split()\n",
    "            element, x, y, z = parts[0], parts[1], parts[2], parts[3]\n",
    "            self.add_atom(element, x, y, z)\n",
    "\n",
    "    def to_xyz(self, filename):\n",
    "        \"\"\"Save molecule to an XYZ file.\"\"\"\n",
    "        with open(filename, \"w\") as f:\n",
    "            f.write(f\"{len(self.atoms)}\\n\")\n",
    "            f.write(f\"{self.name}\\n\")\n",
    "            for atom, (x, y, z) in zip(self.atoms, self.coordinates):\n",
    "                f.write(f\"{atom:2s} {x:15.8f} {y:15.8f} {z:15.8f}\\n\")"
   ]
  },
  {
   "cell_type": "code",
   "execution_count": null,
   "id": "5da02142",
   "metadata": {},
   "outputs": [],
   "source": [
    "mol1 = Molecule()\n",
    "mol1.from_xyz('benzene.xyz')\n",
    "\n",
    "mol2 = Molecule()\n",
    "mol2.from_xyz('water.xyz')\n",
    "mol2.translate(0, 0, 2.0)\n",
    "\n",
    "mol3 = mol1 + mol2\n",
    "print(mol3)\n",
    "print(len(mol3))\n",
    "mol3.to_xyz('benzene+water.xyz')"
   ]
  },
  {
   "cell_type": "code",
   "execution_count": null,
   "id": "e07fa7ef",
   "metadata": {
    "scrolled": true
   },
   "outputs": [],
   "source": [
    "!jmol benzene+water.xyz"
   ]
  },
  {
   "cell_type": "markdown",
   "id": "ad2b3faf",
   "metadata": {},
   "source": [
    "The result should be like this:\n",
    "\n",
    "![two_molecules](benzene+water.png \"benzene+water\")"
   ]
  },
  {
   "cell_type": "markdown",
   "id": "54209870",
   "metadata": {},
   "source": [
    "### 1.1 Variable scopes\n",
    "\n",
    "**Starting from now I will not report the code of the Molecule class in the notebook, but you will find it into the molecule.py file. Please open it with a text editor.**\n",
    "\n",
    "Similalry to functions, class variables (attributes) prefixed with `self.` are **local** to each object. This makes possible that different `Molecule` object can hold a different number of atoms.\n",
    "\n",
    "If you create a variable outside the class methods, those variables will be common to each object. A typical example is to hold the global counter for the number of molecules you created. Another example is to define constants to be used internally by the class.\n",
    "\n",
    "For example:\n",
    "```python\n",
    "class Molecule:\n",
    "    number_of_molecules = 0\n",
    "    \n",
    "    def add_atom(self, atom, coords):\n",
    "         ...\n",
    "         Molecule.number_of_molecules += 1\n",
    "       \n",
    "    def from_xyz(...):\n",
    "         ...\n",
    "         Molecule.number_of_molecules += 1\n",
    "```\n",
    "and:\n",
    "```python\n",
    "class Molecule:\n",
    "    # this is a class variable\n",
    "    __bohr = 0.52917721\n",
    "\n",
    "    def bohr_to_angstrom(self):\n",
    "       \"\"\"Convert the coordinates from bohr to angstrom\"\"\"\n",
    "          for i in range(len(self)):\n",
    "              x, y, z = self.coordinates[i]\n",
    "              self.coordinates[i] = (x*Molecule.__bohr, y*Molecule.__bohr, z*Molecule.__bohr)           \n",
    "```"
   ]
  },
  {
   "cell_type": "markdown",
   "id": "48ba576a",
   "metadata": {},
   "source": [
    "### 1.2 Class methods\n",
    "\n",
    "Did you notice that to read a molecule from a XYZ file we have first to **create** an empty molecule, then call `.from_xyz(...)`?\n",
    "\n",
    "```python\n",
    "mol = Molecule()\n",
    "mol.from_xyz('water.xyz')\n",
    "```\n",
    "\n",
    "We can instead use a **class method** that it's used to create a `Molecule` object on the fly, as an alternative to `__init__(self)`. Here is the piece of code:\n",
    "\n",
    "```python\n",
    "class Molecule:\n",
    "    ...\n",
    "    @classmethod\n",
    "    def from_xyz(cls, filename):\n",
    "        \"\"\"Create a molecule from an XYZ file.\"\"\"\n",
    "        with open(filename, \"r\") as f:\n",
    "            lines = f.readlines()\n",
    "\n",
    "        natoms = int(lines[0])\n",
    "        name = lines[1].strip()\n",
    "        \n",
    "        mol = cls(name)                  # calls Molecule.__init__(self, name)\n",
    "        for line in lines[2:2+natoms]:\n",
    "            parts = line.split()\n",
    "            element, x, y, z = parts[0], parts[1], parts[2], parts[3]\n",
    "            mol.add_atom(element, x, y, z)\n",
    "        return mol\n",
    "```\n",
    "The special **decorator** `@classmethod` does not pass `self` as the first element, because it applies to the class not to the object. It instead passed the **name of the class** as the first element."
   ]
  },
  {
   "cell_type": "code",
   "execution_count": null,
   "id": "89f17051",
   "metadata": {},
   "outputs": [],
   "source": [
    "from molecule import Molecule\n",
    "\n",
    "benzene = Molecule.from_xyz('benzene.xyz')\n",
    "print('in angstrom:')\n",
    "print(benzene.get_distance(0,1))\n",
    "\n",
    "print('in bohr units:')\n",
    "benzene.angstrom_to_bohr()\n",
    "print(benzene.get_distance(0,1))"
   ]
  },
  {
   "cell_type": "markdown",
   "id": "1711b100",
   "metadata": {},
   "source": [
    "One final note: differently from other languages, Python does not have an explicit keyword to mark a class variable or class method as **private**. To do this just define it with two leading `__` underscores. In the following example, we'll see that `Molecule.__bohr` is not accessible."
   ]
  },
  {
   "cell_type": "code",
   "execution_count": null,
   "id": "06cc5c6e",
   "metadata": {},
   "outputs": [],
   "source": [
    "print(benzene.__bohr)"
   ]
  },
  {
   "cell_type": "markdown",
   "id": "debc5fe6",
   "metadata": {},
   "source": [
    "## 2. Inheritance and abstract classes\n",
    "\n",
    "**Inheritance** is a mechanism that allows a new class (the **subclass** or **child class**) to adopt the attributes and methods of an existing class (the **superclass** or **parent class**). This is often described as an **\"is-a\"** relationship (e.g., a \"Car is Vehicle\").\n",
    "\n",
    "Suppose our car dealer is going to sell also motor bikes and airplanes. Making a sepatate class for each vehicle leads to code duplication:"
   ]
  },
  {
   "cell_type": "code",
   "execution_count": null,
   "id": "e85f4b03",
   "metadata": {},
   "outputs": [],
   "source": [
    "class Car:\n",
    "    def __init__(self, maker, model, year, price, sold=False):\n",
    "        self.maker = maker\n",
    "        self.model = model\n",
    "        self.year = year\n",
    "        self.price = price\n",
    "        self.sold = sold\n",
    "    \n",
    "    def display(self):\n",
    "        return f\"Car: {self.maker} {self.model} {self.year} price:{self.price} sold:{self.sold}\"\n",
    "    \n",
    "    def is_sold(self):\n",
    "        return self.sold\n",
    "        \n",
    "\n",
    "class MotorBike:\n",
    "    def __init__(self, maker, model, year, price, racing=True, sold=False):\n",
    "        self.maker = maker\n",
    "        self.model = model\n",
    "        self.year = year\n",
    "        self.price = price\n",
    "        self.sold = sold\n",
    "        self.racing = racing\n",
    "\n",
    "    def display(self):\n",
    "        return f\"Motorbike: {self.maker} {self.model} {self.year} price:{self.price} racing:{self.racing} sold:{self.sold}\"\n",
    "        \n",
    "    def is_sold(self):\n",
    "        return self.sold\n",
    "\n",
    "\n",
    "class Airplane:\n",
    "    # ... wingspan, ... propellers\n",
    "    pass"
   ]
  },
  {
   "cell_type": "markdown",
   "id": "49937452",
   "metadata": {},
   "source": [
    "Why not creating a common class `Vehicle` that contains common features and use it as a parent class?"
   ]
  },
  {
   "cell_type": "code",
   "execution_count": null,
   "id": "9a1c14b6",
   "metadata": {},
   "outputs": [],
   "source": [
    "class Vehicle:\n",
    "    def __init__(self, maker, model, year, price, sold=False):\n",
    "        self.maker = maker\n",
    "        self.model = model\n",
    "        self.year = year\n",
    "        self.price = price\n",
    "        self.sold = sold\n",
    "        \n",
    "    def display(self):\n",
    "        return f\"{self.maker} {self.model} {self.year} price:{self.price} sold:{self.sold}\"\n",
    "\n",
    "    \n",
    "class Car(Vehicle):\n",
    "    def __init__(self, maker, model, year, price, sold=False, electric=False):\n",
    "        super().__init__(maker, model, year, price, sold)\n",
    "        self.electric = electric\n",
    "        \n",
    "    def display(self):\n",
    "        return f\"This is car: {super().display()} electric={self.electric}\"\n",
    "\n",
    "    \n",
    "class Motorbike(Vehicle):\n",
    "    def __init__(self, maker, model, year, price, sold=False, racing=False):\n",
    "        super().__init__(maker, model, year, price, sold)\n",
    "        self.racing = racing\n",
    "        \n",
    "    def display(self):\n",
    "        return f\"This is motorbike: {super().display()} racing={self.racing}\""
   ]
  },
  {
   "cell_type": "code",
   "execution_count": null,
   "id": "309da5a5",
   "metadata": {},
   "outputs": [],
   "source": [
    "v = Vehicle('Honda', 'Civic', 1995, 12000)\n",
    "c = Car('Ford', 'Mustang', 1990, 40000, True)\n",
    "m = Motorbike('Ducati', 'Desmosedici', 2007, 25000, False, racing=True)\n",
    "\n",
    "print(c.display())\n",
    "print(m.display())\n",
    "print(v.display())                             # what is this?"
   ]
  },
  {
   "cell_type": "markdown",
   "id": "ad0f40e9",
   "metadata": {},
   "source": [
    "The problem is that `Vehicle` is too generic and it should never be instantiated as an object. This is because `Vehicle` is an **abstract** class, that just defines a scaffold or **interface** for the other classes. Python has a special module to make `Vehicle` an **Absract Base Class**. If you decorate a method with `@abstractmethod` you must ensure that all the derived class will implement that method."
   ]
  },
  {
   "cell_type": "code",
   "execution_count": null,
   "id": "b16992dc",
   "metadata": {},
   "outputs": [],
   "source": [
    "from abc import ABC, abstractmethod\n",
    "\n",
    "class Vehicle(ABC):\n",
    "    def __init__(self, maker, model, year, price, sold=False):\n",
    "        self.maker = maker\n",
    "        self.model = model\n",
    "        self.year = year\n",
    "        self.price = price\n",
    "        self.sold = sold\n",
    "\n",
    "    @abstractmethod\n",
    "    def display(self):\n",
    "        return f\"{self.maker} {self.model} {self.year} price:{self.price} sold:{self.sold}\"\n",
    "\n",
    "    \n",
    "class Car(Vehicle):\n",
    "    def __init__(self, maker, model, year, price, sold=False, electric=False):\n",
    "        super().__init__(maker, model, year, price, sold)\n",
    "        self.electric = electric\n",
    "        \n",
    "    def display(self):\n",
    "        return f\"This is car: {super().display()} electric={self.electric}\"\n",
    "\n",
    "    \n",
    "class Motorbike(Vehicle):\n",
    "    def __init__(self, maker, model, year, price, sold=False, racing=False):\n",
    "        super().__init__(maker, model, year, price, sold)\n",
    "        self.racing = racing\n",
    "        \n",
    "    def display(self):\n",
    "        return f\"This is motorbike: {super().display()} racing={self.racing}\"\n",
    "\n",
    "    \n",
    "class Airplane(Vehicle):\n",
    "    def __init__(self, maker, model, year, price, windspan, sold=False):\n",
    "        super().__init__(maker, model, year, price, sold)\n",
    "        self.wingspan = wingspan\n",
    "\n",
    "    # no display method"
   ]
  },
  {
   "cell_type": "code",
   "execution_count": null,
   "id": "4a16f76d",
   "metadata": {},
   "outputs": [],
   "source": [
    "c = Car('Ford', 'Mustang', 1990, 40000, True)\n",
    "m = Motorbike('Ducati', 'Desmosedici', 2007, 25000, False, racing=True)\n",
    "\n",
    "print(c.display())\n",
    "print(m.display())"
   ]
  },
  {
   "cell_type": "code",
   "execution_count": null,
   "id": "3bcd0dd0",
   "metadata": {},
   "outputs": [],
   "source": [
    "# ERROR: you can't create a Vehicle object\n",
    "v = Vehicle('Honda', 'Civic', 1995, 12000)\n",
    "print(v.display())"
   ]
  },
  {
   "cell_type": "code",
   "execution_count": null,
   "id": "c732cc40",
   "metadata": {},
   "outputs": [],
   "source": [
    "# ERROR: you can't create an Airplane object because it doesn't have its own display() method\n",
    "a = Airplane('Airbus', 'A330', 2002, 264_000_000, sold=False, wingspan=60.3)"
   ]
  },
  {
   "cell_type": "markdown",
   "id": "8d15d7cc",
   "metadata": {},
   "source": [
    "### Exercise (no coding!)\n",
    "Design a hierarchy of classes with applications in chemistry. For instance there could be `Molecule` at the top, from which you derive `OrganicMolecule`, `Alchool`, `Ketone`, etc.. `Acid`, `Basis` and one could apply rules of chemical reactivity according to the kind of molecule.\n",
    "\n",
    "Other examples in the fields of physics, chemical physics, biology are welcome.  "
   ]
  },
  {
   "cell_type": "markdown",
   "id": "c031c33b",
   "metadata": {},
   "source": [
    "## 3. Composition and aggregation\n",
    "**Composition** and **Aggregation** are two specific types of relationships in Object-Oriented Programming (OOP) that model how objects of one class can contain or use objects of another class, often summarized as \"**has-a**\" relationships. The key difference lies in the **dependency** and **lifecycles** of the contained objects.\n",
    "\n",
    "* Composition represents a **strong** \"Part-of\" or \"Contains-A\" relationship, where the contained object **cannot exist independently** of the containing object.\n",
    "* Aggregation represents a **weak** \"Has-A\" relationship, where the contained object **can exist independently** of the containing object."
   ]
  },
  {
   "cell_type": "markdown",
   "id": "1d9dd3e4",
   "metadata": {},
   "source": [
    "For example, to represent a crystal structure we can create a `Crystal` class that contains a `Cell` class and a `Structure` class. The `Structure` class will be made of a list of `Atom` objects, similalrly to the `Molecule` class we have developed.\n",
    "\n",
    "```python\n",
    "class Cell:\n",
    "    def __init__(self, lattice, angles):\n",
    "        ...\n",
    "    @classmethod\n",
    "    def from_bravais(cls, bravais, *args):\n",
    "        if bravais == 'sc' or bravas == 'simple cubic':\n",
    "            ...\n",
    "        elif bravis == 'fcc'\n",
    "            ...\n",
    "\n",
    "class Atom:\n",
    "    def __init__(self, symbol, coordinates):\n",
    "        ...\n",
    "\n",
    "class Structure:\n",
    "    def __init__(self, atoms):\n",
    "        self.atoms = atoms\n",
    "\n",
    "class Crystal:\n",
    "    def __init__(self, structure, cell):\n",
    "        self.structure = structure\n",
    "        self.cell = cell\n",
    "```"
   ]
  },
  {
   "cell_type": "markdown",
   "id": "2ef6fe4c",
   "metadata": {},
   "source": [
    "This makes it possible to write very compact code like this:\n",
    "```python\n",
    "cry = Crystal.from_POSCAR('CrSb2.vasp')\n",
    "cry.symmetrize(tol=1e-4)\n",
    "cry.to_CIF('CrSb2.cif')\n",
    "```\n",
    "without aggregation you will had to write:\n",
    "```python\n",
    "cell, atoms, coordinates = crystal.read_POSCAR('CrSb2.vasp')\n",
    "newcell, newatoms, newcoordinates = symmetry_library.symmetrize(cell, atoms, coordinates, tol=1e-4)\n",
    "crystal.to_CIF(newcell, newatoms, newcoordinates)\n",
    "```\n",
    "**which one do you prefer?**"
   ]
  },
  {
   "cell_type": "markdown",
   "id": "500d37ae",
   "metadata": {},
   "source": [
    "### Exercise (no coding!)\n",
    "Design a set of classes with applications in chemistry using aggregation/composition. For instance you can describe an **NMR** experiment with a class `NMRExperiment` which aggregates a `NMRMachine(larmor_frequency)` and a `ListOfNuclei` each one with their own chemical shift and J-couplings... then a `NMRPulseSequence('Carr-Purcell')`, .. then `NMRExperiment.get_fid()`, `NMRExperiment.FFT()`, ...\n",
    "\n",
    "Other examples in the fields of physics, chemical physics, biology are welcome.  "
   ]
  },
  {
   "cell_type": "code",
   "execution_count": null,
   "id": "adc7763a",
   "metadata": {},
   "outputs": [],
   "source": []
  }
 ],
 "metadata": {
  "kernelspec": {
   "display_name": "Python 3 (ipykernel)",
   "language": "python",
   "name": "python3"
  },
  "language_info": {
   "codemirror_mode": {
    "name": "ipython",
    "version": 3
   },
   "file_extension": ".py",
   "mimetype": "text/x-python",
   "name": "python",
   "nbconvert_exporter": "python",
   "pygments_lexer": "ipython3",
   "version": "3.11.2"
  }
 },
 "nbformat": 4,
 "nbformat_minor": 5
}
