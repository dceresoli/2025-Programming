{
 "cells": [
  {
   "cell_type": "markdown",
   "id": "2eb5903c",
   "metadata": {},
   "source": [
    "# Programming for Chemistry 2025/2026 @ UniMI\n",
    "![logo](logo_small.png \"Logo\")\n",
    "## Lecture 05: Advanced functions\n",
    "\n",
    "In this lecture we will learn **recursive** functions, i.e. functions that call themselves. We will also discover that functions are also **variables** that can be passes to other functions. By using these features you can build your own library of *general* functions that can be re-used in many codes."
   ]
  },
  {
   "cell_type": "markdown",
   "id": "4835615d",
   "metadata": {},
   "source": [
    "## 1. Recursive functions\n",
    "Recursion is a common mathematical and programming concept. It means that a function calls itself. This has the benefit of meaning that you can loop through data to reach a result.\n",
    "\n",
    "Be careful with recursion as it can be quite easy to slip into writing a function which never terminates, or one that uses excess amounts of memory or processor power. However, when written correctly recursion can be a very efficient and mathematically-elegant approach to programming.\n",
    "\n",
    "In fact, many mathematical series of operation are written in *recursive* way. For instance, the factorial is defined as:\n",
    "\n",
    "$n! = n \\cdot (n-1)$, with $0! = 1! = 1$.\n",
    "\n",
    "The corresponding Python function is very similar to the math:"
   ]
  },
  {
   "cell_type": "code",
   "execution_count": null,
   "id": "1051a1b6",
   "metadata": {},
   "outputs": [],
   "source": [
    "def factorial(n):\n",
    "    assert n >= 0\n",
    "    \n",
    "    if n == 0 or n == 1:               # termination\n",
    "        return 1\n",
    "    else:\n",
    "        return n*factorial(n-1)        # recursion\n",
    "\n",
    "print(factorial(5))\n",
    "print(factorial(1000))                 # this works in Python, fails in most languages, why?"
   ]
  },
  {
   "cell_type": "markdown",
   "id": "867a4838",
   "metadata": {},
   "source": [
    "### How can this go wrong (1)?\n",
    "- be sure that the *termination* statement comes before the recursion, otherwise it will never stop\n",
    "- be sure that the *termination* statement is correct, otherwise it will never stop"
   ]
  },
  {
   "cell_type": "code",
   "execution_count": null,
   "id": "5f892e51",
   "metadata": {},
   "outputs": [],
   "source": [
    "def factorial_wrong(n):\n",
    "    return n*factorial_wrong(n-1)\n",
    "\n",
    "    if n == 0 or n == 1:\n",
    "        return 1\n",
    "    \n",
    "#print(factorial_wrong(5))"
   ]
  },
  {
   "cell_type": "markdown",
   "id": "0fbf37ac",
   "metadata": {},
   "source": [
    "### How can this go wrong (2)?\n",
    "- the Operating System (OS) will limit the number of recursive calls: technically, the OS preallocated a fixed amount of memory (*stack memory*), to keep track of function calls\n",
    "- in reality, the Python interpreter, puts an even stringent limit on recursion levels\n",
    "\n",
    "Here is how to compute the sum from 1 to `n` with a recursive function:"
   ]
  },
  {
   "cell_type": "code",
   "execution_count": null,
   "id": "e07fa7ef",
   "metadata": {},
   "outputs": [],
   "source": [
    "def sum_recursive(n):\n",
    "    assert n > 0\n",
    "    if n == 1:\n",
    "        return 1\n",
    "    else:\n",
    "        return n + sum_recursive(n-1)\n",
    "    \n",
    "print(sum_recursive(100))"
   ]
  },
  {
   "cell_type": "code",
   "execution_count": null,
   "id": "9b040986",
   "metadata": {},
   "outputs": [],
   "source": [
    "# determine approximately the maximum number of recursive calls\n",
    "n = 100\n",
    "while True:\n",
    "    print(n)\n",
    "    a = sum_recursive(n)\n",
    "    n = int(n*1.2)"
   ]
  },
  {
   "cell_type": "code",
   "execution_count": null,
   "id": "fef26740",
   "metadata": {},
   "outputs": [],
   "source": [
    "# the actual value is:\n",
    "import sys\n",
    "print(sys.getrecursionlimit())"
   ]
  },
  {
   "cell_type": "markdown",
   "id": "ad2b3faf",
   "metadata": {},
   "source": [
    "### Is it faster?\n",
    "Let's compare the iterative and the recursive way. The `%timeit` statement is **not** a valid Python statement, it's a Jupyter *statement* that you can use to *benchmark* your algorithms."
   ]
  },
  {
   "cell_type": "code",
   "execution_count": null,
   "id": "4d190588",
   "metadata": {},
   "outputs": [],
   "source": [
    "def ifactorial(n):\n",
    "    assert n >= 0\n",
    "\n",
    "    if n == 0:\n",
    "        return 1\n",
    "\n",
    "    r = 1\n",
    "    for i in range(1,n+1):\n",
    "        r *= i\n",
    "    return r"
   ]
  },
  {
   "cell_type": "code",
   "execution_count": null,
   "id": "794ba576",
   "metadata": {},
   "outputs": [],
   "source": [
    "%timeit factorial(200)\n",
    "%timeit ifactorial(200)"
   ]
  },
  {
   "cell_type": "markdown",
   "id": "a713baf2",
   "metadata": {},
   "source": [
    "### Why using recursive functions then?\n",
    "Because there are certain algorithms that are much easier to write as recursive functions. Those algorithms are **tree traversal** algorithms (i.e. *fast search*), **divide and conquer** methods (i.e. *sorting*) or **back tracking** (i.e. *Sudoko solver*).\n",
    "\n",
    "In computational physics/chemistry, methods than can benefit from recursion are **multi-grid**, **fast multipole**, **coarse graining** methods, just to name a few.\n",
    "\n",
    "Note that every recursive function can be re-written as an iterative function."
   ]
  },
  {
   "cell_type": "markdown",
   "id": "d00ebd23",
   "metadata": {},
   "source": [
    "### Exercise: the Fibonacci sequence\n",
    "The Fibonacci sequence is defined as: $F(n) = F(n-1) + F(n-2)$, with $F(0)=0$ and $F(1)=1$. Write a recursive and an iterative function. Check that $F(20) = 6765$."
   ]
  },
  {
   "cell_type": "code",
   "execution_count": null,
   "id": "b3c6f90f",
   "metadata": {},
   "outputs": [],
   "source": [
    "def fib_recursive(n):\n",
    "    # insert code here"
   ]
  },
  {
   "cell_type": "code",
   "execution_count": null,
   "id": "f52a4108",
   "metadata": {},
   "outputs": [],
   "source": [
    "print(fib_recursive(20))"
   ]
  },
  {
   "cell_type": "code",
   "execution_count": null,
   "id": "39fac182",
   "metadata": {},
   "outputs": [],
   "source": [
    "def fib_iterative(n):\n",
    "    # insert code here"
   ]
  },
  {
   "cell_type": "code",
   "execution_count": null,
   "id": "55508b78",
   "metadata": {},
   "outputs": [],
   "source": [
    "print(fib_iterative(20))"
   ]
  },
  {
   "cell_type": "code",
   "execution_count": null,
   "id": "323fa0ab",
   "metadata": {},
   "outputs": [],
   "source": [
    "%timeit fib_recursive(20)\n",
    "%timeit fib_iterative(20)"
   ]
  },
  {
   "cell_type": "markdown",
   "id": "ed29e361",
   "metadata": {},
   "source": [
    "## 2. Passing functions to functions\n",
    "Functions are also variables! As such they can be stored in lists, etc..  or passed to other functions as arguments.\n"
   ]
  },
  {
   "cell_type": "code",
   "execution_count": null,
   "id": "151ce6e9",
   "metadata": {},
   "outputs": [],
   "source": [
    "import math\n",
    "\n",
    "print(math.sin)"
   ]
  },
  {
   "cell_type": "code",
   "execution_count": null,
   "id": "ca6ce666",
   "metadata": {},
   "outputs": [],
   "source": [
    "functions = [math.cos, math.sin, math.tan]\n",
    "\n",
    "x = 0.1\n",
    "for f in functions:\n",
    "    print(f(x))"
   ]
  },
  {
   "cell_type": "code",
   "execution_count": null,
   "id": "4f61fb62",
   "metadata": {},
   "outputs": [],
   "source": [
    "# please don't do the following! this is allowed in Python, forbidden in other languages\n",
    "\n",
    "# math.sin = math.sqrt\n",
    "# print(math.sin(2.0))"
   ]
  },
  {
   "cell_type": "markdown",
   "id": "8e50db17",
   "metadata": {},
   "source": [
    "We can exploit the fact that function are variables, and write a function that computes a numerical derivative by finite differences:"
   ]
  },
  {
   "cell_type": "code",
   "execution_count": null,
   "id": "c5603714",
   "metadata": {},
   "outputs": [],
   "source": [
    "def derivative(f, x, dx=1e-6):\n",
    "    return (f(x+dx) - f(x))/dx\n",
    "\n",
    "x = 0.1\n",
    "fx = math.sin(x)\n",
    "dfdx = derivative(math.sin, x)\n",
    "print(fx, dfdx, math.cos(x))"
   ]
  },
  {
   "cell_type": "markdown",
   "id": "ec9a39fa",
   "metadata": {},
   "source": [
    "To further convince you that funcions are variables, it is possible to return a function from a function! Technically this is called **closure**."
   ]
  },
  {
   "cell_type": "code",
   "execution_count": null,
   "id": "16578dd0",
   "metadata": {},
   "outputs": [],
   "source": [
    "def deriv(f, dx=1e-6):\n",
    "    def d(x):\n",
    "        return (f(x+dx) - f(x))/dx\n",
    "    return d\n",
    "\n",
    "fx = math.sin\n",
    "dfdx = deriv(fx)      # dfdx is not a float, now it's a new function!\n",
    "\n",
    "x = 0.1\n",
    "print(fx(x), dfdx(x), math.cos(x))    "
   ]
  },
  {
   "cell_type": "markdown",
   "id": "98070926",
   "metadata": {},
   "source": [
    "### Exercise 1: find the zero of a function\n",
    "- Write a function that takes and function and an iterval $[a,b]$ as arguments, and solves $f(x)=0$ with $a\\le x\\le b$.\n",
    "- Use the bisection algorithm, i.e. make $c=(a+b)/2$ and find in which interval $[a,c]$ or $[c,b]$ the zero is located.\n",
    "- Stop when the interval is smaller than a given precision.\n",
    "\n",
    "Find the zero of $f(x) = x^2 - \\log(x^2+2)$ for $x \\in [0,5]$."
   ]
  },
  {
   "cell_type": "code",
   "execution_count": null,
   "id": "6ba536c1",
   "metadata": {},
   "outputs": [],
   "source": [
    "def bisect(f, a, b, tol=1e-6):\n",
    "    # insert code here"
   ]
  },
  {
   "cell_type": "code",
   "execution_count": null,
   "id": "2caabef5",
   "metadata": {},
   "outputs": [],
   "source": [
    "def f(x):\n",
    "    return x*x - math.log(x*x + 2)\n",
    "\n",
    "print(bisect(f, 0, 5))"
   ]
  },
  {
   "cell_type": "markdown",
   "id": "2a862111",
   "metadata": {},
   "source": [
    "### Exercise 2: compute the integral of a function\n",
    "- Write a function that takes and function, an iterval $[a,b]$ as arguments and a number of intervals...\n",
    "- ...and computes the integral of f using the trapezium rule.\n",
    "\n",
    "Compute $\\int_0^1 sin(x^2) dx \\simeq 0.310268$."
   ]
  },
  {
   "cell_type": "code",
   "execution_count": null,
   "id": "3a2356ad",
   "metadata": {},
   "outputs": [],
   "source": [
    "def trapz(f, a, b, n=100):\n",
    "    # insert code here"
   ]
  },
  {
   "cell_type": "code",
   "execution_count": null,
   "id": "a33162f3",
   "metadata": {},
   "outputs": [],
   "source": [
    "def f(x):\n",
    "    return math.sin(x*x)\n",
    "\n",
    "print(trapz(f, 0, 1, n=1000))"
   ]
  },
  {
   "cell_type": "markdown",
   "id": "7acf5a07",
   "metadata": {},
   "source": [
    "## 3. Anonymous functions\n",
    "In the previous exercises we have seen that we need to create a function `f(x)` for each function we want integrate.\n",
    "In the function is simple enough, we can use **lambda** functions.\n",
    "\n",
    "A lambda function is a small anonymous function. A lambda function can take any number of arguments, but can only have one expression. It can be assigned to a variable and or passed to a function directly.\n",
    "\n",
    "The syntax is: `lambda` *arguments*`:` *expression*"
   ]
  },
  {
   "cell_type": "code",
   "execution_count": null,
   "id": "16e30821",
   "metadata": {},
   "outputs": [],
   "source": [
    "g = lambda x: math.sin(x**2)\n",
    "\n",
    "print(g(0), g(1.2))\n",
    "\n",
    "print(trapz(g, 0.0, 1.0))"
   ]
  },
  {
   "cell_type": "code",
   "execution_count": null,
   "id": "4ae53855",
   "metadata": {},
   "outputs": [],
   "source": [
    "integral = trapz(lambda x: x**2, 0, 5, n=1000)\n",
    "print(integral)"
   ]
  },
  {
   "cell_type": "markdown",
   "id": "15e9847a",
   "metadata": {},
   "source": [
    "Lambda functions are very useful when sorting, filtering, mapping to lists and dictionaries. In fact, to sort a list you can specifiy a function that it will be used to compare it's elements, to determine which comes first."
   ]
  },
  {
   "cell_type": "code",
   "execution_count": null,
   "id": "3337f607",
   "metadata": {},
   "outputs": [],
   "source": [
    "numbers = [3, -7, 6, -4, 5, -4, -2, 8, -9, 6]\n",
    "\n",
    "numbers.sort()\n",
    "print('sorted from smaller to larger:', numbers)\n",
    "\n",
    "numbers.sort(key=lambda a: abs(a))\n",
    "print('sorted from smaller to larger in modulus:', numbers)\n",
    "\n",
    "numbers.sort(key=abs)    # the same\n",
    "print('sorted from smaller to larger in modulus:', numbers)\n",
    "\n",
    "numbers.sort(key=lambda a: a*a - 4*a)\n",
    "print('sorted differently:', numbers)"
   ]
  },
  {
   "cell_type": "markdown",
   "id": "afdb9fda",
   "metadata": {},
   "source": [
    "Another example is sorting strings according to different rules, or sorting tuples according their elements.\n"
   ]
  },
  {
   "cell_type": "code",
   "execution_count": null,
   "id": "ce370863",
   "metadata": {},
   "outputs": [],
   "source": [
    "fruits = [\"apple\", \"banana\", \"pear\", \"pineapple\", \"Mango\", \"PAPAYA\", \"orange\"]\n",
    "\n",
    "# default sort\n",
    "fruits.sort()\n",
    "print(fruits)\n",
    "\n",
    "# case insensitive sort\n",
    "fruits.sort(key=lambda a: a.lower())\n",
    "print(fruits)\n",
    "\n",
    "# longest to shortest string\n",
    "fruits.sort(reverse=True, key=lambda a: len(a))\n",
    "# same as:\n",
    "# fruits.sort(reverse=True, key=len)\n",
    "print(fruits)"
   ]
  },
  {
   "cell_type": "code",
   "execution_count": null,
   "id": "94dce8d4",
   "metadata": {},
   "outputs": [],
   "source": [
    "people = [('Duncan', 47), ('Alice', 30), ('Bob', 25), ('Charlie', 35)]\n",
    "\n",
    "# sort by name\n",
    "people.sort(key=lambda a: a[0])\n",
    "print(people)\n",
    "\n",
    "# sort by age\n",
    "people.sort(key=lambda a: a[1])\n",
    "print(people)"
   ]
  },
  {
   "cell_type": "markdown",
   "id": "35b5c0e1",
   "metadata": {},
   "source": [
    "The `map()` function applies a given function to every item of an iterable and returns an iterator of the results. Using a lambda here is a concise way to define the operation."
   ]
  },
  {
   "cell_type": "code",
   "execution_count": null,
   "id": "53881b4c",
   "metadata": {},
   "outputs": [],
   "source": [
    "numbers = [3, -7, 6, -4, 5, -4, -2, 8, -9, 6]\n",
    "\n",
    "squared_numbers = list(map(lambda x: x**2, numbers))\n",
    "print(squared_numbers)"
   ]
  },
  {
   "cell_type": "markdown",
   "id": "146488ac",
   "metadata": {},
   "source": [
    "The `filter()` function constructs an iterator from elements of an iterable for which a function returns true. A `lambda` function is perfect for this, as it allows you to specify a simple condition."
   ]
  },
  {
   "cell_type": "code",
   "execution_count": null,
   "id": "794b2a7b",
   "metadata": {},
   "outputs": [],
   "source": [
    "numbers = [3, -7, 6, -4, 5, -4, -2, 8, -9, 6]\n",
    "\n",
    "even_numbers = list(filter(lambda x: x % 2 == 0, numbers))\n",
    "print(even_numbers)"
   ]
  },
  {
   "cell_type": "markdown",
   "id": "33cea3d0",
   "metadata": {},
   "source": [
    "You can achieve the same output using comprehension, but `lambda` functions are more for the *modern* programmer."
   ]
  },
  {
   "cell_type": "code",
   "execution_count": null,
   "id": "0ccc993a",
   "metadata": {},
   "outputs": [],
   "source": [
    "numbers = [3, -7, 6, -4, 5, -4, -2, 8, -9, 6]\n",
    "\n",
    "even_numbers = [x for x in numbers if x % 2 == 0]\n",
    "print(even_numbers)"
   ]
  },
  {
   "cell_type": "markdown",
   "id": "5b486ec9",
   "metadata": {},
   "source": [
    "## 4. Errors and assertions\n",
    "You might have notice that I've used the `assert` statement to check that the arguments passed to functions are valid. It is good practice to check those assertions.\n",
    "\n",
    "It is also a good practice to `raise` an error if the function cannot perform the tasks or the calculations. Try not to `return` from a function if there is an error or a problem.\n",
    "\n",
    "The Python interpreter will then print an informative message with the lines of code that raised the problem. The typical errors you can raise are: `FloatingPointError`, `IndexError`, `KeyError`, `NotImplementedError`, `RuntimeError`, ..."
   ]
  },
  {
   "cell_type": "code",
   "execution_count": null,
   "id": "37adaafb",
   "metadata": {},
   "outputs": [],
   "source": [
    "def factorial(n):\n",
    "    assert type(n) == int, \"n must be integer\"\n",
    "    assert n >= 0, \"Cannot compute the factorial of negative numbers\"\n",
    "\n",
    "    if n == 0 or n == 1:               # termination\n",
    "        return 1\n",
    "    else:\n",
    "        return n*factorial(n-1)\n",
    "    \n",
    "factorial(5.4)"
   ]
  },
  {
   "cell_type": "markdown",
   "id": "83b29fbe",
   "metadata": {},
   "source": [
    "### Excercise: add some `assert` to the folloing function and `raise` errors if there are no real solutions"
   ]
  },
  {
   "cell_type": "code",
   "execution_count": null,
   "id": "657e9df6",
   "metadata": {},
   "outputs": [],
   "source": [
    "def solve_second(a, b, c):\n",
    "    # add assertions to check that a, b, and c are int or floats\n",
    "\n",
    "    # raise error if a=b=c=0\n",
    "\n",
    "    # raise error is a=0\n",
    "        \n",
    "    d = b*b - 4*a*c\n",
    "    # raise error is d < 0\n",
    "\n",
    "    r1 = (-b - math.sqrt(d))/(2*a)\n",
    "    r2 = (-b + math.sqrt(d))/(2*a)\n",
    "\n",
    "    return r1, r2"
   ]
  },
  {
   "cell_type": "code",
   "execution_count": null,
   "id": "6d1bf16e",
   "metadata": {},
   "outputs": [],
   "source": [
    "#solve_second(10, 2, 3)\n",
    "solve_second('10', 2.0, 4)"
   ]
  },
  {
   "cell_type": "code",
   "execution_count": null,
   "id": "c0fddc44",
   "metadata": {},
   "outputs": [],
   "source": []
  }
 ],
 "metadata": {
  "kernelspec": {
   "display_name": "Python 3 (ipykernel)",
   "language": "python",
   "name": "python3"
  },
  "language_info": {
   "codemirror_mode": {
    "name": "ipython",
    "version": 3
   },
   "file_extension": ".py",
   "mimetype": "text/x-python",
   "name": "python",
   "nbconvert_exporter": "python",
   "pygments_lexer": "ipython3",
   "version": "3.11.2"
  }
 },
 "nbformat": 4,
 "nbformat_minor": 5
}
