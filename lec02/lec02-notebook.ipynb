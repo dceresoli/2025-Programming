{
 "cells": [
  {
   "cell_type": "markdown",
   "id": "4835615d",
   "metadata": {},
   "source": [
    "# Programming for Chemistry 2025/2026 @ UniMI\n",
    "![logo](logo_small.png \"Logo\")\n",
    "## Lecture 02: Variables, data type, conditionals, loops\n",
    "At the end of the last lecture we have already introduced the concept of *variables* and *data types*. Today we will go deeper into this topic."
   ]
  },
  {
   "cell_type": "markdown",
   "id": "1ad7551f",
   "metadata": {},
   "source": [
    "## 1. Variables\n",
    "- Python has no command for declaring a variable.\n",
    "- A variable is created the moment you first assign a value to it.\n",
    "- If you try to use a variable which has not been created, you will get an error.\n",
    "\n",
    "<span style=\"color:red; font-size:24px\">&#x26A0;</span> In other languages (C, C++, Fortran, Go, ..) variables must be declared before used such that enough memory is reserved to store them.\n"
   ]
  },
  {
   "cell_type": "code",
   "execution_count": null,
   "id": "1051a1b6",
   "metadata": {},
   "outputs": [],
   "source": [
    "a = 3\n",
    "b = \"Python\"\n",
    "print(b, a)"
   ]
  },
  {
   "cell_type": "code",
   "execution_count": null,
   "id": "ecd1973b",
   "metadata": {},
   "outputs": [],
   "source": [
    "print(c)"
   ]
  },
  {
   "cell_type": "markdown",
   "id": "867a4838",
   "metadata": {},
   "source": [
    "- Variables do not need to be declared with any particular type, and can even change type after they have been set.\n",
    "- You can get the data type of a variable with the type() function.\n",
    "- If you want to specify the data type of a variable, this can be done with casting using the `int()`, `float()` and `str()` functions.\n",
    "- Note: strings can be enclosed either in single quotes `'` or in double quotes `\"`\n",
    "\n",
    "<span style=\"color:red; font-size:24px\">&#x26A0;</span>In other languages (C, C++, Go) single quotes are for single\n",
    "characters. Double quotes are for strings."
   ]
  },
  {
   "cell_type": "code",
   "execution_count": null,
   "id": "5f892e51",
   "metadata": {},
   "outputs": [],
   "source": [
    "a = 3               # a is of type int\n",
    "print(a, type(a))\n",
    "\n",
    "a = \"Python\"        # a is now of type str\n",
    "print(a, type(a))"
   ]
  },
  {
   "cell_type": "code",
   "execution_count": null,
   "id": "642b6148",
   "metadata": {},
   "outputs": [],
   "source": [
    "a = int(3)\n",
    "print(a, type(a))\n",
    "\n",
    "a = float(3)\n",
    "print(a, type(a))"
   ]
  },
  {
   "cell_type": "code",
   "execution_count": null,
   "id": "70836b47",
   "metadata": {},
   "outputs": [],
   "source": [
    "b = 'Python'\n",
    "c = \"Jupyter\"\n",
    "print(b, \"+\", c)"
   ]
  },
  {
   "cell_type": "markdown",
   "id": "f9c3320d",
   "metadata": {},
   "source": [
    "Variable can have a short name (like x and y) or a more descriptive name (total_volume, NumberOfElements, ...)\n",
    "\n",
    "Rules for Python variables:\n",
    "- A variable name must start with a letter or the underscore character\n",
    "- A variable name cannot start with a number\n",
    "- A variable name can only contain alpha-numeric characters and underscores (A-z, 0-9, and _ )\n",
    "- Variable names are case-sensitive (i.e. age, Age and AGE are three different variables)\n",
    "- A variable name cannot be any of the Python keywords."
   ]
  },
  {
   "cell_type": "code",
   "execution_count": null,
   "id": "b60269e1",
   "metadata": {},
   "outputs": [],
   "source": [
    "# which of this is a valid variable name?\n",
    "myvar = 1\n",
    "my_var = 1\n",
    "my-var = 1\n",
    "_my_var = 1\n",
    "myVar = 1\n",
    "my var = 1\n",
    "MYVAR = 1\n",
    "myvar2 = 1\n",
    "myvar = 1\n",
    "lambda = 2"
   ]
  },
  {
   "cell_type": "markdown",
   "id": "c2765b9a",
   "metadata": {},
   "source": [
    "- Python allows you to assign values to multiple variables in one line\n",
    "- And you can assign the same value to multiple variables in one line\n",
    "- Variables can be deleted to free memory using the keyword `del`"
   ]
  },
  {
   "cell_type": "code",
   "execution_count": null,
   "id": "2241294a",
   "metadata": {},
   "outputs": [],
   "source": [
    "a, b, c = 1, 2.0, 3\n",
    "x = y = 0.0\n",
    "print(a, b, c, x, y)\n",
    "del c\n",
    "print(c)"
   ]
  },
  {
   "cell_type": "markdown",
   "id": "ef644046",
   "metadata": {},
   "source": [
    "## 2. Built-in Data Types\n",
    "In programming, data type is an important concept. Variables can store data of different types, and different types can do different things.\n",
    "\n",
    "Python has the following data types built-in by default, in these categories:\n",
    "\n",
    "|Type|type(x)|\n",
    "|---|---|\n",
    "|Numeric Types:| \tint, rational, float, complex|\n",
    "|Boolean Type:| \tbool|\n",
    "|Text Type:| \tstr|\n",
    "|None Type:| \tNoneType|\n",
    "|Sequence Types:| \tlist, tuple, range|\n",
    "|Mapping Type:| \tdict|\n",
    "|Set Types:| \tset, frozenset|\n",
    "|Binary Types:| \tbytes, bytearray, memoryview|\n",
    "\n",
    "In the following we will illustrate the numeric types."
   ]
  },
  {
   "cell_type": "markdown",
   "id": "dcbc3695",
   "metadata": {},
   "source": [
    "### 2.1 Integers ($\\mathbb{Z}$)\n",
    "Integers in Python have a **flexible size** (aka *BigIntegers*), limited only by the memory of your system. Hence, you can represent very large integer numbers\n",
    "\n",
    "<span style=\"color:red; font-size:24px\">&#x26A0;</span> In most programming languages integers have a fixed size (i.e. 8, 16, 32, 64 bits) because they map the CPU registers. They can be **signed** or **unsigned** and they **wrap around** when doing arithmetics.\n",
    "\n",
    "![alt text](integers_wrap.png \"Integer wrap\")\n",
    "\n",
    "Here is an example in C:\n",
    "```\n",
    "#include <stdlib.h>\n",
    "#include <stdio.h>\n",
    "\n",
    "int main()\n",
    "{\n",
    "     unsigned char a = 170;          /* a is 8 bits: 0..255 */\n",
    "     unsigned char two_a = a * 2;\n",
    "\n",
    "     printf(\"a = %i\\n\", a);\n",
    "     printf(\"2*a = %i\\n\", two_a);\n",
    "\n",
    "     return 0;\n",
    "}\n",
    "```\n",
    "This code prints:\n",
    "```\n",
    "a = 170\n",
    "2*a = 84\n",
    "```"
   ]
  },
  {
   "cell_type": "code",
   "execution_count": null,
   "id": "00051a18",
   "metadata": {},
   "outputs": [],
   "source": [
    "# The leading '!' is a Jupyter shortcut to execute Unix shell commands. I don't know what happend in Windows.\n",
    "!gcc -o integer integer.c\n",
    "!./integer"
   ]
  },
  {
   "cell_type": "markdown",
   "id": "3070b8b4",
   "metadata": {},
   "source": [
    "<span style=\"color:red; font-size:24px\">&#x26A0;</span> Here are the integer ranges in C/C++ and most programming languages:\n",
    "\n",
    "|Type | Alias | Size in bits | Range |\n",
    "|---|---|---|---|\n",
    "|char | Int8| 8 | -128 ... +127|\n",
    "|unsigned char | Uint8 | 8 | 0 ... +255|\n",
    "|short| Int16 | 16 | -32768 ... +32767 |\n",
    "|unsigned short | Uint16 | 16 | 0 ... +65535 |\n",
    "|int | Int32 | 32 | -2$^{31}$ ... +2$^{31}$ - 1 |\n",
    "|unsigned int | Uint32 | 32 | 0 ... +2$^{32}$ - 1 |\n",
    "|long long | Int64 | 64 | -2$^{63}$ ... +2$^{63}$ - 1 |\n",
    "|unsigned long long | Uint64 | 64 | 0 ... +2$^{64}$ - 1 |"
   ]
  },
  {
   "cell_type": "markdown",
   "id": "5dd53787",
   "metadata": {},
   "source": [
    "### Exercise\n",
    "- How many digits are in 2$^{64}$? i.e. compute the $\\log_{10} 2^{64}$ using `math.log10`\n",
    "- Using `math.log` compute $\\log 2^{64}$.\n",
    "- What is the order of magnitude of 20!, 21! and 22! ? (use the Stirling approximation: $\\log x! \\simeq x \\log x - x$)"
   ]
  },
  {
   "cell_type": "code",
   "execution_count": null,
   "id": "cc51264b",
   "metadata": {},
   "outputs": [],
   "source": [
    "import math\n",
    "# insert code here\n"
   ]
  },
  {
   "cell_type": "markdown",
   "id": "3080e48d",
   "metadata": {},
   "source": [
    "### 2.2 Rational numbers ($\\mathbb{Q}$)\n",
    "\n",
    "The `fractions` module provides support for rational number arithmetic. A Fraction instance can be constructed from a pair of rational numbers, from a single number, or from a string."
   ]
  },
  {
   "cell_type": "code",
   "execution_count": null,
   "id": "de9d5bbf",
   "metadata": {},
   "outputs": [],
   "source": [
    "from fractions import Fraction\n",
    "\n",
    "a = Fraction(16, -10)\n",
    "b = Fraction(5)\n",
    "c = Fraction()           # default is zero\n",
    "d = Fraction('3/7')\n",
    "e = Fraction('-0.125')\n",
    "print(a, b, c, d, e)\n",
    "print()\n",
    "\n",
    "print(f'num={a.numerator}, den={a.denominator}')"
   ]
  },
  {
   "cell_type": "markdown",
   "id": "3214dbf2",
   "metadata": {},
   "source": [
    "- You can use the most common mathematical operators on fractions\n",
    "- When converting from a floating point number, you can limit the denominator"
   ]
  },
  {
   "cell_type": "code",
   "execution_count": null,
   "id": "10726d0f",
   "metadata": {},
   "outputs": [],
   "source": [
    "import math\n",
    "print(f'{a} + {b} = {a+b}')\n",
    "print(f'{a} * {b} = {a*b}')\n",
    "print()\n",
    "\n",
    "approx_pi = Fraction(math.pi).limit_denominator(20)\n",
    "print('pi ~=', approx_pi, '=',  float(approx_pi))"
   ]
  },
  {
   "cell_type": "markdown",
   "id": "91475de7",
   "metadata": {},
   "source": [
    "### 2.3 Real numbers ($\\mathbb{R}$)\n",
    "Real numbers cannot be represented exactly on a computer, as they will require an infinite amount of memory. Modern CPUs use *floating point* numbers.\n",
    "\n",
    "- Floating point numbers are stored in scientific notation, not in base 10, but in base 2: $x = \\pm 0.ddddddddd_2 \\cdot 2^{\\pm ee_2}$\n",
    "- Using 32 bits (`float` in C/C++) you can have only 7 significant digits:\n",
    "  ![alt text](float_storage.png \"float\")\n",
    "- Using 64 bits (`double` in C/C++) you can have only 14 significant digits:\n",
    "  ![alt text](double_storage.png \"double\")\n",
    "\n",
    "The floating point limits are:\n",
    "\n",
    "|Type | Alias | Size in bits | Smallest | Largest|\n",
    "|---|---|---|---|---|\n",
    "|float| float32 | 32 | $\\pm$10$^{-37}$ | $\\pm$10$^{+38}$ |\n",
    "|double | float64 | 64 | $\\pm$10$^{-307}$ | $\\pm$10$^{+308}$ |\n",
    "|long double | float128 | 128 | $\\pm$10$^{-4931}$ | $\\pm$10$^{+4932}$ |"
   ]
  },
  {
   "cell_type": "markdown",
   "id": "1272a6a5",
   "metadata": {},
   "source": [
    "### If you will do numeric computations you must be aware of floating points errors and pitfalls:\n",
    "\n",
    "Here is extreme example. In a hypotetical 6-bit floating point type, you can represent only 58 numbers:\n",
    "![alt text](6bit_float.png \"6-bit\")\n",
    "\n",
    "- There is a finite number of floating point numbers.\n",
    "- Floating point numbers are not uniformly distributed, hey are more dense towards the origin. (=> choose units such that your numbers are close to 1).\n",
    "- The number of significat digits might decrease steadily during calculations.\n",
    "- Never sum numbers with very different order of magnitudes; never subtract large numbers which are very close\n",
    "- Do not compare two floating points numbers directly\n",
    "- Mathematical operations are not associative\n",
    "- Modern GPUs might use 16-bit or even smaller floating point numbers for neural networks training/evaluation"
   ]
  },
  {
   "cell_type": "code",
   "execution_count": null,
   "id": "02534bf0",
   "metadata": {},
   "outputs": [],
   "source": [
    "a = 0.1 + 0.2 + 0.3\n",
    "b = (0.1 + 0.2) + 0.3\n",
    "c = 0.1 + (0.2 + 0.3)\n",
    "print(f\"a={a}, b={b}, c={c}\")"
   ]
  },
  {
   "cell_type": "code",
   "execution_count": null,
   "id": "4324b98c",
   "metadata": {},
   "outputs": [],
   "source": [
    "a = 1e20\n",
    "b = 0.01\n",
    "print(a+b)"
   ]
  },
  {
   "cell_type": "code",
   "execution_count": null,
   "id": "463a2a1b",
   "metadata": {},
   "outputs": [],
   "source": [
    "a = 10746596623854847.1\n",
    "b = 10746596623854847.2\n",
    "print(a-b)"
   ]
  },
  {
   "cell_type": "markdown",
   "id": "64495bbb",
   "metadata": {},
   "source": [
    "### Exercise\n",
    "Determine the *machine precision*, i.e. the smallest positive number $\\epsilon$ such that: $1 + \\epsilon \\ne 1$.\n",
    "\n",
    "*Hint: keep dividing by epsilon by 2, executing the cell several times*"
   ]
  },
  {
   "cell_type": "code",
   "execution_count": null,
   "id": "e255afa8",
   "metadata": {},
   "outputs": [],
   "source": [
    "# insert code here"
   ]
  },
  {
   "cell_type": "code",
   "execution_count": null,
   "id": "ebc47fc1",
   "metadata": {},
   "outputs": [],
   "source": [
    "# insert code here"
   ]
  },
  {
   "cell_type": "markdown",
   "id": "775ef87c",
   "metadata": {},
   "source": [
    "### 2.4 Complex numbers ($\\mathbb{C}$)\n",
    "Python complex numbers are stored as a pair of floating point number, the real and imaginary part.\n",
    "\n",
    "- The imaginary unit $i$ in Python is a `1j` instead!\n",
    "- They can be created in cartesian or polar form.\n",
    "- The `cmath` module exports mathematical functions that work on complex numbers. Note for instance that `math.sqrt()` works differently from `cmath.sqrt()`."
   ]
  },
  {
   "cell_type": "code",
   "execution_count": null,
   "id": "5be5dea4",
   "metadata": {},
   "outputs": [],
   "source": [
    "import cmath, math"
   ]
  },
  {
   "cell_type": "code",
   "execution_count": null,
   "id": "427d5ec6",
   "metadata": {},
   "outputs": [],
   "source": [
    "a = complex(1.0, 4.0)\n",
    "b = -2.0 + 7.0j\n",
    "print(a+b, a*b)\n",
    "print(a.real, a.imag)\n",
    "print()\n",
    "\n",
    "c = cmath.rect(7, math.pi/4)    # 7*exp(i*pi/4)\n",
    "print(c)\n",
    "print(abs(c), cmath.phase(c))   # |c|, arg(c)"
   ]
  },
  {
   "cell_type": "code",
   "execution_count": null,
   "id": "d9b23700",
   "metadata": {},
   "outputs": [],
   "source": [
    "print(math.sqrt(-2))"
   ]
  },
  {
   "cell_type": "code",
   "execution_count": null,
   "id": "d567677e",
   "metadata": {},
   "outputs": [],
   "source": [
    "print(cmath.sqrt(-2))"
   ]
  },
  {
   "cell_type": "markdown",
   "id": "dbc2c5b5",
   "metadata": {},
   "source": [
    "### Exercise\n",
    "Solve the second degree equation $a x^2 + b x + c = 0$, with a=10, b=2, c=3 and verify that the roots fulfill the equation."
   ]
  },
  {
   "cell_type": "code",
   "execution_count": null,
   "id": "bef98c19",
   "metadata": {},
   "outputs": [],
   "source": [
    "a, b, c = 10, 2, 3\n",
    "\n",
    "# complete the cell"
   ]
  },
  {
   "cell_type": "markdown",
   "id": "58442aa2",
   "metadata": {},
   "source": [
    "### 2.5 Booleans\n",
    "A boolean can be either `True` or `False`. Booleans are very often the result of comparisons.\n",
    "\n",
    "In Python, like in the majority of languages, the equality is `==`, the non-equality is `!=`. The other comparison operators are `<`, `<=`, `>`, `>=`. You can chain logical operations using `and`, `or`, `not`."
   ]
  },
  {
   "cell_type": "code",
   "execution_count": null,
   "id": "b95ab3a3",
   "metadata": {},
   "outputs": [],
   "source": [
    "a, b = 5, 9\n",
    "print(a == b)\n",
    "print(a != b)"
   ]
  },
  {
   "cell_type": "code",
   "execution_count": null,
   "id": "f583bcae",
   "metadata": {},
   "outputs": [],
   "source": [
    "print(a <= b)\n",
    "print(1 <= a < b)   # this is specific to Python"
   ]
  },
  {
   "cell_type": "code",
   "execution_count": null,
   "id": "f9924002",
   "metadata": {},
   "outputs": [],
   "source": [
    "c = 0\n",
    "\n",
    "print(a > b and c <= 0)           # False     and   True    => False\n",
    "print(a > b or c == 1)            # Fasle     or   False    => False\n",
    "print(not(a > b) or c == 1)       # not(True) or   False    => True"
   ]
  },
  {
   "cell_type": "markdown",
   "id": "a900c772",
   "metadata": {},
   "source": [
    "### 2.6 Strings\n",
    "Strings are used to represent text and are an *array* of characters. We will see more about strings operations and manipulations in a future lecture.\n",
    "\n",
    "Strings only support the `+` and `*` operations."
   ]
  },
  {
   "cell_type": "code",
   "execution_count": null,
   "id": "2308528d",
   "metadata": {},
   "outputs": [],
   "source": [
    "a = 'pippo'\n",
    "b = 'pluto'\n",
    "print(a+b)\n",
    "print(a + \", \" + b)"
   ]
  },
  {
   "cell_type": "code",
   "execution_count": null,
   "id": "df84feda",
   "metadata": {},
   "outputs": [],
   "source": [
    "print(a*10)"
   ]
  },
  {
   "cell_type": "code",
   "execution_count": null,
   "id": "ee3e77c0",
   "metadata": {},
   "outputs": [],
   "source": [
    "a = '|123456789'\n",
    "b = '!----+----'\n",
    "ruler = a*8 + '\\n' + b*8\n",
    "print(ruler)"
   ]
  },
  {
   "cell_type": "markdown",
   "id": "08b9bd28",
   "metadata": {},
   "source": [
    "### 2.7 Output formatting\n",
    "The `f` before the single or double quote make the string special.\n",
    "- It was introduced in Python 3.7\n",
    "- It is used to align (left, right, center) and format numeric type (decimal places, standard vs scientific notation...)\n",
    "- Inside the f-strings, variables in curly brakets are substituted with their values.\n",
    "- You can output your results in a more readable and tabular form."
   ]
  },
  {
   "cell_type": "code",
   "execution_count": null,
   "id": "1def44c8",
   "metadata": {},
   "outputs": [],
   "source": [
    "print(f'The value of pi is: {math.pi}')"
   ]
  },
  {
   "cell_type": "code",
   "execution_count": null,
   "id": "3ff2b275",
   "metadata": {},
   "outputs": [],
   "source": [
    "a = 42\n",
    "print(ruler)\n",
    "print(f'{a:10d}')     # left\n",
    "print(f'{a:<10d}')    # right\n",
    "print(f'{a:^10d}')    # center\n",
    "print(f'{a:04d}')     # 4 columns, leading zeros"
   ]
  },
  {
   "cell_type": "code",
   "execution_count": null,
   "id": "131e6ca8",
   "metadata": {},
   "outputs": [],
   "source": [
    "a = math.pi/3\n",
    "print(ruler)\n",
    "print(f'{a:14f}')     # 14 columns\n",
    "print(f'{a:14.3f}')   # 14 columns, 3 decimals\n",
    "print(f'{a:20.4e}')   # 20 columns, scientific notation, 4 decimals\n",
    "print(f'{a:<20.4e}')  # 20 columns, scientific notation, 4 decimals, align to the left"
   ]
  },
  {
   "cell_type": "code",
   "execution_count": null,
   "id": "008c1386",
   "metadata": {},
   "outputs": [],
   "source": [
    "a = math.pi/3\n",
    "b = math.cos(a)\n",
    "c = math.sin(a)\n",
    "d = math.tan(a)\n",
    "print(ruler)\n",
    "l1, l2, l3, l4 = 'a', 'cos(a)', 'sin(a)', 'tan(a)'\n",
    "print(f'{l1:>20}{l2:>20}{l3:>20}{l4:>20}')\n",
    "print(f'{a:20.10f}{b:20.10f}{c:20.10f}{d:20.10f}')"
   ]
  },
  {
   "cell_type": "markdown",
   "id": "9f46cd6d",
   "metadata": {},
   "source": [
    "## 3. Conditionals and loops"
   ]
  },
  {
   "cell_type": "markdown",
   "id": "d661ce5e",
   "metadata": {},
   "source": [
    "### 3.1 Conditionals: `if`\n",
    "The boolean conditions we encountered in the previous cells can be used in several ways, most commonly in *if  statements* and *loops*.\n",
    "\n",
    "- Python relies on indentation (whitespace at the beginning of a line) to define branches of *if statements*.\n",
    "- `elif` means *else if*\n",
    "- <span style=\"color:red; font-size:24px\">&#x26A0;</span> Other programming languages often use curly-brackets for this purpose.\n",
    "\n",
    "Here is an example of a complete \"if statement\":"
   ]
  },
  {
   "cell_type": "code",
   "execution_count": null,
   "id": "122d095b",
   "metadata": {},
   "outputs": [],
   "source": [
    "a = 10\n",
    "b = 42\n",
    "\n",
    "if a > b:\n",
    "    print(\"a is larger than b\")\n",
    "elif a < b:\n",
    "    print(\"a is smaller than b\")\n",
    "else:\n",
    "    print(\"a is equal to b\")"
   ]
  },
  {
   "cell_type": "code",
   "execution_count": null,
   "id": "068e4437",
   "metadata": {},
   "outputs": [],
   "source": [
    "# this is wrong\n",
    "if a > b:\n",
    "print(\"a is larger than b\")"
   ]
  },
  {
   "cell_type": "code",
   "execution_count": null,
   "id": "349e915a",
   "metadata": {},
   "outputs": [],
   "source": [
    "# this is wrong\n",
    "if a > b:\n",
    "    print(\"a is larger than b\")\n",
    " elif a < b:\n",
    "    print(\"a is smaller than b\")\n",
    "else:\n",
    "    print(\"a is equal to b\")"
   ]
  },
  {
   "cell_type": "markdown",
   "id": "d1a29854",
   "metadata": {},
   "source": [
    "If you have only one statement instead of a block, you can use a **short-hand** version if the if statement, in a single line:"
   ]
  },
  {
   "cell_type": "code",
   "execution_count": null,
   "id": "af0f12e3",
   "metadata": {},
   "outputs": [],
   "source": [
    "print(\"A\") if a > b else print(\"B\")"
   ]
  },
  {
   "cell_type": "markdown",
   "id": "aecf2fdd",
   "metadata": {},
   "source": [
    "### 3.2 Loops: `while`\n",
    "- With the *while loop* we can execute a set of statements as long as a condition is true.\n",
    "- Remember to initialze the loop variable, or else the loop might not work.\n",
    "- Remember to increment the loop variable, or else the loop will continue forever.\n",
    "- With the break statement we can stop the loop even if the while condition is true.\n",
    "- With the continue statement we can stop the current iteration, and continue with the next"
   ]
  },
  {
   "cell_type": "code",
   "execution_count": null,
   "id": "9ea1b35b",
   "metadata": {},
   "outputs": [],
   "source": [
    "i = 1\n",
    "while i < 6:\n",
    "    print(i)\n",
    "    i += 1"
   ]
  },
  {
   "cell_type": "code",
   "execution_count": null,
   "id": "d05dd82c",
   "metadata": {},
   "outputs": [],
   "source": [
    "i = 1\n",
    "while i < 6:\n",
    "    print(i)\n",
    "    if i == 3:\n",
    "        break\n",
    "    i += 1 "
   ]
  },
  {
   "cell_type": "code",
   "execution_count": null,
   "id": "fae3b54f",
   "metadata": {},
   "outputs": [],
   "source": [
    "i = 0\n",
    "while i < 6:\n",
    "    i += 1\n",
    "    if i == 3:\n",
    "        continue\n",
    "    print(i)"
   ]
  },
  {
   "cell_type": "code",
   "execution_count": null,
   "id": "218757fa",
   "metadata": {},
   "outputs": [],
   "source": [
    "# countdown from 10 to 0:\n",
    "i = 10\n",
    "while i > 0:\n",
    "    print(i, end='..')\n",
    "    i -= 1\n",
    "print('ignition')"
   ]
  },
  {
   "cell_type": "markdown",
   "id": "d44c8100",
   "metadata": {},
   "source": [
    "### 3.3 Loops: `for` and `in range`\n",
    "A for loop is used for iterating over a *range* or a *sequence* (that is either a list, a tuple, a dictionary, a set, or a string). For the time being we will just the *for-range* statement.\n",
    "\n",
    "- `range(start,end[,incr])` generates the numbes from *start* (included, default=0) to *end* (excluded) in steps of *incr*.\n",
    "- you can use `break` and `continue` like in the *while statement*.\n",
    "- unfortuntaly you can't use float numbers in `range`."
   ]
  },
  {
   "cell_type": "code",
   "execution_count": null,
   "id": "7452cae5",
   "metadata": {},
   "outputs": [],
   "source": [
    "for i in range(5):        # 5 is excluded\n",
    "    print(i, end=\" \")"
   ]
  },
  {
   "cell_type": "code",
   "execution_count": null,
   "id": "86a7b9f6",
   "metadata": {},
   "outputs": [],
   "source": [
    "for i in range(-3,3):     # 3 is exluded\n",
    "    print(i, end=\" \")"
   ]
  },
  {
   "cell_type": "code",
   "execution_count": null,
   "id": "31893e97",
   "metadata": {},
   "outputs": [],
   "source": [
    "for i in range(10,2,-2):  # 2 is excluded\n",
    "    print(i, end=\" \")"
   ]
  },
  {
   "cell_type": "code",
   "execution_count": null,
   "id": "0fd38ee7",
   "metadata": {},
   "outputs": [],
   "source": [
    "for i in range(10):\n",
    "    if i == 2:\n",
    "        continue\n",
    "    if i == 5:\n",
    "        break\n",
    "    print(i)"
   ]
  },
  {
   "cell_type": "code",
   "execution_count": null,
   "id": "9144008e",
   "metadata": {},
   "outputs": [],
   "source": [
    "for r in range(0,10,0.1):\n",
    "    print(r)"
   ]
  },
  {
   "cell_type": "markdown",
   "id": "12d2c0c5",
   "metadata": {},
   "source": [
    "# Excercises"
   ]
  },
  {
   "cell_type": "markdown",
   "id": "9e6b3938",
   "metadata": {},
   "source": [
    "###  E1: Assign two floating point numbers to a and b, then print a+b, a-b, a\\*b, a/b, a%b formatted with 4 decimal places in 12 columns"
   ]
  },
  {
   "cell_type": "code",
   "execution_count": null,
   "id": "2da4024d",
   "metadata": {},
   "outputs": [],
   "source": [
    "# insert code here"
   ]
  },
  {
   "cell_type": "markdown",
   "id": "0cadd623",
   "metadata": {},
   "source": [
    "### E2: Print number from 10 to 34 included skipping 18. Use both `while` and `for`."
   ]
  },
  {
   "cell_type": "code",
   "execution_count": null,
   "id": "76aacb8e",
   "metadata": {},
   "outputs": [],
   "source": [
    "# insert code here, using 'while'"
   ]
  },
  {
   "cell_type": "code",
   "execution_count": null,
   "id": "5f4ffab7",
   "metadata": {},
   "outputs": [],
   "source": [
    "# insert code here, using 'for'"
   ]
  },
  {
   "cell_type": "markdown",
   "id": "a0a1dc57",
   "metadata": {},
   "source": [
    "### E3: Print odd numbers between 3 and 23"
   ]
  },
  {
   "cell_type": "code",
   "execution_count": null,
   "id": "5282c84d",
   "metadata": {},
   "outputs": [],
   "source": [
    "# insert code here"
   ]
  },
  {
   "cell_type": "markdown",
   "id": "dc36fa11",
   "metadata": {},
   "source": [
    "### E4: Count down from 10 to 1 using a `for` loop"
   ]
  },
  {
   "cell_type": "code",
   "execution_count": null,
   "id": "ac704f6f",
   "metadata": {},
   "outputs": [],
   "source": [
    "# insert code here"
   ]
  },
  {
   "cell_type": "markdown",
   "id": "08c7e021",
   "metadata": {},
   "source": [
    "### E5: Make an infinite loop using `while` and `for` (Kernel->Interrupt to stop it)"
   ]
  },
  {
   "cell_type": "code",
   "execution_count": null,
   "id": "d3493894",
   "metadata": {},
   "outputs": [],
   "source": [
    "# insert code here"
   ]
  },
  {
   "cell_type": "markdown",
   "id": "6e8d95e4",
   "metadata": {},
   "source": [
    "### E6: Calculate the sum of integers from 1 to N (included). The result must be $N*(N+1)/2$"
   ]
  },
  {
   "cell_type": "code",
   "execution_count": null,
   "id": "0002deaf",
   "metadata": {},
   "outputs": [],
   "source": [
    "n = 100\n",
    "# insert code here"
   ]
  },
  {
   "cell_type": "markdown",
   "id": "a687b084",
   "metadata": {},
   "source": [
    "### E7: Calculate the factorial $n!$ with $n=>0$"
   ]
  },
  {
   "cell_type": "code",
   "execution_count": null,
   "id": "f167418d",
   "metadata": {},
   "outputs": [],
   "source": [
    "n = 20\n",
    "# insert code here"
   ]
  },
  {
   "cell_type": "markdown",
   "id": "b56fd31c",
   "metadata": {},
   "source": [
    "### E8: Print the multiplication table of 3"
   ]
  },
  {
   "cell_type": "code",
   "execution_count": null,
   "id": "765c8af5",
   "metadata": {},
   "outputs": [],
   "source": [
    "# insert code here"
   ]
  },
  {
   "cell_type": "markdown",
   "id": "c05a0474",
   "metadata": {},
   "source": [
    "### E9: Print the multiplication table from 1 to 12 included"
   ]
  },
  {
   "cell_type": "code",
   "execution_count": null,
   "id": "c6dffde3",
   "metadata": {},
   "outputs": [],
   "source": [
    "# insert code here"
   ]
  },
  {
   "cell_type": "code",
   "execution_count": null,
   "id": "133b7c3e",
   "metadata": {},
   "outputs": [],
   "source": []
  }
 ],
 "metadata": {
  "kernelspec": {
   "display_name": "Python 3 (ipykernel)",
   "language": "python",
   "name": "python3"
  },
  "language_info": {
   "codemirror_mode": {
    "name": "ipython",
    "version": 3
   },
   "file_extension": ".py",
   "mimetype": "text/x-python",
   "name": "python",
   "nbconvert_exporter": "python",
   "pygments_lexer": "ipython3",
   "version": "3.11.2"
  }
 },
 "nbformat": 4,
 "nbformat_minor": 5
}
