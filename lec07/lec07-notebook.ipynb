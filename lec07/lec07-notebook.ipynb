{
 "cells": [
  {
   "cell_type": "markdown",
   "id": "2eb5903c",
   "metadata": {},
   "source": [
    "# Programming for Chemistry 2025/2026 @ UniMI\n",
    "\n",
    "![logo](python_workbook.png \"Logo\")\n",
    "\n",
    "## Lecture 07: Programming practice\n",
    "\n",
    "In this notebook I have selected some exercises from the book \"The Python Workbook\". Please, solve the exercises until you feel confortable with Python."
   ]
  },
  {
   "cell_type": "markdown",
   "id": "4835615d",
   "metadata": {},
   "source": [
    "## 1. Introduction to Python\n",
    "In this section I have selected some exercises to:\n",
    "* Generate output with print statements\n",
    "* Read input, including casting that input to the appropriate type\n",
    "* Perform calculations involving integers and floating point numbers using Python operators like +, -, *, /, //, ...\n",
    "* Call functions residing in the math module\n",
    "* Control how output is displayed using format specifiers"
   ]
  },
  {
   "cell_type": "markdown",
   "id": "96c5f694",
   "metadata": {},
   "source": [
    "### Exercise 3: Area of a room\n",
    "Write a program that asks the user to enter the width and length of a room. Once\n",
    "the values have been read, your program should compute and display the area of the\n",
    "room. The length and the width will be entered as floating point numbers. Include\n",
    "units in your prompt and output message; either feet or meters, depending on which\n",
    "unit you are more comfortable working with."
   ]
  },
  {
   "cell_type": "code",
   "execution_count": null,
   "id": "9e21977c",
   "metadata": {},
   "outputs": [],
   "source": []
  },
  {
   "cell_type": "markdown",
   "id": "681cbe53",
   "metadata": {},
   "source": [
    "### Exercise 5: Bottle Deposits\n",
    "In many jurisdictions a small deposit is added to drink containers to encourage people\n",
    "to recycle them. In one particular jurisdiction, drink containers holding one liter or\n",
    "less have a $0.10 deposit, and drink containers holding more than one liter have a\n",
    "$0.25 deposit.\n",
    "Write a program that reads the number of containers of each size from the user.\n",
    "Your program should continue by computing and displaying the refund that will be\n",
    "received for returning those containers. Format the output so that it includes a dollar\n",
    "sign and always displays exactly two decimal places."
   ]
  },
  {
   "cell_type": "code",
   "execution_count": null,
   "id": "baa649f1",
   "metadata": {},
   "outputs": [],
   "source": []
  },
  {
   "cell_type": "markdown",
   "id": "3aaa3576",
   "metadata": {},
   "source": [
    "### Exercise 9: Compound Interest\n",
    "Pretend that you have just opened a new savings account that earns 4 percent interest\n",
    "per year. The interest that you earn is paid at the end of the year, and is added\n",
    "to the balance of the savings account. Write a program that begins by reading the\n",
    "amount of money deposited into the account from the user. Then your program should\n",
    "compute and display the amount in the savings account after 1, 2, and 3 years. Display\n",
    "each amount so that it is rounded to 2 decimal places."
   ]
  },
  {
   "cell_type": "code",
   "execution_count": null,
   "id": "2a245b47",
   "metadata": {},
   "outputs": [],
   "source": []
  },
  {
   "cell_type": "markdown",
   "id": "b6bcb711",
   "metadata": {},
   "source": [
    "### Exercise 12: Distance Between Two Points on Earth\n",
    "The surface of the Earth is curved, and the distance between degrees of longitude\n",
    "varies with latitude. As a result, finding the distance between two points on the surface\n",
    "of the Earth is more complicated than simply using the Pythagorean theorem.\n",
    "Let ($t1$, $g1$) and ($t2$, $g2$ ) be the latitude and longitude of two points on the Earth’s\n",
    "surface. The distance between these points, following the surface of the Earth, in\n",
    "kilometers is:\n",
    "\n",
    "$d = 6371.01 \\cdot arccos(sin(t1) \\cdot sin(t2) + cos(t1) \\cdot cos(t2) \\cdot cos(g1 − g2))$\n",
    "\n",
    "The value 6371.01 in the previous equation wasn’t selected at random. It is\n",
    "the average radius of the Earth in kilometers.\n",
    "Create a program that allows the user to enter the latitude and longitude of two\n",
    "points on the Earth in degrees. Your program should display the distance between\n",
    "the points, following the surface of the earth, in kilometers."
   ]
  },
  {
   "cell_type": "code",
   "execution_count": null,
   "id": "e6451ce7",
   "metadata": {},
   "outputs": [],
   "source": []
  },
  {
   "cell_type": "markdown",
   "id": "136950e8",
   "metadata": {},
   "source": [
    "### Exercise 19: Free Fall\n",
    "Create a program that determines how quickly an object is traveling when it hits the\n",
    "ground. The user will enter the height from which the object is dropped in meters (m).\n",
    "Because the object is dropped its initial speed is 0 m/s. Assume\n",
    "that the acceleration due to gravity is 9.8 m/s$^2$ . You can use the formula $v_f = \\sqrt{v_i^2 + 2 a d}$\n",
    "to compute the final speed, $v_f$ , when the initial speed, $v_i$ , acceleration, $a$, and distance, $d$, are known."
   ]
  },
  {
   "cell_type": "code",
   "execution_count": null,
   "id": "5641f49b",
   "metadata": {},
   "outputs": [],
   "source": []
  },
  {
   "cell_type": "markdown",
   "id": "e83dbe17",
   "metadata": {},
   "source": [
    "### Exercise 24: Units of Time\n",
    "Create a program that reads a duration from the user as a number of days, hours,\n",
    "minutes, and seconds. Compute and display the total number of seconds represented\n",
    "by this duration."
   ]
  },
  {
   "cell_type": "code",
   "execution_count": null,
   "id": "c006c9a2",
   "metadata": {},
   "outputs": [],
   "source": []
  },
  {
   "cell_type": "markdown",
   "id": "c37168cb",
   "metadata": {},
   "source": [
    "### Exercise 25: Units of Time (Again)\n",
    "In this exercise you will reverse the process described in the previous exercise.\n",
    "Develop a program that begins by reading a number of seconds from the user.\n",
    "Then your program should display the equivalent amount of time in the form\n",
    "D:HH:MM:SS, where D, HH, MM, and SS represent days, hours, minutes and sec-\n",
    "onds respectively. The hours, minutes and seconds should all be formatted so that\n",
    "they occupy exactly two digits, with a leading 0 displayed if necessary."
   ]
  },
  {
   "cell_type": "code",
   "execution_count": null,
   "id": "9437eabf",
   "metadata": {},
   "outputs": [],
   "source": []
  },
  {
   "cell_type": "markdown",
   "id": "84743c47",
   "metadata": {},
   "source": [
    "### Exercise 31: Sum of the Digits in an Integer\n",
    "Develop a program that reads a four-digit integer from the user and displays the sum\n",
    "of the digits in the number. For example, if the user enters 3141 then your program\n",
    "should display 3 + 1 + 4 + 1 = 9."
   ]
  },
  {
   "cell_type": "code",
   "execution_count": null,
   "id": "ce89cbde",
   "metadata": {},
   "outputs": [],
   "source": []
  },
  {
   "cell_type": "markdown",
   "id": "867a4838",
   "metadata": {},
   "source": [
    "### Exercise 32: Sort 3 Integers\n",
    "Create a program that reads three integers from the user and displays them in sorted\n",
    "order (from smallest to largest). Use the min and max functions to find the smallest\n",
    "and largest values. The middle value can be found by computing the sum of all three\n",
    "values, and then subtracting the minimum value and the maximum value."
   ]
  },
  {
   "cell_type": "code",
   "execution_count": null,
   "id": "12d24049",
   "metadata": {},
   "outputs": [],
   "source": []
  },
  {
   "cell_type": "markdown",
   "id": "9376ac6a",
   "metadata": {},
   "source": [
    "## 2. If Statement Exercises\n",
    "This section will exercise:\n",
    "* Make a decision with an if statement\n",
    "* Select one of two alternatives with an if-else statement\n",
    "* Select from one of several alternatives by using an if-elif or if-elif-else statement\n",
    "* Construct a complex condition for an if statement that includes the Boolean operators and, or and not\n",
    "* Nest an if statement within the body of another if statement"
   ]
  },
  {
   "cell_type": "markdown",
   "id": "b615832e",
   "metadata": {},
   "source": [
    "### Exercise 34: Even or Odd?\n",
    "Write a program that reads an integer from the user. Then your program should\n",
    "display a message indicating whether the integer is even or odd.b"
   ]
  },
  {
   "cell_type": "code",
   "execution_count": null,
   "id": "384b328c",
   "metadata": {},
   "outputs": [],
   "source": []
  },
  {
   "cell_type": "markdown",
   "id": "81a866ce",
   "metadata": {},
   "source": [
    "### Exercise 35: Dog Years\n",
    "It is commonly said that one human year is equivalent to 7 dog years. However this\n",
    "simple conversion fails to recognize that dogs reach adulthood in approximately two\n",
    "years. As a result, some people believe that it is better to count each of the first two\n",
    "human years as 10.5 dog years, and then count each additional human year as 4 dog\n",
    "years. Write a program that implements the conversion from human years to dog years\n",
    "described in the previous paragraph. Ensure that your program works correctly for\n",
    "conversions of less than two human years and for conversions of two or more human\n",
    "years. Your program should display an appropriate error message if the user enters\n",
    "a negative number."
   ]
  },
  {
   "cell_type": "code",
   "execution_count": null,
   "id": "b9da6b95",
   "metadata": {},
   "outputs": [],
   "source": []
  },
  {
   "cell_type": "markdown",
   "id": "20a62aae",
   "metadata": {},
   "source": [
    "### Exercise 38: Month Name to Number of Days\n",
    "The length of a month varies from 28 to 31 days. In this exercise you will create\n",
    "a program that reads the name of a month from the user as a string. Then your\n",
    "program should display the number of days in that month. Display “28 or 29 days”\n",
    "for February so that leap years are addressed."
   ]
  },
  {
   "cell_type": "code",
   "execution_count": null,
   "id": "bbfe315a",
   "metadata": {},
   "outputs": [],
   "source": []
  },
  {
   "cell_type": "markdown",
   "id": "405bcf25",
   "metadata": {},
   "source": [
    "### Exercise 40: Name that Triangle\n",
    "A triangle can be classified based on the lengths of its sides as equilateral, isosceles\n",
    "or scalene. All 3 sides of an equilateral triangle have the same length. An isosceles\n",
    "triangle has two sides that are the same length, and a third side that is a different\n",
    "length. If all of the sides have different lengths then the triangle is scalene.\n",
    "Write a program that reads the lengths of 3 sides of a triangle from the user.\n",
    "Display a message indicating the type of the triangle."
   ]
  },
  {
   "cell_type": "code",
   "execution_count": null,
   "id": "3b059124",
   "metadata": {},
   "outputs": [],
   "source": []
  },
  {
   "cell_type": "markdown",
   "id": "6dc681fe",
   "metadata": {},
   "source": [
    "### Exercise 41: Note To Frequency\n",
    "The following table lists an octave of music notes, beginning with middle C, along\n",
    "with their frequencies.\n",
    "\n",
    "| Note | Frequency (Hz) |\n",
    "|---|---|\n",
    "|C4 |261.63|\n",
    "|D4 |293.66|\n",
    "|E4 |329.63|\n",
    "|F4 |349.23|\n",
    "|G4 |392.00|\n",
    "|A4 |440.00|\n",
    "|B4 |493.88!\n",
    "\n",
    "Begin by writing a program that reads the name of a note from the user and\n",
    "displays the note’s frequency. Your program should support all of the notes listed\n",
    "previously.\n",
    "Once you have your program working correctly for the notes listed previously you\n",
    "should add support for all of the notes from C0 to C8. While this could be done by\n",
    "adding many additional cases to your if statement, such a solution is cumbersome,\n",
    "inelegant and unacceptable for the purposes of this exercise. Instead, you should\n",
    "exploit the relationship between notes in adjacent octaves. In particular, the frequency\n",
    "of any note in octave $n$ is half the frequency of the corresponding note in octave $n+1$.\n",
    "\n",
    "*Hint: To complete this exercise you will need to extract individual characters\n",
    "from the two-character note name so that you can work with the letter and\n",
    "the octave number separately. Once you have separated the parts, compute the\n",
    "frequency of the note in the fourth octave using the data in the table above.\n",
    "Then divide the frequency by $2^{4−x}$ , where $x$ is the octave number entered by\n",
    "the user. This will halve or double the frequency the correct number of times.*"
   ]
  },
  {
   "cell_type": "code",
   "execution_count": null,
   "id": "1fba075a",
   "metadata": {},
   "outputs": [],
   "source": []
  },
  {
   "cell_type": "markdown",
   "id": "83880d11",
   "metadata": {},
   "source": [
    "### Exercise 46: Season from Month and Day\n",
    "The year is divided into four seasons: spring, summer, fall and winter. While the\n",
    "exact dates that the seasons change vary a little bit from year to year because of the\n",
    "way that the calendar is constructed, we will use the following dates for this exercise:\n",
    "\n",
    "| Season | First day |\n",
    "|---|---|\n",
    "|Spring  | March 20 |\n",
    "|Summer  | June 21  |\n",
    "|Fall    | September 22 |\n",
    "|Winter  | December 21 |\n",
    "\n",
    "Create a program that reads a month and day from the user. The user will enter\n",
    "the name of the month as a string, followed by the day within the month as an\n",
    "integer. Then your program should display the season associated with the date that\n",
    "was entered."
   ]
  },
  {
   "cell_type": "code",
   "execution_count": null,
   "id": "ee803a85",
   "metadata": {},
   "outputs": [],
   "source": []
  },
  {
   "cell_type": "markdown",
   "id": "cad78a25",
   "metadata": {},
   "source": [
    "### Exercise 57: Is it a Leap Year?\n",
    "Most years have 365 days. However, the time required for the Earth to orbit the Sun\n",
    "is actually slightly more than that. As a result, an extra day, February 29, is included\n",
    "in some years to correct for this difference. Such years are referred to as leap years.\n",
    "The rules for determining whether or not a year is a leap year follow:\n",
    "* Any year that is divisible by 400 is a leap year.\n",
    "* Of the remaining years, any year that is divisible by 100 is not a leap year.\n",
    "* Of the remaining years, any year that is divisible by 4 is a leap year.\n",
    "* All other years are not leap years.\n",
    "\n",
    "Write a program that reads a year from the user and displays a message indicating\n",
    "whether or not it is a leap year."
   ]
  },
  {
   "cell_type": "code",
   "execution_count": null,
   "id": "9ec86d1b",
   "metadata": {},
   "outputs": [],
   "source": []
  },
  {
   "cell_type": "markdown",
   "id": "26ddeba7",
   "metadata": {},
   "source": [
    "### Exercise 58: Next Day\n",
    "Write a program that reads a date from the user and computes its immediate successor.\n",
    "For example, if the user enters values that represent 2013-11-18 then your program\n",
    "should display a message indicating that the day immediately after 2013-11-18 is\n",
    "2013-11-19. If the user enters values that represent 2013-11-30 then the program\n",
    "should indicate that the next day is 2013-12-01. If the user enters values that represent\n",
    "2013-12-31 then the program should indicate that the next day is 2014-01-01. The\n",
    "date will be entered in numeric form with three separate input statements; one for\n",
    "the year, one for the month, and one for the day. Ensure that your program works\n",
    "correctly for leap years."
   ]
  },
  {
   "cell_type": "code",
   "execution_count": null,
   "id": "f20c970c",
   "metadata": {},
   "outputs": [],
   "source": []
  },
  {
   "cell_type": "markdown",
   "id": "0fbf37ac",
   "metadata": {},
   "source": [
    "## 3. Loop exercises\n",
    "Some of the exercises can be completed easily with\n",
    "both for loops and while loops. Other exercises are much better suited to one\n",
    "type of loop than the other. In addition, some of the exercises require multiple loops."
   ]
  },
  {
   "cell_type": "markdown",
   "id": "462e5ea4",
   "metadata": {},
   "source": [
    "### Exercise 62: Discount Table\n",
    "A particular retailer is having a 60 percent off sale on a variety of discontinued\n",
    "products. The retailer would like to help its customers determine the reduced price\n",
    "of the merchandise by having a printed discount table on the shelf that shows the\n",
    "original prices and the prices after the discount has been applied. Write a program that\n",
    "uses a loop to generate this table, showing the original price, the discount amount,\n",
    "and the new price for purchases of €4.95, €9.95, €14.95, €19.95 and €24.95. Ensure\n",
    "that the discount amounts and the new prices are rounded to 2 decimal places when\n",
    "they are displayed."
   ]
  },
  {
   "cell_type": "code",
   "execution_count": null,
   "id": "7e30b1d3",
   "metadata": {},
   "outputs": [],
   "source": []
  },
  {
   "cell_type": "markdown",
   "id": "28983a0f",
   "metadata": {},
   "source": [
    "### Exercise 63: Temperature Conversion Table\n",
    "Write a program that displays a temperature conversion table for degrees Celsius and\n",
    "degrees Fahrenheit. The table should include rows for all temperatures between 0\n",
    "and 100 degrees Celsius that are multiples of 10 degrees Celsius. Include appropriate\n",
    "headings on your columns. The formula for converting between degrees Celsius and\n",
    "degrees Fahrenheit can be found on the internet."
   ]
  },
  {
   "cell_type": "code",
   "execution_count": null,
   "id": "ef37c9c1",
   "metadata": {},
   "outputs": [],
   "source": []
  },
  {
   "cell_type": "markdown",
   "id": "2f14a0d3",
   "metadata": {},
   "source": [
    "### Exercise 68: Parity Bits\n",
    "A parity bit is a simple mechanism for detecting errors in data transmitted over an\n",
    "unreliable connection such as a telephone line. The basic idea is that an additional bit\n",
    "is transmitted after each group of 8 bits so that a single bit error in the transmission\n",
    "can be detected.\n",
    "Parity bits can be computed for either even parity or odd parity. If even parity\n",
    "is selected then the parity bit that is transmitted is chosen so that the total number\n",
    "of one bits transmitted (8 bits of data plus the parity bit) is even. When odd parity\n",
    "is selected the parity bit is chosen so that the total number of one bits transmitted\n",
    "is odd.\n",
    "Write a program that computes the parity bit for groups of 8 bits entered by the\n",
    "user using even parity. Your program should read strings containing 8 bits until the\n",
    "user enters a blank line. After each string is entered by the user your program should\n",
    "display a clear message indicating whether the parity bit should be 0 or 1. Display\n",
    "an appropriate error message if the user enters something other than 8 bits.\n",
    "*Hint: You should read the input from the user as a string. Then you can use\n",
    "the count method to help you determine the number of zeros and ones in the\n",
    "string. Information about the count method is available online.*"
   ]
  },
  {
   "cell_type": "code",
   "execution_count": null,
   "id": "e9a82cf8",
   "metadata": {},
   "outputs": [],
   "source": []
  },
  {
   "cell_type": "markdown",
   "id": "1eb4001d",
   "metadata": {},
   "source": [
    "### Exercise 69: Approximate $\\pi$\n",
    "The value of π can be approximated by the following infinite series:\n",
    "\n",
    "$\\pi \\simeq 3 + \\frac{4}{2x3x4} - \\frac{4}{4x5x6} + \\frac{4}{6x7x8} - \\frac{4}{8x9x10} + \\cdots$\n",
    "\n",
    "Write a program that displays 15 approximations of $\\pi$. The first approximation\n",
    "should make use of only the first term from the infinite series. Each additional approxi-\n",
    "mation displayed by your program should include one more term in the series, making\n",
    "it a better approximation of $\\pi$ than any of the approximations displayed previously."
   ]
  },
  {
   "cell_type": "code",
   "execution_count": null,
   "id": "7053bd71",
   "metadata": {},
   "outputs": [],
   "source": []
  },
  {
   "cell_type": "markdown",
   "id": "08c96ec1",
   "metadata": {},
   "source": [
    "### Exercise 71: Square Root\n",
    "Write a program that implements Newton’s method to compute and display the square\n",
    "root of a number entered by the user. The algorithm for Newton’s method follows:\n",
    "1. Read x from the user\n",
    "2. Initialize guess to x/2\n",
    "3. While guess is not good enough do\n",
    "4. Update guess to be the average of guess and x/guess\n",
    "\n",
    "When this algorithm completes, guess contains an approximation of the square\n",
    "root. The quality of the approximation depends on how you define “good enough”.\n",
    "In the author’s solution, guess was considered good enough when the absolute value\n",
    "of the difference between (guess\\*guess) and $x$ was less than or equal to 10$^{-12}$."
   ]
  },
  {
   "cell_type": "code",
   "execution_count": null,
   "id": "d41c6a63",
   "metadata": {},
   "outputs": [],
   "source": []
  },
  {
   "cell_type": "markdown",
   "id": "8ef7e2bf",
   "metadata": {},
   "source": [
    "### Exercise 75: Greatest Common Divisor\n",
    "The greatest common divisor of two positive integers, $n$ and $m$, is the largest number,\n",
    "$d$, which divides evenly into both $n$ and $m$. There are several algorithms that can be\n",
    "used to solve this problem, including:\n",
    "1. Initialize d to the smaller of m and n.\n",
    "2. While d does not evenly divide m or d does not evenly divide n do\n",
    "3. Decrease the value of d by 1\n",
    "4. Report d as the greatest common divisor of n and m\n",
    "\n",
    "Write a program that reads two positive integers from the user and uses this algorithm\n",
    "to determine and report their greatest common divisor."
   ]
  },
  {
   "cell_type": "code",
   "execution_count": null,
   "id": "08994fe1",
   "metadata": {},
   "outputs": [],
   "source": []
  },
  {
   "cell_type": "markdown",
   "id": "e1252d3f",
   "metadata": {},
   "source": [
    "### Exercise 77: Binary to Decimal\n",
    "Write a program that converts a binary (base 2) number to decimal (base 10). Your\n",
    "program should begin by reading the binary number from the user as a string. Then\n",
    "it should compute the equivalent decimal number by processing each digit in the\n",
    "binary number. Finally, your program should display the equivalent decimal number\n",
    "with an appropriate message."
   ]
  },
  {
   "cell_type": "code",
   "execution_count": null,
   "id": "50486620",
   "metadata": {},
   "outputs": [],
   "source": []
  },
  {
   "cell_type": "markdown",
   "id": "ad2b3faf",
   "metadata": {},
   "source": [
    "### Exercise 78: Decimal to Binary\n",
    "Write a program that converts a decimal (base 10) number to binary (base 2). Read the\n",
    "decimal number from the user as an integer and then use the division algorithm shown\n",
    "below to perform the conversion. When the algorithm completes, result contains the\n",
    "binary representation of the number. Display the result, along with an appropriate\n",
    "message.\n",
    "1. Let result be an empty string\n",
    "2. Let q represent the number to convert\n",
    "3. repeat:\n",
    "    1. Set r equal to the remainder when q is divided by 2\n",
    "    2. Convert r to a string and add it to the beginning of result\n",
    "    3. Divide q by 2, discarding any remainder, and store the result back into q until q is 0"
   ]
  },
  {
   "cell_type": "markdown",
   "id": "38ef0721",
   "metadata": {},
   "source": [
    "## 4. Function Exercises\n",
    "The exercises in this chapter will help you practice these skills:\n",
    "* Define a function for later use\n",
    "* Pass one or more values into a function\n",
    "* Perform a complex calculation within a function\n",
    "* Return one or more results from a function\n",
    "* Call a function that you have defined previously"
   ]
  },
  {
   "cell_type": "markdown",
   "id": "43d6d681",
   "metadata": {},
   "source": [
    "### Exercise 82: Taxi Fare\n",
    "In a particular jurisdiction, taxi fares consist of a base fare of €4.00, plus €0.25\n",
    "for every 140 meters traveled. Write a function that takes the distance traveled (in\n",
    "kilometers) as its only parameter and returns the total fare as its only result. Write a\n",
    "main program that demonstrates the function."
   ]
  },
  {
   "cell_type": "code",
   "execution_count": null,
   "id": "cd2dd442",
   "metadata": {},
   "outputs": [],
   "source": []
  },
  {
   "cell_type": "markdown",
   "id": "7c6eff2a",
   "metadata": {},
   "source": [
    "### Exercise 84: Median of Three Values\n",
    "Write a function that takes three numbers as parameters, and returns the median value\n",
    "of those parameters as its result. Include a main program that reads three values from\n",
    "the user and displays their median."
   ]
  },
  {
   "cell_type": "code",
   "execution_count": null,
   "id": "88337b22",
   "metadata": {},
   "outputs": [],
   "source": []
  },
  {
   "cell_type": "markdown",
   "id": "83d9c399",
   "metadata": {},
   "source": [
    "### Exercise 87: Center a String in the Terminal\n",
    "Write a function that takes a string of characters as its first parameter, and the width of\n",
    "the terminal in characters as its second parameter. Your function should return a new\n",
    "string that consists of the original string and the correct number of leading spaces\n",
    "so that the original string will appear centered within the provided width when it is\n",
    "printed. Do not add any characters to the end of the string. Include a main program\n",
    "that demonstrates your function."
   ]
  },
  {
   "cell_type": "code",
   "execution_count": null,
   "id": "3e21ba07",
   "metadata": {},
   "outputs": [],
   "source": []
  },
  {
   "cell_type": "markdown",
   "id": "36637618",
   "metadata": {},
   "source": [
    "### Exercise 88: Is it a Valid Triangle?\n",
    "If you have 3 straws, possibly of differing lengths, it may or may not be possible\n",
    "to lay them down so that they form a triangle when their ends are touching. For\n",
    "example, if all of the straws have a length of 6 inches. then one can easily construct\n",
    "an equilateral triangle using them. However, if one straw is 6 inches. long, while the\n",
    "other two are each only 2 inches. long, then a triangle cannot be formed. In general,\n",
    "if any one length is greater than or equal to the sum of the other two then the lengths\n",
    "cannot be used to form a triangle. Otherwise they can form a triangle.\n",
    "Write a function that determines whether or not three lengths can form a triangle.\n",
    "The function will take 3 parameters and return a Boolean result. In addition, write a\n",
    "program that reads 3 lengths from the user and demonstrates the behaviour of this\n",
    "function."
   ]
  },
  {
   "cell_type": "code",
   "execution_count": null,
   "id": "11cf5c94",
   "metadata": {},
   "outputs": [],
   "source": []
  },
  {
   "cell_type": "markdown",
   "id": "6666cbc7",
   "metadata": {},
   "source": [
    "### Exercise 90: Does a String Represent an Integer?\n",
    "In this exercise you will write a function named isInteger that determines\n",
    "whether or not the characters in a string represent a valid integer. When determining\n",
    "if a string represents an integer you should ignore any leading or trailing white space.\n",
    "Once this white space is ignored, a string represents an integer if its length is at least\n",
    "1 and it only contains digits, or if its first character is either + or - and the first\n",
    "character is followed by one or more characters, all of which are digits.\n",
    "Write a main program that reads a string from the user and reports whether or\n",
    "not it represents an integer. Ensure that the main program will not run if the file\n",
    "containing your solution is imported into another program.\n",
    "*Hint: You may find the `lstrip`, `rstrip` and/or `strip` methods for strings\n",
    "helpful when completing this exercise. Documentation for these methods is\n",
    "available online.*"
   ]
  },
  {
   "cell_type": "code",
   "execution_count": null,
   "id": "51e3d7e1",
   "metadata": {},
   "outputs": [],
   "source": []
  },
  {
   "cell_type": "markdown",
   "id": "ac5e7f4e",
   "metadata": {},
   "source": [
    "### Exercise 95: Random License Plate\n",
    "In a particular jurisdiction, older license plates consist of three letters followed by\n",
    "three numbers. When all of the license plates following that pattern had been used,\n",
    "the format was changed to four numbers followed by three letters.\n",
    "Write a function that generates a random license plate. Your function should have\n",
    "approximately equal odds of generating a sequence of characters for an old license\n",
    "plate or a new license plate. Write a main program that calls your function and\n",
    "displays the randomly generated license plate."
   ]
  },
  {
   "cell_type": "code",
   "execution_count": null,
   "id": "23287f63",
   "metadata": {},
   "outputs": [],
   "source": []
  },
  {
   "cell_type": "markdown",
   "id": "2b7ceadf",
   "metadata": {},
   "source": [
    "### Exercise 96: Check a Password\n",
    "In this exercise you will write a function that determines whether or not a password\n",
    "is good. We will define a good password to be a one that is at least 8 characters\n",
    "long and contains at least one uppercase letter, at least one lowercase letter, and at\n",
    "least one number. Your function should return true if the password passed to it as\n",
    "its only parameter is good. Otherwise it should return false. Include a main program\n",
    "that reads a password from the user and reports whether or not it is good. Ensure\n",
    "that your main program only runs when your solution has not been imported into\n",
    "another file."
   ]
  },
  {
   "cell_type": "code",
   "execution_count": null,
   "id": "428c275d",
   "metadata": {},
   "outputs": [],
   "source": []
  },
  {
   "cell_type": "markdown",
   "id": "df8de14f",
   "metadata": {},
   "source": [
    "### Exercise 100: Days in a Month\n",
    "Write a function that determines how many days there are in a particular month. Your\n",
    "function will take two parameters: The month as an integer between 1 and 12, and\n",
    "the year as a four digit integer. Ensure that your function reports the correct number\n",
    "of days in February for leap years. Include a main program that reads a month and\n",
    "year from the user and displays the number of days in that month. You may find your\n",
    "solution to Exercise 57 helpful when solving this problem."
   ]
  },
  {
   "cell_type": "code",
   "execution_count": null,
   "id": "0ec579b5",
   "metadata": {},
   "outputs": [],
   "source": []
  },
  {
   "cell_type": "markdown",
   "id": "a713baf2",
   "metadata": {},
   "source": [
    "### Exercise 103: Magic Dates\n",
    "A magic date is a date where the day multiplied by the month is equal to the two digit\n",
    "year. For example, June 10, 1960 is a magic date because June is the sixth month, and\n",
    "6 times 10 is 60, which is equal to the two digit year. Write a function that determines\n",
    "whether or not a date is a magic date. Use your function to create a main program\n",
    "that finds and displays all of the magic dates in the 20th century. You will probably\n",
    "find your solution to Exercise 100 helpful when completing this exercise."
   ]
  },
  {
   "cell_type": "code",
   "execution_count": null,
   "id": "eabecfaa",
   "metadata": {},
   "outputs": [],
   "source": []
  },
  {
   "cell_type": "markdown",
   "id": "d00ebd23",
   "metadata": {},
   "source": [
    "## 5. List exercises\n",
    "To solve the exercises in this chapter you should expect to:\n",
    "* Create a variable that holds a list of values\n",
    "* Modify a list by appending, inserting, updating and deleting elements\n",
    "* Search a list for a value\n",
    "* Display some or all of the values in a list\n",
    "* Write a function that takes a list as a parameter\n",
    "* Write a function that returns a list as its result"
   ]
  },
  {
   "cell_type": "markdown",
   "id": "dcaf9a3e",
   "metadata": {},
   "source": [
    "### Exercise 104: Sorted Order\n",
    "Write a program that reads integers from the user and stores them in a list. Your\n",
    "program should continue reading values until the user enters 0. Then it should display\n",
    "all of the values entered by the user (except for the 0) in order from smallest to largest,\n",
    "with one value appearing on each line. Use either the sort method or the sorted\n",
    "function to sort the list."
   ]
  },
  {
   "cell_type": "code",
   "execution_count": null,
   "id": "2cb3b915",
   "metadata": {},
   "outputs": [],
   "source": []
  },
  {
   "cell_type": "markdown",
   "id": "a33c29ec",
   "metadata": {},
   "source": [
    "### Exercise 106: Remove Outliers\n",
    "When analysing data collected as part of a science experiment it may be desirable\n",
    "to remove the most extreme values before performing other calculations. Write a\n",
    "function that takes a list of values and an non-negative integer, n, as its parameters.\n",
    "The function should create a new copy of the list with the n largest elements and the\n",
    "n smallest elements removed. Then it should return the new copy of the list as the\n",
    "function’s only result. The order of the elements in the returned list does not have to\n",
    "match the order of the elements in the original list.\n",
    "Write a main program that demonstrates your function. Your function should read\n",
    "a list of numbers from the user and remove the two largest and two smallest values\n",
    "from it. Display the list with the outliers removed, followed by the original list. Your\n",
    "program should generate an appropriate error message if the user enters less than 4\n",
    "values."
   ]
  },
  {
   "cell_type": "code",
   "execution_count": null,
   "id": "73a0b919",
   "metadata": {},
   "outputs": [],
   "source": []
  },
  {
   "cell_type": "markdown",
   "id": "cf98f1e0",
   "metadata": {},
   "source": [
    "### Exercise 107: Avoiding Duplicates\n",
    "In this exercise, you will create a program that reads words from the user until the\n",
    "user enters a blank line. After the user enters a blank line your program should dis-\n",
    "play each word entered by the user exactly once. The words should be displayed in\n",
    "the same order that they were entered. For example, if the user enters:\n",
    "```first\n",
    "second\n",
    "first\n",
    "third\n",
    "second\n",
    "```\n",
    "then your program should display:\n",
    "```first\n",
    "second\n",
    "third\n",
    "```"
   ]
  },
  {
   "cell_type": "code",
   "execution_count": null,
   "id": "a8b508cf",
   "metadata": {},
   "outputs": [],
   "source": []
  },
  {
   "cell_type": "markdown",
   "id": "6ee8e9ec",
   "metadata": {},
   "source": [
    "### Exercise 109: List of Proper Divisors\n",
    "A proper divisor of a positive integer, n, is a positive integer less than n which divides\n",
    "evenly into n. Write a function that computes all of the proper divisors of a positive\n",
    "integer. The integer will be passed to the function as its only parameter. The function\n",
    "will return a list containing all of the proper divisors as its only result. Complete\n",
    "this exercise by writing a main program that demonstrates the function by reading\n",
    "a value from the user and displaying the list of its proper divisors. Ensure that your\n",
    "main program only runs when your solution has not been imported into another file."
   ]
  },
  {
   "cell_type": "code",
   "execution_count": null,
   "id": "11327ca8",
   "metadata": {},
   "outputs": [],
   "source": []
  },
  {
   "cell_type": "markdown",
   "id": "1377ac72",
   "metadata": {},
   "source": [
    "### Exercise 110: Perfect Numbers\n",
    "An integer, n, is said to be perfect when the sum of all of the proper divisors of n is\n",
    "equal to n. For example, 28 is a perfect number because its proper divisors are 1, 2,\n",
    "4, 7 and 14, and 1 + 2 + 4 + 7 + 14 = 28.\n",
    "Write a function that determines whether or not a positive integer is perfect. Your\n",
    "function will take one parameter. If that parameter is a perfect number then your func-\n",
    "tion will return true. Otherwise it will return false. In addition, write a main program\n",
    "that uses your function to identify and display all of the perfect numbers between 1\n",
    "and 10,000. Import your solution to Exercise 109 when completing this task.\n",
    "Write a main program that demonstrates your function. It should read a string\n",
    "from the user and display all of the words in the string with the punctuation marks\n",
    "removed. You will need to import your solution to this exercise when completing\n",
    "Exercise 158. As a result, you should ensure that your main program only runs when\n",
    "your file has not been imported into another program."
   ]
  },
  {
   "cell_type": "code",
   "execution_count": null,
   "id": "4c96c242",
   "metadata": {},
   "outputs": [],
   "source": []
  },
  {
   "cell_type": "markdown",
   "id": "b5a7aced",
   "metadata": {},
   "source": [
    "### Exercise 112: Below and Above Average\n",
    "Write a program that reads numbers from the user until a blank line is entered. Your\n",
    "program should display the average of all of the values entered by the user. Then\n",
    "the program should display all of the below average values, followed by all of the\n",
    "average values (if any), followed by all of the above average values. An appropriate\n",
    "label should be displayed before each list of values."
   ]
  },
  {
   "cell_type": "code",
   "execution_count": null,
   "id": "fa205bcd",
   "metadata": {},
   "outputs": [],
   "source": []
  },
  {
   "cell_type": "markdown",
   "id": "68e54b70",
   "metadata": {},
   "source": [
    "### Exercise 114: Random Lottery Numbers\n",
    "In order to win the top prize in a particular lottery, one must match all 6 numbers\n",
    "on his or her ticket to the 6 numbers between 1 and 49 that are drawn by the lottery\n",
    "organizer. Write a program that generates a random selection of 6 numbers for a\n",
    "lottery ticket. Ensure that the 6 numbers selected do not contain any duplicates.\n",
    "Display the numbers in ascending order."
   ]
  },
  {
   "cell_type": "code",
   "execution_count": null,
   "id": "84984d77",
   "metadata": {},
   "outputs": [],
   "source": []
  },
  {
   "cell_type": "markdown",
   "id": "33bfbe67",
   "metadata": {},
   "source": [
    "### Exercise 118: Shuffling a Deck of Cards\n",
    "A standard deck of playing cards contains 52 cards. Each card has one of four suits\n",
    "along with a value. The suits are normally spades, hearts, diamonds and clubs while\n",
    "the values are 2 through 10, Jack, Queen, King and Ace.\n",
    "Each playing card can be represented using two characters. The first character is\n",
    "the value of the card, with the values 2 through 9 being represented directly. The\n",
    "characters “T”, “J”, “Q”, “K” and “A” are used to represent the values 10, Jack,\n",
    "Queen, King and Ace respectively. The second character is used to represent the suit\n",
    "of the card. It is normally a lowercase letter: “s” for spades, “h” for hearts, “d” for\n",
    "diamonds and “c” for clubs.\n",
    "Begin by writing a function named `createDeck`. It will use loops to create a\n",
    "complete deck of cards by storing the two-character abbreviations for all 52 cards\n",
    "into a list. Return the list of cards as the function’s only result. Your function will\n",
    "not take any parameters.\n",
    "Write a second function named `shuffleDeck` that randomizes the order of the cards\n",
    "in a list. One technique that can be used to shuffle the cards is to visit each element\n",
    "in the list and swap it with another random element in the list. You must write your\n",
    "own loop for shuffling the cards. You cannot make use of Python’s built-in shuffle\n",
    "function.\n",
    "Use both of the functions described in the previous paragraphs to create a main\n",
    "program that displays a deck of cards before and after it has been shuffled. Ensure\n",
    "that your main program only runs when your functions have not been imported into\n",
    "another file."
   ]
  },
  {
   "cell_type": "code",
   "execution_count": null,
   "id": "2e62bcef",
   "metadata": {},
   "outputs": [],
   "source": []
  },
  {
   "cell_type": "markdown",
   "id": "6759122c",
   "metadata": {},
   "source": [
    "### Exercise 119: Dealing Hands of Cards\n",
    "In many card games each player is dealt a specific number of cards after the deck\n",
    "has been shuffled. Write a function, deal, which takes the number of hands, the\n",
    "number of cards per hand, and a deck of cards as its three parameters. Your function\n",
    "should return a list containing all of the hands that were dealt. Each hand will be\n",
    "represented as a list of cards.\n",
    "When dealing the hands, your function should modify the deck of cards passed\n",
    "to it as a parameter, removing each card from the deck as it is added to a player’s\n",
    "hand. When cards are dealt, it is customary to give each player a card before any\n",
    "player receives an additional card. Your function should follow this custom when\n",
    "constructing the hands for the players.\n",
    "Use your solution to Exercise 118 to help you construct a main program that\n",
    "creates and shuffles a deck of cards, and then deals out four hands of five cards each.\n",
    "Display all of the hands of cards, along with the cards remaining in the deck after\n",
    "the hands have been dealt."
   ]
  },
  {
   "cell_type": "code",
   "execution_count": null,
   "id": "bc364be7",
   "metadata": {},
   "outputs": [],
   "source": []
  },
  {
   "cell_type": "markdown",
   "id": "03fcdfe3",
   "metadata": {},
   "source": [
    "### Exercise 120: Is a List already in Sorted Order?\n",
    "Write a function that determines whether or not a list of values is in sorted order\n",
    "(either ascending or descending). The function should return True if the list is\n",
    "already sorted. Otherwise it should return False. Write a main program that reads\n",
    "a list of numbers from the user and then uses your function to report whether or not\n",
    "the list is sorted.\n",
    "Make sure you consider these questions when completing this exercise: Is a\n",
    "list that is empty in sorted order? What about a list containing one element?"
   ]
  },
  {
   "cell_type": "code",
   "execution_count": null,
   "id": "030f3bed",
   "metadata": {},
   "outputs": [],
   "source": []
  },
  {
   "cell_type": "markdown",
   "id": "221eb03c",
   "metadata": {},
   "source": [
    "### Exercise 121: Count the Elements\n",
    "Python’s standard library includes a method named count that determines how\n",
    "many times a specific value occurs in a list. In this exercise, you will create a new\n",
    "function named countRange which determines and returns the number of elements\n",
    "within a list that are greater than or equal to some minimum value and less than some\n",
    "maximum value. Your function will take three parameters: the list, the minimum\n",
    "value and the maximum value. It will return an integer result greater than or equal to 0.\n",
    "Include a main program that demonstrates your function for several different lists,\n",
    "minimum values and maximum values. Ensure that your program works correctly\n",
    "for both lists of integers and lists of floating point numbers."
   ]
  },
  {
   "cell_type": "code",
   "execution_count": null,
   "id": "64099511",
   "metadata": {},
   "outputs": [],
   "source": []
  },
  {
   "cell_type": "markdown",
   "id": "c1482457",
   "metadata": {},
   "source": [
    "### Exercise 125: Does a List contain a Sublist?\n",
    "A sublist is a list that makes up part of a larger list. A sublist may be a list containing\n",
    "a single element, multiple elements, or even no elements at all. For example,  `[1]`,\n",
    "`[2]`, `[3]` and `[4]` are all sublists of `[1, 2, 3, 4]`. The list `[2, 3]` is also a\n",
    "sublist of `[1, 2, 3, 4]`, but `[2, 4]` is not a sublist of `[1, 2, 3, 4]` because\n",
    "the elements 2 and 4 are not adjacent in the longer list. The empty list is a sublist of\n",
    "any list. As a result, `[]` is a sublist of `[1, 2, 3, 4]`. A list is a sublist of itself,\n",
    "meaning that `[1, 2, 3, 4]` is also a sublist of `[1, 2, 3, 4]`.\n",
    "In this exercise you will create a function, isSublist, that determines whether\n",
    "or not one list is a sublist of another. Your function should take two lists, larger\n",
    "and smaller, as its only parameters. It should return True if and only if smaller\n",
    "is a sublist of larger. Write a main program that demonstrates your function."
   ]
  },
  {
   "cell_type": "code",
   "execution_count": null,
   "id": "6b65180d",
   "metadata": {},
   "outputs": [],
   "source": []
  },
  {
   "cell_type": "markdown",
   "id": "ed29e361",
   "metadata": {},
   "source": [
    "### Exercise 126: Generate All Sublists of a List\n",
    "Using the definition of a sublist from Exercise 125, write a function that returns a list\n",
    "containing every possible sublist of a list. For example, the sublists of `[1, 2, 3]`\n",
    "are `[]`, `[1]`, `[2]`, `[3]`, `[1, 2]`, `[2, 3]` and `[1, 2, 3]`. Note that your func-\n",
    "tion will always return a list containing at least the empty list because the empty list\n",
    "is a sublist of every list. Include a main program that demonstrate your function by\n",
    "displaying all of the sublists of several different lists."
   ]
  },
  {
   "cell_type": "code",
   "execution_count": null,
   "id": "b50ca7b0",
   "metadata": {},
   "outputs": [],
   "source": []
  },
  {
   "cell_type": "markdown",
   "id": "917a0635",
   "metadata": {},
   "source": [
    "## 6. Dictionary exercises\n",
    "Completing the exercises in this chapter will help you learn to:\n",
    "* Create a new variable that holds a dictionary\n",
    "* Add a key-value pair to a dictionary\n",
    "* Update the value associated with a key in a dictionary\n",
    "* Iterate over all of the keys and/or values in a dictionary\n",
    "* Write functions that take dictionaries as parameters"
   ]
  },
  {
   "cell_type": "markdown",
   "id": "c5bce7cf",
   "metadata": {},
   "source": [
    "### Exercise 128: Reverse Lookup\n",
    "Write a function named reverseLookup that finds all of the keys in a dictionary\n",
    "that map to a specific value. The function will take the dictionary and the value to\n",
    "search for as its only parameters. It will return a (possibly empty) list of keys from\n",
    "the dictionary that map to the provided value.\n",
    "Include a main program that demonstrates the reverseLookup function as part\n",
    "of your solution to this exercise. Your program should create a dictionary and then\n",
    "show that the reverseLookup function works correctly when it returns multiple\n",
    "keys, a single key, and no keys. Ensure that your main program only runs when\n",
    "the file containing your solution to this exercise has not been imported into another\n",
    "program."
   ]
  },
  {
   "cell_type": "code",
   "execution_count": null,
   "id": "2ac097e5",
   "metadata": {},
   "outputs": [],
   "source": []
  },
  {
   "cell_type": "markdown",
   "id": "4c3e7d5b",
   "metadata": {},
   "source": [
    "### Exercise 133: Write Out Numbers in English\n",
    "While the popularity of cheques as a payment method has diminished in recent years,\n",
    "some companies still issue them to pay employees or vendors. The amount being\n",
    "paid normally appears on a cheque twice, with one occurrence written using digits,\n",
    "and the other occurrence written using English words. Repeating the amount in two\n",
    "different forms makes it much more difficult for an unscrupulous employee or vendor\n",
    "to modify the amount on the cheque before depositing it.\n",
    "In this exercise, your task is to create a function that takes an integer between 0 and\n",
    "999 as its only parameter, and returns a string containing the English words for that\n",
    "number. For example, if the parameter to the function is 142 then your function should\n",
    "return `\"one hundred forty two\"`. Use one or more dictionaries to implement\n",
    "your solution rather than large `if/elif/else` constructs. Include a main program that\n",
    "reads an integer from the user and displays its value in English words."
   ]
  },
  {
   "cell_type": "code",
   "execution_count": null,
   "id": "c07eafbb",
   "metadata": {},
   "outputs": [],
   "source": []
  },
  {
   "cell_type": "markdown",
   "id": "8f58a615",
   "metadata": {},
   "source": [
    "### Exercise 134: Unique Characters\n",
    "Create a program that determines and displays the number of unique characters in a\n",
    "string entered by the user. For example, `Hello, World!` has 10 unique characters\n",
    "while `zzz` has only one unique character. Use a dictionary or set to solve this problem."
   ]
  },
  {
   "cell_type": "code",
   "execution_count": null,
   "id": "b4c6c500",
   "metadata": {},
   "outputs": [],
   "source": []
  },
  {
   "cell_type": "markdown",
   "id": "4481f4d3",
   "metadata": {},
   "source": [
    "### Exercise 135: Anagrams\n",
    "Two words are anagrams if they contain all of the same letters, but in a different\n",
    "order. For example, “evil” and “live” are anagrams because each contains one e, one\n",
    "i, one l, and one v. Create a program that reads two strings from the user, determines\n",
    "whether or not they are anagrams, and reports the result."
   ]
  },
  {
   "cell_type": "code",
   "execution_count": null,
   "id": "a1f3a0d8",
   "metadata": {},
   "outputs": [],
   "source": []
  },
  {
   "cell_type": "markdown",
   "id": "1b942dd0",
   "metadata": {},
   "source": [
    "### Exercise 138: Create a Bingo Card\n",
    "A Bingo card consists of 5 columns of 5 numbers. The columns are labeled with the\n",
    "letters B, I, N, G and O. There are 15 numbers that can appear under each letter. In\n",
    "particular, the numbers that can appear under the B range from 1 to 15, the numbers\n",
    "that can appear under the I range from 16 to 30, the numbers that can appear under\n",
    "the N range from 31 to 45, and so on.\n",
    "Write a function that creates a random Bingo card and stores it in a dictionary. The\n",
    "keys will be the letters B, I, N, G and O. The values will be the lists of five numbers\n",
    "that appear under each letter. Write a second function that displays the Bingo card\n",
    "with the columns labeled appropriately. Use these functions to write a program that\n",
    "displays a random Bingo card. Ensure that the main program only runs when the file\n",
    "containing your solution has not been imported into another program.\n",
    "You may be aware that Bingo cards often have a “free” space in the middle of\n",
    "the card. We won’t consider the free space in this exercise."
   ]
  },
  {
   "cell_type": "code",
   "execution_count": null,
   "id": "9ca53694",
   "metadata": {},
   "outputs": [],
   "source": []
  },
  {
   "cell_type": "markdown",
   "id": "a12bc2da",
   "metadata": {},
   "source": [
    "### Exercise 139: Checking for a Winning Card\n",
    "A winning Bingo card contains a line of 5 numbers that have all been called. Players\n",
    "normally mark the numbers that have been called by crossing them out or marking\n",
    "them with a Bingo dauber. In our implementation we will mark that a number has\n",
    "been called by replacing it with a 0 in the Bingo card dictionary.\n",
    "Write a function that takes a dictionary representing a Bingo card as its only\n",
    "parameter. If the card contains a line of five zeros (vertical, horizontal or diagonal)\n",
    "then your function should return True, indicating that the card has won. Otherwise\n",
    "the function should return False.\n",
    "Create a main program that demonstrates your function by creating several Bingo\n",
    "cards, displaying them, and indicating whether or not they contain a winning line.\n",
    "You should demonstrate your function with at least one card with a horizontal line,\n",
    "at least one card with a vertical line, at least one card with a diagonal line, and at\n",
    "least one card that has some numbers crossed out but does not contain a winning line.\n",
    "You will probably want to import your solution to Exercise 138 when completing\n",
    "this exercise.\n",
    "*Hint: Because there are no negative numbers on a Bingo card, finding a line\n",
    "of 5 zeros is the same problem as finding a line of 5 entries that sum to zero.\n",
    "You may find the summation problem easier to solve.*"
   ]
  },
  {
   "cell_type": "code",
   "execution_count": null,
   "id": "93d7c23c",
   "metadata": {},
   "outputs": [],
   "source": []
  },
  {
   "cell_type": "markdown",
   "id": "df99f503",
   "metadata": {},
   "source": [
    "### Exercise 140: Play Bingo\n",
    "In this exercise you will write a program that simulates a game of Bingo for a single\n",
    "card. Begin by generating a list of all of the valid Bingo calls (B1 through O75). Once\n",
    "the list has been created you can randomize the order of its elements by calling the\n",
    "shuffle function in the random module. Then your program should consume calls\n",
    "out of the list, crossing out numbers on the card, until the card contains a crossed out\n",
    "line (horizontal, vertical or diagonal). Simulate 1,000 games and report the minimum,\n",
    "maximum and average number of calls that must be made before the card wins. Import\n",
    "your solutions to Exercises 138 and 139 when completing this exercise."
   ]
  },
  {
   "cell_type": "markdown",
   "id": "5f50f23a",
   "metadata": {},
   "source": [
    "## 7. Files\n",
    "When completing the exercises in this chapter, you should expect to:\n",
    "* Open a file for reading and/or writing\n",
    "* Read data from a file\n",
    "* Write data to a new file\n",
    "* Detect and recover from errors such as attempting to open a file that doesn’t exist\n",
    "* Detect and recover from other errors that are not specifically related to files"
   ]
  },
  {
   "cell_type": "markdown",
   "id": "b6386997",
   "metadata": {},
   "source": [
    "### Exercise 141: Display the Head of a File\n",
    "Unix-based operating systems usually include a tool named head. It displays the\n",
    "first 10 lines of a file whose name is provided as a command line parameter. Write\n",
    "a Python program that provides the same behavior. Display an appropriate error\n",
    "message if the file requested by the user does not exist or if the command line\n",
    "parameter is omitted."
   ]
  },
  {
   "cell_type": "code",
   "execution_count": null,
   "id": "81eb0d93",
   "metadata": {},
   "outputs": [],
   "source": []
  },
  {
   "cell_type": "markdown",
   "id": "9fc30be8",
   "metadata": {},
   "source": [
    "### Exercise 142: Display the Tail of a File\n",
    "Unix-based operating systems also typically include a tool named tail. It displays\n",
    "the last 10 lines of a file whose name is provided as a command line parameter.\n",
    "Write a Python program that provides the same behavior. Display an appropriate\n",
    "error message if the file requested by the user does not exist or if the command line\n",
    "parameter is omitted.\n",
    "There are several different approaches that can be taken to solve this problem.\n",
    "One option is to load the entire contents of the file into a list and then display the\n",
    "last 10 elements. Another option is to read the contents of the file twice, once to\n",
    "count the lines, and a second time to display the last 10 lines. However, both of these\n",
    "solutions are undesirable when working with large files. Another solution exists that\n",
    "only requires you to read the file once, and only requires you to store 10 lines from\n",
    "the file at one time. For an added challenge, develop such a solution."
   ]
  },
  {
   "cell_type": "code",
   "execution_count": null,
   "id": "f44befe3",
   "metadata": {},
   "outputs": [],
   "source": []
  },
  {
   "cell_type": "markdown",
   "id": "571b2f50",
   "metadata": {},
   "source": [
    "### Exercise 144: Number the Lines in a File\n",
    "Create a program that adds line numbers to a file. The name of the input file will be\n",
    "read from the user, as will the name of the new file that your program will create.\n",
    "Each line in the output file should begin with the line number, followed by a colon\n",
    "and a space, followed by the line from the input file."
   ]
  },
  {
   "cell_type": "code",
   "execution_count": null,
   "id": "edbacd83",
   "metadata": {},
   "outputs": [],
   "source": []
  },
  {
   "cell_type": "markdown",
   "id": "c62f4365",
   "metadata": {},
   "source": [
    "### Exercise 147: Words that Occur Most\n",
    "Write a program that displays the word (or words) that occur most frequently in a\n",
    "file. Your program should begin by reading the name of the file from the user. Then\n",
    "it should find the word(s) by splitting each line in the file at each space. Finally,\n",
    "any leading or trailing punctuation marks should be removed from each word. In\n",
    "addition, your program should ignore capitalization. As a result, `apple`, `apple!`,\n",
    "`Apple` and `ApPlE` should all be treated as the same word. You will probably find\n",
    "your solution to Exercise 111 helpful when completing this problem."
   ]
  },
  {
   "cell_type": "code",
   "execution_count": null,
   "id": "a63a3a65",
   "metadata": {},
   "outputs": [],
   "source": []
  },
  {
   "cell_type": "markdown",
   "id": "cf41333b",
   "metadata": {},
   "source": [
    "### Exercise 152: What’s that Element Again?\n",
    "Write a program that reads a file containing information about chemical elements\n",
    "and stores it in one or more appropriate data structures. Then your program should\n",
    "read and process input from the user. If the user enters an integer then your program\n",
    "should display the symbol and name of the element with the number of protons\n",
    "entered. If the user enters a string then your program should display the number\n",
    "of protons for the element with that name or symbol. Your program should display\n",
    "an appropriate error message if no element exists for the name, symbol or num-\n",
    "ber of protons entered. Continue to read input from the user until a blank line is\n",
    "entered."
   ]
  },
  {
   "cell_type": "code",
   "execution_count": null,
   "id": "2cb674c6",
   "metadata": {},
   "outputs": [],
   "source": []
  },
  {
   "cell_type": "markdown",
   "id": "ac032f40",
   "metadata": {},
   "source": [
    "### Exercise 158: Spell Checker\n",
    "A spell checker can be a helpful tool for people who struggle to spell words correctly.\n",
    "In this exercise, you will write a program that reads a file and displays all of the words\n",
    "in it that are misspelled. Misspelled words will be identified by checking each word\n",
    "in the file against a list of known words. Any words in the user’s file that do not\n",
    "appear in the list of known words will be reported as spelling mistakes.\n",
    "The user will provide the name of the file to check for spelling mistakes as a\n",
    "command line parameter. Your program should display an appropriate error message\n",
    "if the command line parameter is missing. An error message should also be displayed\n",
    "if your program is unable to open the user’s file. Use your solution to Exercise 111\n",
    "when creating your solution to this exercise so that words followed by a comma,\n",
    "period or other punctuation mark are not reported as spelling mistakes. Ignore the\n",
    "capitalization of the words when checking their spelling.\n",
    "\n",
    "*Hint: While you could load all of the English words from the words data set\n",
    "into a list, searching a list is slow if you use Python’s in operator. It is much\n",
    "faster to check if a key is present in a dictionary, or if a value is present in a\n",
    "set. If you use a dictionary, the words will be the keys. The values can be the\n",
    "integer 0 (or any other value) because the values will never be used.*"
   ]
  },
  {
   "cell_type": "markdown",
   "id": "f10fa2dc",
   "metadata": {},
   "source": [
    "## 8. Recursion exercises\n",
    "A recursive function is a function that calls itself. In this chapter, you will use\n",
    "recursive functions to solve a variety of problems. The programs that you write will\n",
    "help you learn to:\n",
    "* Identify the base case(s) for a recursive function\n",
    "* Identify the recursive case(s) for a recursive function\n",
    "* Write a non-trivial recursive function\n",
    "* Use a recursive function that you have written to solve a problem"
   ]
  },
  {
   "cell_type": "markdown",
   "id": "652945b4",
   "metadata": {},
   "source": [
    "### Exercise 164: Total the Values\n",
    "Write a program that reads values from the user until a blank line is entered. Display\n",
    "the total of all of the values entered by the user (or 0.0 if the first value entered is\n",
    "a blank line). Complete this task using recursion. Your program may not use any\n",
    "loops.\n",
    "\n",
    "*Hint: The body of your recursive function will need to read one value from\n",
    "the user, and then determine whether or not to make a recursive call. Your\n",
    "function does not need to take any parameters, but it will need to return a\n",
    "numeric result.*"
   ]
  },
  {
   "cell_type": "code",
   "execution_count": null,
   "id": "648e2926",
   "metadata": {},
   "outputs": [],
   "source": []
  },
  {
   "cell_type": "markdown",
   "id": "54168b8b",
   "metadata": {},
   "source": [
    "### Exercise 165: Greatest Common Divisor\n",
    "Euclid was a Greek mathematician who lived approximately 2,300 years ago. His\n",
    "algorithm for computing the greatest common divisor of two positive integers, a and\n",
    "b, is both efficient and recursive. It is outlined below:\n",
    "```\n",
    "If b is 0 then\n",
    "  Return a\n",
    "Else\n",
    "  Set c equal to the remainder when a is divided by b\n",
    "  Return the greatest common divisor of b and c\n",
    "```\n",
    "Write a program that implements Euclid’s algorithm and uses it to determine the\n",
    "greatest common divisor of two integers entered by the user."
   ]
  },
  {
   "cell_type": "code",
   "execution_count": null,
   "id": "b464c1a1",
   "metadata": {},
   "outputs": [],
   "source": []
  },
  {
   "cell_type": "markdown",
   "id": "9fdf595f",
   "metadata": {},
   "source": [
    "### Exercise 167: Recursive Palindrome\n",
    "The notion of a palindrome was introduced previously in Exercise 72. In this exer-\n",
    "cise you will write a recursive function that determines whether or not a string is\n",
    "a palindrome. The empty string is a palindrome, as is any string containing only\n",
    "one character. Any longer string is a palindrome if its first and last characters\n",
    "match, and if the string formed by removing the first and last characters is also\n",
    "a palindrome.\n",
    "\n",
    "Write a main program that reads a string from the user. Use your recursive function\n",
    "to determine whether or not the string is a palindrome. Then display an appropriate\n",
    "message for the user."
   ]
  },
  {
   "cell_type": "code",
   "execution_count": null,
   "id": "7b0b14a6",
   "metadata": {},
   "outputs": [],
   "source": []
  },
  {
   "cell_type": "markdown",
   "id": "3d33927c",
   "metadata": {},
   "source": [
    "### Exercise 172: Element Sequences\n",
    "Another game that some people play with the names of chemical elements involves\n",
    "constructing a sequence of elements where each element in the sequence begins with\n",
    "the last letter of its predecessor. For example, if a sequence begins with Hydrogen,\n",
    "then the next element must be an element that begins with N, such as Nickel. The\n",
    "element following Nickel must begin with L, such as Lithium. The element sequence\n",
    "that is constructed can not contain any duplicates.\n",
    "Write a program that reads the name of an element from the user. Your program\n",
    "should use a recursive function to find the longest sequence of elements that begins\n",
    "with the entered element. Then it should display the sequence. Ensure that your\n",
    "program responds in a reasonable way if the user does not enter a valid element name.\n",
    "\n",
    "*Hint: It may take your program up to two minutes to find the longest sequence\n",
    "for some elements. As a result, you might want to use elements like Molyb-\n",
    "denum and Magnesium as your first test cases. Each has a longest sequence\n",
    "that is only 8 elements long which your program should find in a fraction of a\n",
    "second.*"
   ]
  },
  {
   "cell_type": "code",
   "execution_count": null,
   "id": "59a76b51",
   "metadata": {},
   "outputs": [],
   "source": []
  },
  {
   "cell_type": "markdown",
   "id": "3775eb0d",
   "metadata": {},
   "source": [
    "### Exercise 173: Run-Length Decoding\n",
    "Run-length encoding is a simple data compression technique that can be effec-\n",
    "tive when repeated values occur at adjacent positions within a list. Compression is\n",
    "achieved by replacing groups of repeated values with one copy of the value, followed\n",
    "by the number of times that the value should be repeated. For example, the list `[\"A\",\n",
    "\"A\", \"A\", \"A\", \"A\", \"A\", \"A\", \"A\", \"A\", \"A\", \"A\", \"A\", \"B\", \"B\",\n",
    "\"B\", \"B\", \"A\", \"A\", \"A\", \"A\", \"A\", \"A\", \"B\"]` would be compressed\n",
    "as `[\"A\", 12, \"B\", 4, \"A\", 6, \"B\", 1]`. Decompression is performed by\n",
    "replicating each value in the list the number of times indicated.\n",
    "Write a recursive function that decompresses a run-length encoded list. Your\n",
    "recursive function will take a run-length compressed list as its only parameter. It will\n",
    "return the decompressed list as its only result. Create a main program that displays\n",
    "a run-length encoded list and the result of decoding it."
   ]
  },
  {
   "cell_type": "code",
   "execution_count": null,
   "id": "4c1bf82f",
   "metadata": {},
   "outputs": [],
   "source": []
  },
  {
   "cell_type": "markdown",
   "id": "e393e573",
   "metadata": {},
   "source": [
    "### Exercise 174: Run-Length Encoding\n",
    "Write a recursive function that implements the run-length compression technique\n",
    "described in Exercise 173. Your function will take a list or a string as its only para-\n",
    "meter. It should return the run-length compressed list as its only result. Include a main\n",
    "program that reads a string from the user, compresses it, and displays the run-length\n",
    "encoded result.\n",
    "\n",
    "*Hint: You may want to include a loop inside the body of your recursive function.*"
   ]
  },
  {
   "cell_type": "code",
   "execution_count": null,
   "id": "33e71845",
   "metadata": {},
   "outputs": [],
   "source": []
  }
 ],
 "metadata": {
  "kernelspec": {
   "display_name": "Python 3 (ipykernel)",
   "language": "python",
   "name": "python3"
  },
  "language_info": {
   "codemirror_mode": {
    "name": "ipython",
    "version": 3
   },
   "file_extension": ".py",
   "mimetype": "text/x-python",
   "name": "python",
   "nbconvert_exporter": "python",
   "pygments_lexer": "ipython3",
   "version": "3.11.2"
  }
 },
 "nbformat": 4,
 "nbformat_minor": 5
}
