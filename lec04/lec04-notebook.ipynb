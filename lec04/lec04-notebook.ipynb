{
 "cells": [
  {
   "cell_type": "markdown",
   "id": "2eb5903c",
   "metadata": {},
   "source": [
    "# Programming for Chemistry 2025/2026 @ UniMI\n",
    "![logo](logo_small.png \"Logo\")\n",
    "## Lecture 04: Functions\n",
    "\n",
    "- A function is a block of code which only runs when it is called.\n",
    "- You can pass data, known as *arguments*, into a function.\n",
    "- A function can return data as a result.\n",
    "\n",
    "Organizing your code in functions makes it easier to understand and more reusable."
   ]
  },
  {
   "cell_type": "markdown",
   "id": "4835615d",
   "metadata": {},
   "source": [
    "### 1. Simple functions\n",
    "In Python a function is defined using the `def` keyword. To call a function, use the function name followed by parenthesis.\n",
    "\n",
    "We have already encountered mathematical functions from the `math` module."
   ]
  },
  {
   "cell_type": "code",
   "execution_count": null,
   "id": "1051a1b6",
   "metadata": {},
   "outputs": [],
   "source": [
    "def hello():\n",
    "    print(\"Hello from Python\")\n",
    "\n",
    "hello()"
   ]
  },
  {
   "cell_type": "markdown",
   "id": "867a4838",
   "metadata": {},
   "source": [
    "- Arguments are specified after the function name, inside the parentheses.\n",
    "- You can add as many arguments as you want, just separate them with a comma.\n",
    "\n",
    "The following example has a function with one argument. When the function is called, we pass along an argument.\n",
    "By default, a function must be called with the correct number of arguments. Meaning that if your function expects 2 arguments, you have to call the function with 2 arguments, not more, and not less."
   ]
  },
  {
   "cell_type": "code",
   "execution_count": null,
   "id": "5f892e51",
   "metadata": {},
   "outputs": [],
   "source": [
    "def hello(version):\n",
    "    print(\"Hello from Python\" + str(version))\n",
    "\n",
    "hello()     # this gives an error\n",
    "hello(3)"
   ]
  },
  {
   "cell_type": "markdown",
   "id": "99af77fe",
   "metadata": {},
   "source": [
    "### 2. Default parameters values\n",
    "You can specify a default value for the arguments. If we call the function without argument, it uses the default value."
   ]
  },
  {
   "cell_type": "code",
   "execution_count": null,
   "id": "55508b78",
   "metadata": {},
   "outputs": [],
   "source": [
    "def hello(version=3):\n",
    "    print(\"Hello from Python\" + str(version))\n",
    "\n",
    "hello()     # this works!\n",
    "hello(3.7)"
   ]
  },
  {
   "cell_type": "markdown",
   "id": "ed29e361",
   "metadata": {},
   "source": [
    "### 3. Return values\n",
    "To let a function return a value, use the `return` statement. It is possible to return multiple values as a `tuple` or assign them to multiple variables."
   ]
  },
  {
   "cell_type": "code",
   "execution_count": null,
   "id": "1d05e939",
   "metadata": {},
   "outputs": [],
   "source": [
    "def square(x):\n",
    "    return x*x\n",
    "\n",
    "a = square(7)\n",
    "print(a)"
   ]
  },
  {
   "cell_type": "code",
   "execution_count": null,
   "id": "ca6ce666",
   "metadata": {},
   "outputs": [],
   "source": [
    "def powers(x):\n",
    "    return x**2, x**3, x**4\n",
    "\n",
    "a = powers(7)\n",
    "print(a, type(a))\n",
    "\n",
    "a2, a3, a4 = powers(3)\n",
    "print(a2, a3, a4)"
   ]
  },
  {
   "cell_type": "markdown",
   "id": "8e50db17",
   "metadata": {},
   "source": [
    "### 4. Keyword arguments\n",
    "If your function requires several arguments, you can specify the name of the argument when calling the function."
   ]
  },
  {
   "cell_type": "code",
   "execution_count": null,
   "id": "c5603714",
   "metadata": {},
   "outputs": [],
   "source": [
    "def calculate_temperature(velocity, mass, natoms):\n",
    "    boltzman = 1.380649e-23\n",
    "    ekin = 0.5 * mass * velocity**2\n",
    "    temp = 2*ekin * natoms / (3.0*boltzman)\n",
    "    return temp\n",
    "\n",
    "print(calculate_temperature(10.0, 12*1.66e-27, 100))\n",
    "print(calculate_temperature(natoms=100, mass=12*1.66e-27, velocity=10))"
   ]
  },
  {
   "cell_type": "markdown",
   "id": "98070926",
   "metadata": {},
   "source": [
    "### 5. Arbitrary values\n",
    "If you do not know how many arguments that will be passed into your function, add a `*` before the parameter name in the function definition.\n",
    "\n",
    "This way the function will receive a *tuple* of arguments which can operate on."
   ]
  },
  {
   "cell_type": "code",
   "execution_count": null,
   "id": "9d669d9e",
   "metadata": {},
   "outputs": [],
   "source": [
    "def squares(*values):\n",
    "    print(type(values))\n",
    "    return [x*x for x in values]\n",
    "\n",
    "print(squares(18))\n",
    "print(squares(2, 4.5, -7))"
   ]
  },
  {
   "cell_type": "markdown",
   "id": "5814e373",
   "metadata": {},
   "source": [
    "### 6. Arbitrary keyword arguments\n",
    "If you do not know how many keyword arguments that will be passed into your function, add two asterisk `**` before the parameter name in the function definition.\n",
    "\n",
    "This way the function will receive a *dictionary* of arguments. Many functions of NumPy, SciPy and Matplotlib make use of this feature."
   ]
  },
  {
   "cell_type": "code",
   "execution_count": null,
   "id": "57084d0d",
   "metadata": {},
   "outputs": [],
   "source": [
    "def say_things(name, **things):\n",
    "    print(f\"{name} has...\")\n",
    "\n",
    "    for name, count in things.items():\n",
    "        print(f\"  {count} {name}\")\n",
    "\n",
    "say_things(\"Alice\", cats=2, dogs=1)\n",
    "print()\n",
    "\n",
    "say_things(\"Bob\", cats=1, ducks=10, ideas=0)"
   ]
  },
  {
   "cell_type": "markdown",
   "id": "7922bbae",
   "metadata": {},
   "source": [
    "### 7. Variable scope\n",
    "Variables defined inside a function are *local* to the functions and are different from the variables defined outside the function.\n",
    "\n",
    "Variables defined outside functions are not visible by default inside the function. To access variables defined outside functions you can use the `global` keyword."
   ]
  },
  {
   "cell_type": "code",
   "execution_count": null,
   "id": "402ca75c",
   "metadata": {},
   "outputs": [],
   "source": [
    "c = 10   # this variable is defined outside functions\n",
    "\n",
    "def multiply(a, b):\n",
    "    c = a * b      # this variable exists only inside the function\n",
    "    print('inside the function: c=', c)\n",
    "    return c\n",
    "\n",
    "print('before calling multiply: c=', c)\n",
    "resuls = multiply(2, 3)\n",
    "print('after calling multiply: c=', c)\n"
   ]
  },
  {
   "cell_type": "code",
   "execution_count": null,
   "id": "a76f1bf2",
   "metadata": {},
   "outputs": [],
   "source": [
    "c = 10   # this variable is defined outside functions\n",
    "\n",
    "def multiply(a, b):\n",
    "    global c      # c is the same as the variable defined outside\n",
    "    c = a * b\n",
    "    print('inside the function: c=', c)\n",
    "    return c\n",
    "\n",
    "print('before calling multiply: c=', c)\n",
    "resuls = multiply(2, 3)\n",
    "print('after calling multiply: c=', c)\n"
   ]
  },
  {
   "cell_type": "markdown",
   "id": "ad5320fd",
   "metadata": {},
   "source": [
    "### 8. Pass by value\n",
    "The arguments passed to functions are passed by value, *i.e.* they cannot be modified by the function.\n",
    "\n",
    "However, lists and dictionaries are passed as **aliases**, thus they can be modified by the function.\n",
    "The reason is that internally, arguments are assigned to local variables using the `=` statement.\n",
    "\n",
    "It is a good programming practice to avoid modifying arguments, unless the function has to perform some *in-place* operation on a list, dictionary, and NumPy arrays. The good practice is to `return` all modified variables."
   ]
  },
  {
   "cell_type": "code",
   "execution_count": null,
   "id": "71befc40",
   "metadata": {},
   "outputs": [],
   "source": [
    "def increment(a):\n",
    "    a = a + 1\n",
    "\n",
    "a = 10\n",
    "increment(a)\n",
    "print(a)       # a is unchanged"
   ]
  },
  {
   "cell_type": "code",
   "execution_count": null,
   "id": "d489e3a2",
   "metadata": {},
   "outputs": [],
   "source": [
    "def list_increment(a):\n",
    "    for i in range(len(a)):\n",
    "        a[i] = a[i] + 1\n",
    "\n",
    "a = [10, 7, 4]\n",
    "list_increment(a)\n",
    "print(a)"
   ]
  },
  {
   "cell_type": "code",
   "execution_count": null,
   "id": "329638cb",
   "metadata": {},
   "outputs": [],
   "source": [
    "# this is better\n",
    "def list_increment2(a):\n",
    "    return [x+1 for x in a]\n",
    "\n",
    "a = [10, 7, 4]\n",
    "b = list_increment2(a)\n",
    "print(a, b)"
   ]
  },
  {
   "cell_type": "markdown",
   "id": "f8b8ecda",
   "metadata": {},
   "source": [
    "### Exercise 1: Transform some of the code of lectures 2 and 3 into functions\n",
    "- write a function `solve_second_degree(a, b, c)` returning the real or complex roots of the second degree equation\n",
    "- write a function that computes the sum of integers from 1 to `n`\n",
    "- write a function that computes the factorial of `n`\n",
    "- write a function that checks if a word or sentence is palindrome"
   ]
  },
  {
   "cell_type": "code",
   "execution_count": null,
   "id": "42c9708c",
   "metadata": {},
   "outputs": [],
   "source": [
    "# copy and paste from lecture 2 and 3 notebooks"
   ]
  },
  {
   "cell_type": "markdown",
   "id": "9ee6a7ac",
   "metadata": {},
   "source": [
    "### Exercise 2: Write a function...\n",
    "... `is_equal` that takes two floating point number and an optional `tolerance` arguments and returns `True` if the two numbers are equal within the `tolerance`"
   ]
  },
  {
   "cell_type": "code",
   "execution_count": null,
   "id": "c7f00ba5",
   "metadata": {},
   "outputs": [],
   "source": [
    "# insert code here"
   ]
  },
  {
   "cell_type": "markdown",
   "id": "2af22dba",
   "metadata": {},
   "source": [
    "### Exercise 3: Write functions to... \n",
    "...convert tempeture from °C to °F and viceversa and check that °C => °F => °C yield the same temperature using the `is_equal` function of the previous exercise."
   ]
  },
  {
   "cell_type": "code",
   "execution_count": null,
   "id": "50c6b770",
   "metadata": {},
   "outputs": [],
   "source": [
    "# insert code here"
   ]
  },
  {
   "cell_type": "code",
   "execution_count": null,
   "id": "1f964005",
   "metadata": {},
   "outputs": [],
   "source": [
    "t = 74.3\n",
    "t1 = fahreneit_to_celsius(celsius_to_fahreneit(t))\n",
    "print(is_equal(t, t1))"
   ]
  },
  {
   "cell_type": "markdown",
   "id": "a0981afa",
   "metadata": {},
   "source": [
    "### Exercise 4: Write a function to check if a number is prime"
   ]
  },
  {
   "cell_type": "code",
   "execution_count": null,
   "id": "4b477829",
   "metadata": {},
   "outputs": [],
   "source": [
    "import math"
   ]
  },
  {
   "cell_type": "code",
   "execution_count": null,
   "id": "866fe979",
   "metadata": {},
   "outputs": [],
   "source": [
    "def is_prime(n):\n",
    "    # insert code here"
   ]
  },
  {
   "cell_type": "code",
   "execution_count": null,
   "id": "1bef02ed",
   "metadata": {},
   "outputs": [],
   "source": [
    "numbers = [7, 10, 151, 4]\n",
    "for x in numbers:\n",
    "    print(x, is_prime(x))"
   ]
  },
  {
   "cell_type": "markdown",
   "id": "19fcb351",
   "metadata": {},
   "source": [
    "### Exercise 5: Write a functions that returns all prime number between 1 and `n`\n",
    "Check that there are only 25 prime numbers between 1 and 100.\n",
    "- version 1: use the `is_prime` function **(inefficient)**\n",
    "- version 2: make a *list* of prime numbers, make a loop up to `n`, if a number is prime add it to the list, return the list"
   ]
  },
  {
   "cell_type": "code",
   "execution_count": null,
   "id": "75c02895",
   "metadata": {},
   "outputs": [],
   "source": [
    "def primes(n):\n",
    "    # insert code here"
   ]
  },
  {
   "cell_type": "code",
   "execution_count": null,
   "id": "13cb1281",
   "metadata": {},
   "outputs": [],
   "source": [
    "p = primes(100)\n",
    "print(len(p))\n",
    "print(p)"
   ]
  },
  {
   "cell_type": "markdown",
   "id": "168f8d95",
   "metadata": {},
   "source": [
    "### Exercise 6: Convert a roman number into an integer\n",
    "Reminder: M=1000, D=500, C=100, L=50, X=10, V=5, I=1\n",
    "\n",
    "Hint: loop over the roman characters, add the corresponding value to the total, subtract if the next character is smaller."
   ]
  },
  {
   "cell_type": "code",
   "execution_count": null,
   "id": "55ccea7b",
   "metadata": {},
   "outputs": [],
   "source": [
    "def roman_to_arabic(roman_string):\n",
    "    # Define a dictionary mapping Roman numerals to integer values\n",
    "    roman_map = {\n",
    "        'I': 1,\n",
    "        'V': 5,\n",
    "        'X': 10,\n",
    "        'L': 50,\n",
    "        'C': 100,\n",
    "        'D': 500,\n",
    "        'M': 1000\n",
    "    }\n",
    "\n",
    "    # complete the code\n"
   ]
  },
  {
   "cell_type": "code",
   "execution_count": null,
   "id": "caef502b",
   "metadata": {},
   "outputs": [],
   "source": [
    "romans = ['III',  'IV', 'XXIV', 'LIV', 'MCMLXXV']\n",
    "for r in romans:\n",
    "    n = roman_to_arabic(r)\n",
    "    print(f'{r:>10} => {n}')"
   ]
  },
  {
   "cell_type": "markdown",
   "id": "debc6572",
   "metadata": {},
   "source": [
    "### Exercise 7: Convert an arabic number into a roman one\n",
    "Hint: make a map of integers to roman symbols from largest to smallest. Loop over the map. If the input is larger, subtract the number and add the corresponding roman symbol to the string.\n",
    "\n",
    "Of course, negative and large numbers cannot be converted since roman numbers have a limited range."
   ]
  },
  {
   "cell_type": "code",
   "execution_count": null,
   "id": "5c77832b",
   "metadata": {},
   "outputs": [],
   "source": [
    "def arabic_to_roman(arabic_int):\n",
    "    if not isinstance(arabic_int, int) or arabic_int <= 0:\n",
    "        return \"Error: Input must be a positive integer.\"\n",
    "\n",
    "    # This list maps Arabic values to Roman numerals. It is crucial\n",
    "    # that this is sorted from largest to smallest to ensure the greedy\n",
    "    # algorithm works correctly, and that subtractive forms like 900 and 40\n",
    "    # are included.\n",
    "    roman_map = [\n",
    "        (1000, 'M'), (900, 'CM'), (500, 'D'), (400, 'CD'),\n",
    "        (100, 'C'), (90, 'XC'), (50, 'L'), (40, 'XL'),\n",
    "        (10, 'X'), (9, 'IX'), (5, 'V'), (4, 'IV'),\n",
    "        (1, 'I')\n",
    "    ]\n",
    "\n",
    "    # complete the code\n",
    "    "
   ]
  },
  {
   "cell_type": "code",
   "execution_count": null,
   "id": "cfa400e7",
   "metadata": {},
   "outputs": [],
   "source": [
    "numbers = [1975, 36, 91, 4]\n",
    "for n in numbers:\n",
    "    r = arabic_to_roman(n)\n",
    "    print(f'{n:>4d} => {r}')"
   ]
  },
  {
   "cell_type": "code",
   "execution_count": null,
   "id": "cc4d5795",
   "metadata": {},
   "outputs": [],
   "source": []
  }
 ],
 "metadata": {
  "kernelspec": {
   "display_name": "Python 3 (ipykernel)",
   "language": "python",
   "name": "python3"
  },
  "language_info": {
   "codemirror_mode": {
    "name": "ipython",
    "version": 3
   },
   "file_extension": ".py",
   "mimetype": "text/x-python",
   "name": "python",
   "nbconvert_exporter": "python",
   "pygments_lexer": "ipython3",
   "version": "3.11.2"
  }
 },
 "nbformat": 4,
 "nbformat_minor": 5
}
