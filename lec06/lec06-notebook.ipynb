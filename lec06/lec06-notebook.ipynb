{
 "cells": [
  {
   "cell_type": "markdown",
   "id": "2eb5903c",
   "metadata": {},
   "source": [
    "# Programming for Chemistry 2025/2026 @ UniMI\n",
    "\n",
    "![logo](logo_small.png \"Logo\")\n",
    "\n",
    "## Lecture 06: Random numbers, file I/O, text processing\n",
    "\n",
    "This lecture will deal with misc topics. Eventually we will finish the exercises from the previous lectures."
   ]
  },
  {
   "cell_type": "markdown",
   "id": "4835615d",
   "metadata": {},
   "source": [
    "## 1. Random numbers\n",
    "The **`random` module** in Python provides functions to generate random numbers and make random selections. It's built on a **pseudo-random number generator**, which means the numbers it produces are deterministic but appear random. This tutorial will cover its most common functions with practical examples."
   ]
  },
  {
   "cell_type": "markdown",
   "id": "867a4838",
   "metadata": {},
   "source": [
    "### 1.1 Core functions\n",
    "Here are the most frequently used functions in the `random` module:\n",
    "* **`random.random()`**: Returns a random float between 0.0 and 1.0 (exclusive of 1.0). This is the fundamental building block for many other functions.\n",
    "* **`random.randint(a, b)`**: Returns a random integer between a and b, **inclusive**. This is ideal for simulating dice rolls or picking a random number from a specific range.\n",
    "* **`random.uniform(a, b)`**: Returns a random floating-point number between a and b. Unlike `random.random()`, you can specify the range.\n",
    "* You can also generate random numbers according to a probability distribution. The most useful is `random.gauss(mu,sigma)`.\n"
   ]
  },
  {
   "cell_type": "code",
   "execution_count": null,
   "id": "2aaad9cf",
   "metadata": {},
   "outputs": [],
   "source": [
    "# you need to import the random module\n",
    "import random"
   ]
  },
  {
   "cell_type": "code",
   "execution_count": null,
   "id": "5f892e51",
   "metadata": {},
   "outputs": [],
   "source": [
    "# Generate a random float between 0 and 1. Each time you execute the code, you will get different results\n",
    "for i in range(10):\n",
    "    print(random.random())"
   ]
  },
  {
   "cell_type": "code",
   "execution_count": null,
   "id": "8fae15ce",
   "metadata": {},
   "outputs": [],
   "source": [
    "# generate a random integer between 1 and 6\n",
    "print(random.randint(1,6))"
   ]
  },
  {
   "cell_type": "code",
   "execution_count": null,
   "id": "b2147157",
   "metadata": {},
   "outputs": [],
   "source": [
    "# generate a random float between -1 and 1\n",
    "print(random.uniform(-1.0, 1.0))"
   ]
  },
  {
   "cell_type": "code",
   "execution_count": null,
   "id": "5cb4f171",
   "metadata": {},
   "outputs": [],
   "source": [
    "# generate random gaussian distributed numbers with average 9.0 and standard deviation of 0.2\n",
    "for i in range(10):\n",
    "    print(random.gauss(9.0, 0.2))"
   ]
  },
  {
   "cell_type": "markdown",
   "id": "26ddeba7",
   "metadata": {},
   "source": [
    "Each time you run the code you get different random numbers. If you need the same sequence of random numbers to check that your results are reproducible, you can initialize a **random seed**."
   ]
  },
  {
   "cell_type": "code",
   "execution_count": null,
   "id": "5da02142",
   "metadata": {},
   "outputs": [],
   "source": [
    "# each time you execute the cell without changing seed, you'll get the same results\n",
    "random.seed(1492)\n",
    "\n",
    "for i in range(10):\n",
    "    print(random.randint(1, 10))"
   ]
  },
  {
   "cell_type": "markdown",
   "id": "0fbf37ac",
   "metadata": {},
   "source": [
    "The Python `random` module has some useful functions that work on lists and tuples:\n",
    "* **`random.choice(sequence)`**: Returns a random item from a non-empty sequence, such as a list or a string.\n",
    "* **`random.shuffle(x)`**: Shuffles the items of a list in place. This means it modifies the original list and doesn't return a new one. This is perfect for shuffling a deck of cards.\n",
    "* **`random.sample(population, k)`**: Returns a new list containing **k** unique items chosen from the population sequence or set. It's useful for drawing multiple non-repeating items, like drawing lottery numbers."
   ]
  },
  {
   "cell_type": "code",
   "execution_count": null,
   "id": "e07fa7ef",
   "metadata": {},
   "outputs": [],
   "source": [
    "# Select a random color from a list\n",
    "colors = ['red', 'blue', 'green', 'yellow']\n",
    "random_color = random.choice(colors)\n",
    "print(f\"Random color: {random_color}\")\n",
    "\n",
    "# Select a random letter from a string\n",
    "random_letter = random.choice(\"Hello, World!\")\n",
    "print(f\"Random letter: {random_letter}\")"
   ]
  },
  {
   "cell_type": "code",
   "execution_count": null,
   "id": "9b040986",
   "metadata": {},
   "outputs": [],
   "source": [
    "cards = ['Ace', 'King', 'Queen', 'Jack']\n",
    "random.shuffle(cards)\n",
    "print(f\"Shuffled cards: {cards}\")"
   ]
  },
  {
   "cell_type": "code",
   "execution_count": null,
   "id": "fef26740",
   "metadata": {},
   "outputs": [],
   "source": [
    "# Pick 5 unique numbers from 1 to 90 for a lottery\n",
    "lottery_numbers = random.sample(range(1, 91), 5)\n",
    "print(f\"Lottery numbers: {lottery_numbers}\")"
   ]
  },
  {
   "cell_type": "markdown",
   "id": "ad2b3faf",
   "metadata": {},
   "source": [
    "### Exercise 1: Roll one die\n",
    "Roll one die 1000 times, and check that probability of each number is close to 1/6"
   ]
  },
  {
   "cell_type": "code",
   "execution_count": null,
   "id": "4d190588",
   "metadata": {},
   "outputs": [],
   "source": [
    "# insert code here"
   ]
  },
  {
   "cell_type": "markdown",
   "id": "a713baf2",
   "metadata": {},
   "source": [
    "### Exercise 2: Roll two dice\n",
    "At least 1000 times and check that the probability is peaked in the middle. Print a sort of histogram of the probability."
   ]
  },
  {
   "cell_type": "code",
   "execution_count": null,
   "id": "eae9747a",
   "metadata": {},
   "outputs": [],
   "source": [
    "# insert code here"
   ]
  },
  {
   "cell_type": "markdown",
   "id": "d00ebd23",
   "metadata": {},
   "source": [
    "### Exercise 3: Monte Carlo integration\n",
    "Generate a pair of random floats in $[0,1]$ and estimate the area of a quarter of circle by counting how many pairs are inside the unit circle. Note that this is not the most efficient way to estimate $\\pi$."
   ]
  },
  {
   "cell_type": "code",
   "execution_count": null,
   "id": "8c6c63c2",
   "metadata": {},
   "outputs": [],
   "source": [
    "import math\n",
    "\n",
    "def monte_carlo_pi(num_points):\n",
    "   # insert code here"
   ]
  },
  {
   "cell_type": "code",
   "execution_count": null,
   "id": "f52a4108",
   "metadata": {},
   "outputs": [],
   "source": [
    "approx_pi = monte_carlo_pi(10_000_000)\n",
    "print(f\"Approximation of pi: {approx_pi:.15f}\")\n",
    "print(f\"Exact pi:            {math.pi}\")"
   ]
  },
  {
   "cell_type": "markdown",
   "id": "ed29e361",
   "metadata": {},
   "source": [
    "### Exercise 4: random password generator\n",
    "Generate a secure password with a mix of character types: letter, digits and punctuation. You can use **`random.choice()`** and **`random.shuffle()`** to generate one."
   ]
  },
  {
   "cell_type": "code",
   "execution_count": null,
   "id": "d6874ed5",
   "metadata": {},
   "outputs": [],
   "source": [
    "def generate_password(length=12):\n",
    "    # insert code here"
   ]
  },
  {
   "cell_type": "code",
   "execution_count": null,
   "id": "151ce6e9",
   "metadata": {},
   "outputs": [],
   "source": [
    "print(generate_password(8))"
   ]
  },
  {
   "cell_type": "markdown",
   "id": "8e50db17",
   "metadata": {},
   "source": [
    "## 2. Files I/O & text processing\n",
    "Working with files is a fundamental part of programming in Python. Python provides built-in functions to handle files, allowing you to **read from**, **write to**, and **modify** them.\n",
    "\n",
    "Files can be **text** or **binary** files. Text files are human readable and contain only printable characters and numbers. Binary files are used for images, videos, sound, documents, compressed data. We will mostly work with text files."
   ]
  },
  {
   "cell_type": "markdown",
   "id": "ec9a39fa",
   "metadata": {},
   "source": [
    "### 2.1 Opening and Closing Files\n",
    "\n",
    "To interact with a file, you first need to **open** it. The `open()` function is used for this purpose. It takes two primary arguments: the **file path** and the **mode** in which you want to open the file. The most common modes are:\n",
    "\n",
    "  * `'r'` - **Read mode** (default). Used for reading content from a file.\n",
    "  * `'w'` - **Write mode**. Creates a new file or overwrites an existing one.\n",
    "  * `'a'` - **Append mode**. Adds new content to the end of a file without erasing the existing content.\n",
    "\n",
    "It's crucial to **close** a file after you've finished working with it to free up system resources. You can do this with the `file.close()` method. A better and more common practice is to use a `with` statement, which automatically handles the closing of the file for you, even if errors occur.\n",
    "\n",
    "**Explanation:**\n",
    "The `with open(...) as file:` block creates a file object assigned to the variable `f`. The `'w'` mode ensures that if `notes.txt` exists, its content is erased and replaced by the new text. The `.write()` method adds the specified string to the file. The `\\n` is a newline character, which moves the cursor to the next line. When the `with` block finishes, the file is automatically closed."
   ]
  },
  {
   "cell_type": "code",
   "execution_count": null,
   "id": "16578dd0",
   "metadata": {},
   "outputs": [],
   "source": [
    "# Let's say you want to create a file named `notes.txt` and write some text into it.\n",
    "\n",
    "# using open/close\n",
    "f = open('notes.txt', 'w')\n",
    "f.write('This is the first line.\\n')\n",
    "f.write('This is the second line.\\n')\n",
    "f.write('This is the third line.')\n",
    "f.close()\n",
    "\n",
    "# using with open, it is safer\n",
    "with open('notes.txt', 'w') as f:\n",
    "    f.write('This is the first line.\\n')\n",
    "    f.write('This is the second line.\\n')\n",
    "    f.write('This is the third line.')"
   ]
  },
  {
   "cell_type": "code",
   "execution_count": null,
   "id": "3bd751ac",
   "metadata": {},
   "outputs": [],
   "source": [
    "!cat notes.txt"
   ]
  },
  {
   "cell_type": "markdown",
   "id": "98070926",
   "metadata": {},
   "source": [
    "### 2.2 Reading a file\n",
    "Python offers several ways to read a text file, including reading the entire content at once or reading it line by line.\n",
    "* the `read()` method reads the entire file in one string\n",
    "* the `readlines()` method return a list of strings, one for each line\n",
    "* the `readline()` method reads one single line, returning `''` when the file is finished\n",
    "\n",
    "Note that the `\\n` end of lines are retained and you have to deal with them."
   ]
  },
  {
   "cell_type": "code",
   "execution_count": null,
   "id": "d9850b1a",
   "metadata": {},
   "outputs": [],
   "source": [
    "with open('notes.txt', 'r') as file:\n",
    "    content = file.read()\n",
    "    print(content)"
   ]
  },
  {
   "cell_type": "code",
   "execution_count": null,
   "id": "2caabef5",
   "metadata": {},
   "outputs": [],
   "source": [
    "with open('notes.txt', 'r') as file:\n",
    "    content = file.readlines()\n",
    "    print(content)"
   ]
  },
  {
   "cell_type": "code",
   "execution_count": null,
   "id": "a290fad6",
   "metadata": {},
   "outputs": [],
   "source": [
    "with open('notes.txt', 'r') as file:\n",
    "    while True:                    # pay attention to possible infinite loop\n",
    "        line = file.readline()\n",
    "        if len(line) == 0:\n",
    "            break\n",
    "        else:\n",
    "            print(line)"
   ]
  },
  {
   "cell_type": "markdown",
   "id": "2a862111",
   "metadata": {},
   "source": [
    "### Exercise 1: count characters, words and line\n",
    "Opens the text file `julius_caesar.txt`. Count the number of characters, words, and lines. Use `.split()` to split into words."
   ]
  },
  {
   "cell_type": "code",
   "execution_count": null,
   "id": "0843dd92",
   "metadata": {},
   "outputs": [],
   "source": [
    "# insert code here"
   ]
  },
  {
   "cell_type": "code",
   "execution_count": null,
   "id": "a33162f3",
   "metadata": {},
   "outputs": [],
   "source": [
    "print(lines, words, chars)"
   ]
  },
  {
   "cell_type": "code",
   "execution_count": null,
   "id": "47ba1924",
   "metadata": {},
   "outputs": [],
   "source": [
    "# the UNIX wc command does the same\n",
    "!wc julius_caesar.txt"
   ]
  },
  {
   "cell_type": "markdown",
   "id": "7acf5a07",
   "metadata": {},
   "source": [
    "### Exercise 2: mean and standard deviation\n",
    "Open the file `nacl_MD.dat`. It's a multicolumn text file. Compute the mean value and standard deviation of the second column.\n",
    "\n",
    "Hint: `value = float(line.split()[1])`"
   ]
  },
  {
   "cell_type": "code",
   "execution_count": null,
   "id": "fd642a95",
   "metadata": {},
   "outputs": [],
   "source": [
    "# insert code here"
   ]
  },
  {
   "cell_type": "code",
   "execution_count": null,
   "id": "ca03dad6",
   "metadata": {},
   "outputs": [],
   "source": [
    "print(f'{mean} +/- {stddev}')"
   ]
  },
  {
   "cell_type": "markdown",
   "id": "15e9847a",
   "metadata": {},
   "source": [
    "## Exercise 3: chemical formula parser\n",
    "Write a function that converts a chemical formula into a dictionary of key=atom, value=number of atoms. For instance:\n",
    "* `'NaCl'` => `{'Na':1, 'Cl':1}`\n",
    "* `'Ca(OH)2'` => `{'Ca':1, 'O':2, 'H':2}`\n",
    "* `'Ca5Cl10'` => `{'Ca':5, 'Cl':10}`\n",
    "\n",
    "in last case, optionally, reduce the number of unit formulas:\n",
    "* `'Ca5Cl10'` => `{'Ca':1, 'Cl':2}`\n",
    "\n",
    "To help you, I provide the list of elements of the periodic table and a function to split the formula into its components using **regular expressions**."
   ]
  },
  {
   "cell_type": "code",
   "execution_count": null,
   "id": "c0fddc44",
   "metadata": {},
   "outputs": [],
   "source": [
    "elements = ['H', 'He', \n",
    "            'Li', 'Be', 'B', 'C', 'N', 'O', 'F', 'Ne', \n",
    "            'Na', 'Mg', 'Al', 'Si', 'P', 'S', 'Cl', 'Ar', \n",
    "            'K', 'Ca', 'Sc', 'Ti', 'V', 'Cr', 'Mn', 'Fe', 'Co', 'Ni', 'Cu', 'Zn', 'Ga', 'Ge', 'As', 'Se', 'Br', 'Kr',\n",
    "            'Rb', 'Sr', 'Y', 'Zr', 'Nb', 'Mo', 'Tc', 'Ru', 'Rh', 'Pd', 'Ag', 'Cd', 'In', 'Sn', 'Sb', 'Te', 'I', 'Xe',\n",
    "            'Cs', 'Ba', 'La', 'Ce', 'Pr', 'Nd', 'Pm', 'Sm', 'Eu', 'Gd', 'Tb', 'Dy', 'Ho', 'Er', 'Tm', 'Yb', 'Lu', 'Hf', 'Ta', 'W', 'Re', 'Os', 'Ir', 'Pt', 'Au', 'Hg', 'Tl', 'Pb', 'Bi', 'Po', 'At', 'Rn',\n",
    "            'Fr', 'Ra', 'Ac', 'Th', 'Pa', 'U', 'Np', 'Pu', 'Am', 'Cm', 'Bk', 'Cf', 'Es', 'Fm', 'Md', 'No', 'Lr', 'Rf', 'Db', 'Sg', 'Bh', 'Hs', 'Mt', 'Ds', 'Rg', 'Cn', 'Nh', 'Fl', 'Mc', 'Lv', 'Ts', 'Og']"
   ]
  },
  {
   "cell_type": "code",
   "execution_count": null,
   "id": "da6228e9",
   "metadata": {},
   "outputs": [],
   "source": [
    "# split a formula into elements, numbers and parenthesis and return a list\n",
    "# e.g. 'Ca(OH)2' => ['Ca', '(', 'O', 'H', ')', '2']\n",
    "import re\n",
    "\n",
    "def _split_formula(formula):\n",
    "    formula = formula.strip()\n",
    "    return re.findall(r'([A-Z][a-z]?|\\d+|\\(|\\))', formula)\n",
    "\n",
    "for f in ['NaCl', 'Ca(OH)2', 'Fe2Cd(H2O)3Na', 'Ca5Cl10']:\n",
    "    print(f, '=>', _split_formula(f))"
   ]
  },
  {
   "cell_type": "code",
   "execution_count": null,
   "id": "dabbb90e",
   "metadata": {},
   "outputs": [],
   "source": [
    "# write a function that convert a formula into a list of lists\n",
    "# e.g. 'Ca(OH)2' => [['Ca'], ['O', 'H'], ['O', 'H']]\n",
    "\n",
    "def _formula_to_list(formula):\n",
    "    # insert code here"
   ]
  },
  {
   "cell_type": "code",
   "execution_count": null,
   "id": "c3923f54",
   "metadata": {},
   "outputs": [],
   "source": [
    "for f in ['NaCl', 'Ca(OH)2', 'Fe2Cd(H2O)3Na', 'Ca5Cl10', 'Wrong']:\n",
    "    print(f, '=>', _formula_to_list(f))"
   ]
  },
  {
   "cell_type": "code",
   "execution_count": null,
   "id": "8576ab2c",
   "metadata": {},
   "outputs": [],
   "source": [
    "# write a RECURSIVE function that \"flattens\" a list\n",
    "# e.g.: [['Ca'], ['O', 'H'], ['O', 'H']] => ['Ca', 'O', 'O', 'H', 'H']\n",
    "\n",
    "def _flatten_list(mylist):\n",
    "    # insert code here"
   ]
  },
  {
   "cell_type": "code",
   "execution_count": null,
   "id": "443f3951",
   "metadata": {},
   "outputs": [],
   "source": [
    "for f in ['NaCl', 'Ca(OH)2', 'Fe2Cd(H2O)3Na', 'Ca5Cl10']:\n",
    "    print(f, '=>', _flatten_list(_formula_to_list(f)))"
   ]
  },
  {
   "cell_type": "code",
   "execution_count": null,
   "id": "91ac90d7",
   "metadata": {},
   "outputs": [],
   "source": [
    "# write a function that takes the flattened list and return a dictionary\n",
    "# e.g. ['Ca', 'O', 'O', 'H', 'H'] => {'Ca':1, 'O':2, 'H': 2}\n",
    "\n",
    "def _flatlist_to_dict(mylist):\n",
    "    # insert code here"
   ]
  },
  {
   "cell_type": "code",
   "execution_count": null,
   "id": "ed998a1a",
   "metadata": {},
   "outputs": [],
   "source": [
    "for f in ['NaCl', 'Ca(OH)2', 'Fe2Cd(H2O)3Na', 'Ca5Cl10']:\n",
    "    print(f, '=>', _flatlist_to_dict(_flatten_list(_formula_to_list(f))))"
   ]
  },
  {
   "cell_type": "code",
   "execution_count": null,
   "id": "73baa1d4",
   "metadata": {},
   "outputs": [],
   "source": [
    "# finally write a function that convert a formula string into the dictionay,\n",
    "# optionally dividing by the number of formula units using math.gcd(list_of_numbers)\n",
    "import math\n",
    "\n",
    "def formula_to_dict(formula, reduce=False):\n",
    "    # insert code here"
   ]
  },
  {
   "cell_type": "code",
   "execution_count": null,
   "id": "ec952234",
   "metadata": {},
   "outputs": [],
   "source": [
    "for f in ['NaCl', 'Ca(OH)2', 'Fe2Cd(H2O)3Na', 'Ca5Cl10']:\n",
    "    print(f, '=>', formula_to_dict(f))"
   ]
  },
  {
   "cell_type": "code",
   "execution_count": null,
   "id": "0fe956c8",
   "metadata": {},
   "outputs": [],
   "source": [
    "for f in ['NaCl', 'Ca(OH)2', 'Fe2Cd(H2O)3Na', 'Ca5Cl10']:\n",
    "    print(f, '=>', formula_to_dict(f, reduce=True))"
   ]
  },
  {
   "cell_type": "markdown",
   "id": "bfa0c6ef",
   "metadata": {},
   "source": [
    "## Exercise 4: calculate possible oxidation states in a molecule\n",
    "Write a function that given a brute formula, and given a table of common oxidation states, finds the possible oxidation states in a molecule, such that their sum is equal to the charge of the ion."
   ]
  },
  {
   "cell_type": "code",
   "execution_count": null,
   "id": "a7f51b60",
   "metadata": {},
   "outputs": [],
   "source": [
    "# most common oxidation states, this table is incomplete\n",
    "valence = { 'H': [1],\n",
    "            'Li': [1], 'Na': [1], 'K': [1], 'Rb': [1], 'Cs': [1],\n",
    "            'Be': [2], 'Mg': [2], 'Ca': [2], 'Sr': [2], 'Ba': [2],\n",
    "            'B': [3], 'Al': [3], 'Ga': [3], 'In': [3],\n",
    "            'C': [4,2,-4], 'Si': [4,-4], 'Ge': [4,-4], 'Sn': [4,2],\n",
    "            'N': [5,4,3,2,1,-3], 'P': [5,3,-3], 'As': [5,3,-3], 'Bi': [5,3],\n",
    "            'O': [2,-2,-1,-0.5], 'S':[6,4,2,-2], 'Se': [6,4,2,-2],\n",
    "            'F': [-1], 'Cl': [7,6,5,4,3,2,1,-1], 'Br': [5,3,1,-1],\n",
    "            'Sc': [3], 'Ti': [4,3,2], 'V': [5,4,3,2], 'Cr': [6,5,4,3,2], 'Mn': [7,6,4,3,2],\n",
    "            'Fe': [3,2], 'Co': [3,2], 'Ni': [2], 'Cu': [2,1], 'Zn': [2],\n",
    "            'Y': [3] }"
   ]
  },
  {
   "cell_type": "code",
   "execution_count": null,
   "id": "ae911b83",
   "metadata": {},
   "outputs": [],
   "source": [
    "# itertools.product(list1, list2, ...) makes the cartesian product of lists\n",
    "from itertools import product\n",
    "\n",
    "# Write a function that tries every possible combination of oxidation states and\n",
    "# prints them when their sum is equal to charge of the ion\n",
    "def oxidation_states(formula_dict, charge=0):\n",
    "    # insert code here"
   ]
  },
  {
   "cell_type": "code",
   "execution_count": null,
   "id": "ae33eabe",
   "metadata": {},
   "outputs": [],
   "source": [
    "oxidation_states(formula_to_dict('KOH'))"
   ]
  },
  {
   "cell_type": "code",
   "execution_count": null,
   "id": "cd6dfb8d",
   "metadata": {},
   "outputs": [],
   "source": [
    "oxidation_states(formula_to_dict('LiO2'))"
   ]
  },
  {
   "cell_type": "code",
   "execution_count": null,
   "id": "629050c7",
   "metadata": {},
   "outputs": [],
   "source": [
    "oxidation_states(formula_to_dict('H3PO4'))"
   ]
  },
  {
   "cell_type": "code",
   "execution_count": null,
   "id": "05971015",
   "metadata": {},
   "outputs": [],
   "source": [
    "oxidation_states(formula_to_dict('SO4'), -2)"
   ]
  },
  {
   "cell_type": "code",
   "execution_count": null,
   "id": "5782a755",
   "metadata": {},
   "outputs": [],
   "source": [
    "oxidation_states(formula_to_dict('H5O2'), +1)"
   ]
  },
  {
   "cell_type": "code",
   "execution_count": null,
   "id": "8bb6fdb4",
   "metadata": {},
   "outputs": [],
   "source": [
    "oxidation_states(formula_to_dict('BaTiO3'))\n",
    "oxidation_states(formula_to_dict('YTiO3'))"
   ]
  },
  {
   "cell_type": "code",
   "execution_count": null,
   "id": "2376f839",
   "metadata": {},
   "outputs": [],
   "source": [
    "oxidation_states(formula_to_dict('BaBiO3', False))"
   ]
  },
  {
   "cell_type": "code",
   "execution_count": null,
   "id": "a5153bf9",
   "metadata": {},
   "outputs": [],
   "source": [
    "oxidation_states({'Ba':2, 'Bi1':1, 'Bi2':1, 'O':6})"
   ]
  },
  {
   "cell_type": "code",
   "execution_count": null,
   "id": "c4d44e0a",
   "metadata": {},
   "outputs": [],
   "source": []
  }
 ],
 "metadata": {
  "kernelspec": {
   "display_name": "Python 3 (ipykernel)",
   "language": "python",
   "name": "python3"
  },
  "language_info": {
   "codemirror_mode": {
    "name": "ipython",
    "version": 3
   },
   "file_extension": ".py",
   "mimetype": "text/x-python",
   "name": "python",
   "nbconvert_exporter": "python",
   "pygments_lexer": "ipython3",
   "version": "3.11.2"
  }
 },
 "nbformat": 4,
 "nbformat_minor": 5
}
