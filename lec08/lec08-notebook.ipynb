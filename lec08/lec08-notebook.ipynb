{
 "cells": [
  {
   "cell_type": "markdown",
   "id": "2eb5903c",
   "metadata": {},
   "source": [
    "# Programming for Chemistry 2025/2026 @ UniMI\n",
    "\n",
    "![logo](logo_small.png \"Logo\")\n",
    "\n",
    "## Lecture 08: Object Oriented Programming\n",
    "\n",
    "In this lecture we're going to dive into the core of **Object-Oriented Programming (OOP)** in Python, exploring how classes can make our code more organized, reusable, and easier to manage."
   ]
  },
  {
   "cell_type": "markdown",
   "id": "4835615d",
   "metadata": {},
   "source": [
    "## 1. The problem with non-OOP code\n",
    "Let's explore the concepts of classes and OOP with a new example, this time managing cars for a dealer's parking lot.\n",
    "\n",
    "![logo](car_dealer_small.png \"Logo\")\n",
    "\n",
    "Imagine a small car dealer trying to keep track of their parking lot. One possibility is to create lists to keep track of the cars sitting in the parking lot:"
   ]
  },
  {
   "cell_type": "code",
   "execution_count": null,
   "id": "2aaad9cf",
   "metadata": {},
   "outputs": [],
   "source": [
    "car_maker = [\"Honda\", \"Ford\", \"Fiat\"]\n",
    "car_model = [\"Civic\", \"Mustang\", \"500\"]\n",
    "car_year  = [ 2015, 1985, 2024 ]\n",
    "car_price = [ 15000, 40000, 25000 ]\n",
    "car_sold  = [ False, True, False ]\n",
    "\n",
    "def print_cars():\n",
    "    n = len(car_maker)\n",
    "    for i in range(n):\n",
    "        if not car_sold[i]:\n",
    "            print(car_maker[i], car_model[i], car_year[i], car_price[i])\n",
    "            \n",
    "print_cars()"
   ]
  },
  {
   "cell_type": "markdown",
   "id": "e7830376",
   "metadata": {},
   "source": [
    "It is easy to create functions to remove one car when it leaves the parking lot, and to add new used cars:"
   ]
  },
  {
   "cell_type": "code",
   "execution_count": null,
   "id": "5f892e51",
   "metadata": {
    "scrolled": true
   },
   "outputs": [],
   "source": [
    "def add_car(maker, model, year, price):\n",
    "    car_maker.append(maker)\n",
    "    car_model.append(model)\n",
    "    car_year.append(year)\n",
    "    car_price.append(price)\n",
    "    car_sold.append(False)\n",
    "    \n",
    "add_car(\"Toyota\", \"Corolla\", 2019, 10000)\n",
    "print_cars()"
   ]
  },
  {
   "cell_type": "markdown",
   "id": "19df6ae0",
   "metadata": {},
   "source": [
    "After having written few functions like the one above, imagine the customers would like to know if car's engine is electric or not. Then you have to create a new list, and modify **every** function!  "
   ]
  },
  {
   "cell_type": "code",
   "execution_count": null,
   "id": "b2147157",
   "metadata": {},
   "outputs": [],
   "source": [
    "car_is_electric = [False, False, True]\n",
    "\n",
    "def add_car(maker, model, year, price, is_electric):\n",
    "    pass"
   ]
  },
  {
   "cell_type": "markdown",
   "id": "26ddeba7",
   "metadata": {},
   "source": [
    "**Can you see the problem with this strategy?**\n",
    "\n",
    "Ok, let's improve our code and use **tuples** to group together all pieces of information for each car, and use only a **list**. Indeed you can exploit list methods to add, remove, find, sort cars:"
   ]
  },
  {
   "cell_type": "code",
   "execution_count": null,
   "id": "5da02142",
   "metadata": {},
   "outputs": [],
   "source": [
    "parking_lot = []\n",
    "parking_lot.append( (\"Honda\", \"Civic\", 2015, 15000, False, False) )\n",
    "parking_lot.append( (\"Ford\", \"Mustang\", 1985, 40000, True, False) )\n",
    "parking_lot.append( (\"Fiat\", \"500\", 2024, 25000, False, True) )\n",
    "parking_lot.append( (\"Toyota\", \"Corolla\", 2019, 10000, False, False) )\n",
    "\n",
    "def print_cars():\n",
    "    for car in parking_lot:\n",
    "        print(f'{car[0]:<10} {car[1]:<10} year:{car[2]}  price:{car[3]}  electric:{car[4]}  sold:{car[5]}')\n",
    "        \n",
    "print_cars()"
   ]
  },
  {
   "cell_type": "markdown",
   "id": "0fbf37ac",
   "metadata": {},
   "source": [
    "The code above has a clear bug. In particular, how to enforce that the tuples have the same number of elements? What is the meaning of `car[4]`? is it sold or electric?\n",
    "\n",
    "Using tuples and lists is a step forward but not the solution!"
   ]
  },
  {
   "cell_type": "markdown",
   "id": "6fbe7c57",
   "metadata": {},
   "source": [
    "## 2. Meet classes and objects\n",
    "\n",
    "This is where classes come in. A **class** is a blueprint or a template for creating **objects**. A class combines data (called **attributes**) and the functions that operate on that data (called **methods**) into a single, neat package. Classes are new **data types** that can be organized into lists, tuples and dictionaries.\n",
    "\n",
    "It is easier to see the example rather than explaining. Here is the class describing a car:"
   ]
  },
  {
   "cell_type": "code",
   "execution_count": null,
   "id": "e07fa7ef",
   "metadata": {
    "scrolled": true
   },
   "outputs": [],
   "source": [
    "class Car:\n",
    "    def __init__(self, maker, model, year, price, sold=False):\n",
    "        self.maker = maker\n",
    "        self.model = model\n",
    "        self.year = year\n",
    "        self.price = price\n",
    "        self.sold = sold\n",
    "    \n",
    "    def display(self):\n",
    "        return f\"{self.maker} {self.model} {self.year} price:{self.price} sold:{self.sold}\"\n",
    "    \n",
    "    def is_sold(self):\n",
    "        return self.sold\n",
    "        \n",
    "\n",
    "car1 = Car(\"Toyota\", \"Corolla\", 2020, 18000)\n",
    "car2 = Car(model=\"Mustang\", maker=\"Ford\", year=1985, price=25000, sold=True)\n",
    "\n",
    "print(car1.display())\n",
    "print(car2.display())\n",
    "print()\n",
    "print(\"car1 has type:\", type(car1))\n",
    "print(\"car1 has been sold?\", car1.is_sold())"
   ]
  },
  {
   "cell_type": "markdown",
   "id": "ad2b3faf",
   "metadata": {},
   "source": [
    "In this new code:\n",
    "\n",
    "  * The `Car` class is our blueprint.\n",
    "  * The `__init__` method is a special method called a **constructor**. It's automatically run whenever a new `Car` object is created. The `self` parameter is a reference to the instance itself.\n",
    "  * `self.maker`, `self.model` etc... the **attributes** of the class. They hold the data for each specific student object.\n",
    "  * `display` and `is_sold` are **methods**. They are functions that are bound to the class and can operate on the object's attributes.\n"
   ]
  },
  {
   "cell_type": "markdown",
   "id": "54209870",
   "metadata": {},
   "source": [
    "If you want to add new attributes or new methods, sure you have to modify existing ones, but it is easier when their are grouped into a class. Let's add an `is_electric()` method:"
   ]
  },
  {
   "cell_type": "code",
   "execution_count": null,
   "id": "4d190588",
   "metadata": {},
   "outputs": [],
   "source": [
    "class Car:\n",
    "    def __init__(self, maker, model, year, price, sold=False, electric=False):\n",
    "        self.maker = maker\n",
    "        self.model = model\n",
    "        self.year = year\n",
    "        self.price = price\n",
    "        self.sold = sold\n",
    "        self.electric = electric\n",
    "    \n",
    "    def display(self):\n",
    "        return f\"{self.maker} {self.model} {self.year} price:{self.price} sold:{self.sold} electric:{self.electric}\"\n",
    "    \n",
    "    def is_sold(self):\n",
    "        return self.sold\n",
    "\n",
    "    def is_electric(self):\n",
    "        return self.electric\n",
    "\n",
    "\n",
    "car1 = Car(\"Toyota\", \"Corolla\", 2020, 18000)\n",
    "car2 = Car(model=\"Mustang\", maker=\"Ford\", year=1985, price=25000, sold=True)\n",
    "\n",
    "print(car1.display())\n",
    "print(car2.display())\n",
    "print()\n",
    "print(\"car1 has type:\", type(car1))\n",
    "print(\"car1 has been sold?\", car1.is_sold())"
   ]
  },
  {
   "cell_type": "markdown",
   "id": "237baa74",
   "metadata": {},
   "source": [
    "### Important!\n",
    "Some authors use the terms **class** and **object** interchangeably.\n",
    "\n",
    "To be precise: \n",
    "* **class** is the *blueprint*, it's a *data type* that extends builtin data tyes of the language.\n",
    "* **object** is the *instance* of a class, it's the *varaible* holding the *value* of a class.\n",
    "\n",
    "In the code above, ``Car`` is a *class*, ``car1`` is an *object*."
   ]
  },
  {
   "cell_type": "markdown",
   "id": "a713baf2",
   "metadata": {},
   "source": [
    "Now we are ready to create a list of cars.\n",
    "\n",
    "Hold on a second! **Why not making a class that represent a parking lot?**"
   ]
  },
  {
   "cell_type": "code",
   "execution_count": null,
   "id": "eae9747a",
   "metadata": {},
   "outputs": [],
   "source": [
    "class ParkingLot:\n",
    "    def __init__(self):\n",
    "        self.cars = []\n",
    "    \n",
    "    def add_car(self, car):\n",
    "        self.cars.append(car)\n",
    "\n",
    "    def find_car(self, car):\n",
    "        assert car in self.cars\n",
    "        return self.cars.index(car)\n",
    "        \n",
    "    def sell_car(self, car):\n",
    "        i = self.find_car(car)\n",
    "        self.cars[i].sold = True\n",
    "        \n",
    "    def remove_car(self, car):\n",
    "        self.cars.remove(car)\n",
    "    \n",
    "    def list_cars(self):\n",
    "        for car in self.cars:\n",
    "            print(car.display())\n",
    "\n",
    "    def list_electric_cars(self):\n",
    "        for car in self.cars:\n",
    "            if car.is_electric():\n",
    "                print(car.display())\n",
    "                \n",
    "\n",
    "car1 = Car(\"Honda\", \"Civic\", 2015, 15000, False, False)\n",
    "car2 = Car(model=\"Mustang\", maker=\"Ford\", year=1985, price=25000, sold=False)\n",
    "car3 = Car(\"Fiat\", \"500\", 2024, 25000, False, True)\n",
    "car4 = Car(\"Toyota\", \"Corolla\", 2019, 10000, False, False)\n",
    "\n",
    "# fill the parking lot\n",
    "lot = ParkingLot()\n",
    "lot.add_car(car1)\n",
    "lot.add_car(car2)\n",
    "lot.add_car(car3)\n",
    "lot.add_car(car4)\n",
    "\n",
    "# sell the Mustang\n",
    "lot.sell_car(car2)\n",
    "\n",
    "print(\"Current inventory:\")\n",
    "lot.list_cars()\n",
    "print()\n",
    "\n",
    "# remove the Mustang\n",
    "lot.remove_car(car2)\n",
    "print(\"After removing a car:\")\n",
    "lot.list_cars()\n",
    "print()\n",
    "\n",
    "print(\"Electric cars:\")\n",
    "lot.list_electric_cars()"
   ]
  },
  {
   "cell_type": "markdown",
   "id": "48ba576a",
   "metadata": {},
   "source": [
    "We have created a `ParkingLot` class that behaves similar to a **list**, i.e. we can add and remove item. But it is more than a list, because we added methods that are specific to it."
   ]
  },
  {
   "cell_type": "markdown",
   "id": "d00ebd23",
   "metadata": {},
   "source": [
    "## Benefits of the class-based approach\n",
    "\n",
    "* **Organization and Encapsulation**: All the data and functionality related to a car are encapsulated within the `Car` class. This makes the code easier to read and understand. When you see `car.display()`, you know exactly what is happening and on which object.\n",
    "* **Modularity**: We can easily create a list of car objects to manage our entire inventory. For instance, the `ParkingLot` class holds a list of `Car` objects and have methods to add or remove cars, or find a car by its model.\n",
    "* **Maintainability**: If the car dealer changes their pricing logic, you only need to add or update function methods in one place: in the `Car` class definition. This change will automatically apply to every `Car` object, eliminating the risk of inconsistent updates across your codebase.\n",
    "* **Scalability**: Adding a new type of data, like a car's color, is as simple as adding a new attribute and updating the `__init__` method. The class structure scales effortlessly as your application grows in complexity.\n",
    "\n",
    "By using classes, we transform a disorganized collection of variables and functions into a structured, object-oriented system that is robust, easy to manage, and ready for future expansion."
   ]
  },
  {
   "cell_type": "markdown",
   "id": "59058460",
   "metadata": {},
   "source": [
    "### Exercise 1: CountDown class\n",
    "Create a `CountDown` class that takes a positive integer meaning the number of seconds to countdown. Add a `.tick()` method to print and decrease the internal counter, until you reach zero. Add a `.reset()` method that stops and resets the coundown."
   ]
  },
  {
   "cell_type": "code",
   "execution_count": null,
   "id": "89f17051",
   "metadata": {},
   "outputs": [],
   "source": [
    "class CountDown:\n",
    "    # insert code here: __init__, tick, reset\n",
    "    "
   ]
  },
  {
   "cell_type": "code",
   "execution_count": null,
   "id": "85505178",
   "metadata": {},
   "outputs": [],
   "source": [
    "c = CountDown()\n",
    "\n",
    "for i in range(12):\n",
    "    c.tick()"
   ]
  },
  {
   "cell_type": "code",
   "execution_count": null,
   "id": "d30a7cde",
   "metadata": {},
   "outputs": [],
   "source": [
    "c.reset(5)\n",
    "c.tick()\n",
    "c.tick()"
   ]
  },
  {
   "cell_type": "markdown",
   "id": "1711b100",
   "metadata": {},
   "source": [
    "### Exercise 2: Bank account\n",
    "Write a `BankAccount` class that starts with the owner's name and initial balance. Write a `.deposit()` and a `.withdraw()` method checking that your balance is positive."
   ]
  },
  {
   "cell_type": "code",
   "execution_count": null,
   "id": "06cc5c6e",
   "metadata": {},
   "outputs": [],
   "source": [
    "class BankAccount:\n",
    "    # insert code here: __init__, deposit, withdraw\n"
   ]
  },
  {
   "cell_type": "code",
   "execution_count": null,
   "id": "cc262587",
   "metadata": {},
   "outputs": [],
   "source": [
    "# Example\n",
    "acc = BankAccount(\"Alice\", 100)\n",
    "print(acc.deposit(50))\n",
    "print(acc.withdraw(30))\n",
    "print(acc.withdraw(200))"
   ]
  },
  {
   "cell_type": "markdown",
   "id": "debc5fe6",
   "metadata": {},
   "source": [
    "### Exercise 3: Molecule class\n",
    "Create a `Molecule` class that can store atoms and coordinates, read/write them from/to a file to file, in XYZ format. The XYZ format is a text file like this:\n",
    "```\n",
    "<number of atoms>\n",
    "<optional comment line>\n",
    "<Element> x y z\n",
    "<Element> x y z\n",
    "```\n",
    "The XYZ format can be visualized with many programs, like JMol, VESTA, Avogadro..."
   ]
  },
  {
   "cell_type": "code",
   "execution_count": null,
   "id": "e85f4b03",
   "metadata": {},
   "outputs": [],
   "source": [
    "class Molecule:\n",
    "    def __init__(self, name=\"\"):\n",
    "        # insert code here\n",
    "        \n",
    "    def add_atom(self, element, x, y, z):\n",
    "        # insert code here\n",
    "        \n",
    "    def number_of_atoms(self):\n",
    "        # insert code here\n",
    "\n",
    "    def from_xyz(self, filename):\n",
    "        # insert code here\n",
    "\n",
    "    def to_xyz(self, filename):\n",
    "        # insert code here"
   ]
  },
  {
   "cell_type": "code",
   "execution_count": null,
   "id": "c22f3bd6",
   "metadata": {},
   "outputs": [],
   "source": [
    "mol = Molecule(\"Water\")\n",
    "mol.add_atom(\"O\", 0.0, 0.0, 0.0)\n",
    "mol.add_atom(\"H\", 0.96, 0.0, 0.0)\n",
    "mol.add_atom(\"H\", -0.24, 0.93, 0.0)\n",
    "\n",
    "mol.to_xyz(\"water.xyz\")"
   ]
  },
  {
   "cell_type": "code",
   "execution_count": null,
   "id": "a0517528",
   "metadata": {},
   "outputs": [],
   "source": [
    "#!jmol water.xyz"
   ]
  },
  {
   "cell_type": "code",
   "execution_count": null,
   "id": "d4be9ea9",
   "metadata": {},
   "outputs": [],
   "source": [
    "mol.from_xyz('benzene.xyz')\n",
    "print(mol.atoms)"
   ]
  },
  {
   "cell_type": "markdown",
   "id": "49937452",
   "metadata": {},
   "source": [
    "### Exercise 4: extend the molecule class\n",
    "* add a `get_formula(self)` method that returns a string with the brute formula, e.g. `'C6H6'`\n",
    "* add a method to calculate the geometrical center of the molecule\n",
    "* add a method `translate(self, dx, dy, dz)` that translates the molecule in space\n",
    "* add a method `center(self)` that translates the center of the molecule to the origin, using the previous two methods\n",
    "* add a method `rotate_x(self, angle)` that rotates the molecule around the *x* axis; do the same for *y* and *z*"
   ]
  },
  {
   "cell_type": "code",
   "execution_count": null,
   "id": "2ca8c816",
   "metadata": {},
   "outputs": [],
   "source": [
    "# copy class Molecule from one of the cell above and add methods\n"
   ]
  },
  {
   "cell_type": "code",
   "execution_count": null,
   "id": "74a0935c",
   "metadata": {},
   "outputs": [],
   "source": [
    "# test the new methods on benzene.xyz and water.xyz\n"
   ]
  }
 ],
 "metadata": {
  "kernelspec": {
   "display_name": "Python 3 (ipykernel)",
   "language": "python",
   "name": "python3"
  },
  "language_info": {
   "codemirror_mode": {
    "name": "ipython",
    "version": 3
   },
   "file_extension": ".py",
   "mimetype": "text/x-python",
   "name": "python",
   "nbconvert_exporter": "python",
   "pygments_lexer": "ipython3",
   "version": "3.11.2"
  }
 },
 "nbformat": 4,
 "nbformat_minor": 5
}
